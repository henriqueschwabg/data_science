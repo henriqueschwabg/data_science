{
 "cells": [
  {
   "cell_type": "markdown",
   "metadata": {},
   "source": [
    "# Analisando os dados do Airbnb - Madrid"
   ]
  },
  {
   "cell_type": "markdown",
   "metadata": {},
   "source": [
    "O [Airbnb](https://www.airbnb.com.br/) é considerado a maior empresa hoteleira da atualidade. Ah, o detalhe é que ela não possui nenhum hotel! Conectando pessoas que querem viajar (e se hospedar) com anfitriões que querem alugar seus imóveis de maneira prática, o Airbnb fornece uma plataforma inovadora para possibilitar essa hospedagem alternativa. No final de 2018, a Startup fundada há 10 anos já havia hospedado mais de 300 milhões de pessoas ao redor de todo o mundo, desafiando as redes hoteleiras tradicionais.\n",
    "\n",
    "Uma das iniciativas do Airbnb é disponibilizar dados do seu site referentes a algumas das principais cidades do mundo. Por meio do portal [Inside Airbnb](http://insideairbnb.com/get-the-data.html), é possível baixar uma grande quantidade de dados para desenvolver projetos e soluções de *Data Science*.\n",
    "<center>\n",
    "    <img alt=\"Airbnb\" width=\"10%\" src=\"https://www.area360.com.au/wp-content/uploads/2017/09/airbnb-logo.jpg\"></center>"
   ]
  },
  {
   "cell_type": "markdown",
   "metadata": {},
   "source": [
    "Nesta leitura, iremos analisar os dados do Airbnb referentes à cidade de Madrid e descobrir quais informações podemos obter caso quisermos alugar um imóvel para desfrutarmos desta belíssima cidade.\n",
    "<center>\n",
    "    <img alt=\"Plaza Mayor - Madrid\" width=\"50%\" src=\"img/plaza.jpg\" />\n",
    "</center>"
   ]
  },
  {
   "cell_type": "markdown",
   "metadata": {},
   "source": [
    "Antes de começarmos esta análise, iremos carregar os nossos dados. Todos os dados utilizados foram obtidos a partir do portal [Inside Airbnb](http://insideairbnb.com/get-the-data.html). Começaremos, então, importando a biblioteca Pandas, do Python, e lendo o nosso arquivo."
   ]
  },
  {
   "cell_type": "code",
   "execution_count": 1,
   "metadata": {},
   "outputs": [],
   "source": [
    "# importando a biblioteca pandas e lendo o arquivo csv\n",
    "\n",
    "import pandas as pd\n",
    "\n",
    "file = 'datasets/listings.csv'\n",
    "df = pd.read_csv(file)"
   ]
  },
  {
   "cell_type": "markdown",
   "metadata": {},
   "source": [
    "Utilizaremos a função ‘head()’ para visualizarmos somente as primeiras 5 linhas."
   ]
  },
  {
   "cell_type": "code",
   "execution_count": 2,
   "metadata": {},
   "outputs": [
    {
     "data": {
      "text/html": [
       "<div>\n",
       "<style scoped>\n",
       "    .dataframe tbody tr th:only-of-type {\n",
       "        vertical-align: middle;\n",
       "    }\n",
       "\n",
       "    .dataframe tbody tr th {\n",
       "        vertical-align: top;\n",
       "    }\n",
       "\n",
       "    .dataframe thead th {\n",
       "        text-align: right;\n",
       "    }\n",
       "</style>\n",
       "<table border=\"1\" class=\"dataframe\">\n",
       "  <thead>\n",
       "    <tr style=\"text-align: right;\">\n",
       "      <th></th>\n",
       "      <th>id</th>\n",
       "      <th>name</th>\n",
       "      <th>host_id</th>\n",
       "      <th>host_name</th>\n",
       "      <th>neighbourhood_group</th>\n",
       "      <th>neighbourhood</th>\n",
       "      <th>latitude</th>\n",
       "      <th>longitude</th>\n",
       "      <th>room_type</th>\n",
       "      <th>price</th>\n",
       "      <th>minimum_nights</th>\n",
       "      <th>number_of_reviews</th>\n",
       "      <th>last_review</th>\n",
       "      <th>reviews_per_month</th>\n",
       "      <th>calculated_host_listings_count</th>\n",
       "      <th>availability_365</th>\n",
       "    </tr>\n",
       "  </thead>\n",
       "  <tbody>\n",
       "    <tr>\n",
       "      <th>0</th>\n",
       "      <td>6369</td>\n",
       "      <td>Rooftop terrace room ,  ensuite bathroom</td>\n",
       "      <td>13660</td>\n",
       "      <td>Simon</td>\n",
       "      <td>Chamartín</td>\n",
       "      <td>Hispanoamérica</td>\n",
       "      <td>40.45724</td>\n",
       "      <td>-3.67688</td>\n",
       "      <td>Private room</td>\n",
       "      <td>70</td>\n",
       "      <td>1</td>\n",
       "      <td>75</td>\n",
       "      <td>2020-02-29</td>\n",
       "      <td>0.61</td>\n",
       "      <td>1</td>\n",
       "      <td>90</td>\n",
       "    </tr>\n",
       "    <tr>\n",
       "      <th>1</th>\n",
       "      <td>21853</td>\n",
       "      <td>Bright and airy room</td>\n",
       "      <td>83531</td>\n",
       "      <td>Abdel</td>\n",
       "      <td>Latina</td>\n",
       "      <td>Cármenes</td>\n",
       "      <td>40.40341</td>\n",
       "      <td>-3.74084</td>\n",
       "      <td>Private room</td>\n",
       "      <td>30</td>\n",
       "      <td>4</td>\n",
       "      <td>33</td>\n",
       "      <td>2018-07-15</td>\n",
       "      <td>0.48</td>\n",
       "      <td>2</td>\n",
       "      <td>0</td>\n",
       "    </tr>\n",
       "    <tr>\n",
       "      <th>2</th>\n",
       "      <td>23001</td>\n",
       "      <td>Apartmento Arganzuela- Madrid Rio</td>\n",
       "      <td>82175</td>\n",
       "      <td>Jesus</td>\n",
       "      <td>Arganzuela</td>\n",
       "      <td>Legazpi</td>\n",
       "      <td>40.38695</td>\n",
       "      <td>-3.69304</td>\n",
       "      <td>Entire home/apt</td>\n",
       "      <td>50</td>\n",
       "      <td>15</td>\n",
       "      <td>0</td>\n",
       "      <td>NaN</td>\n",
       "      <td>NaN</td>\n",
       "      <td>7</td>\n",
       "      <td>365</td>\n",
       "    </tr>\n",
       "    <tr>\n",
       "      <th>3</th>\n",
       "      <td>24836</td>\n",
       "      <td>Select the Madrid more \"cool\".</td>\n",
       "      <td>101653</td>\n",
       "      <td>Tenty</td>\n",
       "      <td>Centro</td>\n",
       "      <td>Justicia</td>\n",
       "      <td>40.41995</td>\n",
       "      <td>-3.69764</td>\n",
       "      <td>Entire home/apt</td>\n",
       "      <td>115</td>\n",
       "      <td>3</td>\n",
       "      <td>68</td>\n",
       "      <td>2020-01-26</td>\n",
       "      <td>0.62</td>\n",
       "      <td>1</td>\n",
       "      <td>1</td>\n",
       "    </tr>\n",
       "    <tr>\n",
       "      <th>4</th>\n",
       "      <td>26825</td>\n",
       "      <td>Single Room whith private Bathroom</td>\n",
       "      <td>114340</td>\n",
       "      <td>Agustina</td>\n",
       "      <td>Arganzuela</td>\n",
       "      <td>Legazpi</td>\n",
       "      <td>40.38985</td>\n",
       "      <td>-3.69011</td>\n",
       "      <td>Private room</td>\n",
       "      <td>25</td>\n",
       "      <td>2</td>\n",
       "      <td>149</td>\n",
       "      <td>2020-03-12</td>\n",
       "      <td>1.22</td>\n",
       "      <td>1</td>\n",
       "      <td>332</td>\n",
       "    </tr>\n",
       "  </tbody>\n",
       "</table>\n",
       "</div>"
      ],
      "text/plain": [
       "      id                                      name  host_id host_name  \\\n",
       "0   6369  Rooftop terrace room ,  ensuite bathroom    13660     Simon   \n",
       "1  21853                      Bright and airy room    83531     Abdel   \n",
       "2  23001         Apartmento Arganzuela- Madrid Rio    82175     Jesus   \n",
       "3  24836            Select the Madrid more \"cool\".   101653     Tenty   \n",
       "4  26825        Single Room whith private Bathroom   114340  Agustina   \n",
       "\n",
       "  neighbourhood_group   neighbourhood  latitude  longitude        room_type  \\\n",
       "0           Chamartín  Hispanoamérica  40.45724   -3.67688     Private room   \n",
       "1              Latina        Cármenes  40.40341   -3.74084     Private room   \n",
       "2          Arganzuela         Legazpi  40.38695   -3.69304  Entire home/apt   \n",
       "3              Centro        Justicia  40.41995   -3.69764  Entire home/apt   \n",
       "4          Arganzuela         Legazpi  40.38985   -3.69011     Private room   \n",
       "\n",
       "   price  minimum_nights  number_of_reviews last_review  reviews_per_month  \\\n",
       "0     70               1                 75  2020-02-29               0.61   \n",
       "1     30               4                 33  2018-07-15               0.48   \n",
       "2     50              15                  0         NaN                NaN   \n",
       "3    115               3                 68  2020-01-26               0.62   \n",
       "4     25               2                149  2020-03-12               1.22   \n",
       "\n",
       "   calculated_host_listings_count  availability_365  \n",
       "0                               1                90  \n",
       "1                               2                 0  \n",
       "2                               7               365  \n",
       "3                               1                 1  \n",
       "4                               1               332  "
      ]
     },
     "execution_count": 2,
     "metadata": {},
     "output_type": "execute_result"
    }
   ],
   "source": [
    "# visualizando as 5 primeiras linhas do arquivo \n",
    "\n",
    "df.head()"
   ]
  },
  {
   "cell_type": "markdown",
   "metadata": {},
   "source": [
    "Visualizando as 5 primeiras linhas, conseguimos entender quais são os tipos de informações que estão em nosso arquivo. Porém, para obtermos um melhor entendimento, vamos visualizar o dicionário de dados com a descrição de cada coluna:\n",
    "* id - Número de identificação gerado para o imóvel\n",
    "* name - Nome da propriedade anunciada\n",
    "* host_id - Número de identificação do proprietário (anfitrião) da propriedade\n",
    "* host_name - Nome do anfitrião\n",
    "* neighbourhood_group - Nome do grupo de bairro (região)\n",
    "* neighbourhood - Nome do bairro\n",
    "* latitude - Coordenada da latitude da propriedade\n",
    "* longitude - Coordenada da longitude da propriedade\n",
    "* room_type - Tipo de acomodação que é oferecida\n",
    "* price - Preço para alugar o imóvel\n",
    "* minimum_nights - Quantidade mínima de noites para reservar\n",
    "* number_of_reviews - Número de reviews que a propriedade possui\n",
    "* last_review - Data do último review\n",
    "* reviews_per_month - Quantidade de reviews por mês\n",
    "* calculated_host_listings_count - Quantidade de imóveis do mesmo anfitrião\n",
    "* availability_365 - Número de dias de disponibilidade dentro de 365 dias"
   ]
  },
  {
   "cell_type": "markdown",
   "metadata": {},
   "source": [
    "Vamos prosseguir e identificar a quantidade de entradas que nosso conjunto de dados possui e ver os tipos de dados de cada coluna."
   ]
  },
  {
   "cell_type": "code",
   "execution_count": 3,
   "metadata": {},
   "outputs": [
    {
     "name": "stdout",
     "output_type": "stream",
     "text": [
      "Linhas: 21739\n",
      "Colunas: 16\n"
     ]
    },
    {
     "data": {
      "text/plain": [
       "id                                  int64\n",
       "name                               object\n",
       "host_id                             int64\n",
       "host_name                          object\n",
       "neighbourhood_group                object\n",
       "neighbourhood                      object\n",
       "latitude                          float64\n",
       "longitude                         float64\n",
       "room_type                          object\n",
       "price                               int64\n",
       "minimum_nights                      int64\n",
       "number_of_reviews                   int64\n",
       "last_review                        object\n",
       "reviews_per_month                 float64\n",
       "calculated_host_listings_count      int64\n",
       "availability_365                    int64\n",
       "dtype: object"
      ]
     },
     "execution_count": 3,
     "metadata": {},
     "output_type": "execute_result"
    }
   ],
   "source": [
    "# imprimindo o número de linhas e colunas do nosso conjunto de dados\n",
    "# visualizando os tipos de dados de cada coluna\n",
    "\n",
    "print(f\"Linhas: {df.shape[0]}\")\n",
    "print(f\"Colunas: {df.shape[1]}\")\n",
    "\n",
    "df.dtypes"
   ]
  },
  {
   "cell_type": "markdown",
   "metadata": {},
   "source": [
    "A qualidade de um conjunto de dados está diretamente relacionada à quantidade de valores ausentes. É importante entendermos logo no início se esses valores nulos são significativos comparados ao total de entradas."
   ]
  },
  {
   "cell_type": "code",
   "execution_count": 4,
   "metadata": {},
   "outputs": [
    {
     "data": {
      "text/plain": [
       "reviews_per_month                 23.29914\n",
       "last_review                       23.29914\n",
       "host_name                          0.01380\n",
       "name                               0.01380\n",
       "availability_365                   0.00000\n",
       "calculated_host_listings_count     0.00000\n",
       "number_of_reviews                  0.00000\n",
       "minimum_nights                     0.00000\n",
       "price                              0.00000\n",
       "room_type                          0.00000\n",
       "longitude                          0.00000\n",
       "latitude                           0.00000\n",
       "neighbourhood                      0.00000\n",
       "neighbourhood_group                0.00000\n",
       "host_id                            0.00000\n",
       "id                                 0.00000\n",
       "dtype: float64"
      ]
     },
     "execution_count": 4,
     "metadata": {},
     "output_type": "execute_result"
    }
   ],
   "source": [
    "# visualizando a quantidade (porcentagem) de valores ausentes por coluna\n",
    "\n",
    "((df.isnull().sum() / df.shape[0]) * 100).sort_values(ascending = False)"
   ]
  },
  {
   "cell_type": "markdown",
   "metadata": {},
   "source": [
    "Podemos ver que as colunas *reviews_per_month* e *last_review* possuem mais de 23% dos seus valores ausentes. Uma das formas de contornarmos a ausência destes dados, por exemplo, na coluna *reviews_per_month*, é preenchendo as linhas onde estes dados estão ausentes com a média, ou a mediana, de todas as linhas em que este dado está presente; porém cada caso tem que ser analisado separadamente para sabermos se é melhor preenchê-las ou removê-las. Vamos usar a função ‘describe()’ para obtermos um resumo estatístico de nossos dados numéricos."
   ]
  },
  {
   "cell_type": "code",
   "execution_count": 5,
   "metadata": {},
   "outputs": [
    {
     "data": {
      "text/html": [
       "<div>\n",
       "<style scoped>\n",
       "    .dataframe tbody tr th:only-of-type {\n",
       "        vertical-align: middle;\n",
       "    }\n",
       "\n",
       "    .dataframe tbody tr th {\n",
       "        vertical-align: top;\n",
       "    }\n",
       "\n",
       "    .dataframe thead th {\n",
       "        text-align: right;\n",
       "    }\n",
       "</style>\n",
       "<table border=\"1\" class=\"dataframe\">\n",
       "  <thead>\n",
       "    <tr style=\"text-align: right;\">\n",
       "      <th></th>\n",
       "      <th>price</th>\n",
       "      <th>minimum_nights</th>\n",
       "      <th>number_of_reviews</th>\n",
       "      <th>reviews_per_month</th>\n",
       "      <th>calculated_host_listings_count</th>\n",
       "      <th>availability_365</th>\n",
       "    </tr>\n",
       "  </thead>\n",
       "  <tbody>\n",
       "    <tr>\n",
       "      <th>count</th>\n",
       "      <td>21739.000000</td>\n",
       "      <td>21739.000000</td>\n",
       "      <td>21739.000000</td>\n",
       "      <td>16674.000000</td>\n",
       "      <td>21739.000000</td>\n",
       "      <td>21739.000000</td>\n",
       "    </tr>\n",
       "    <tr>\n",
       "      <th>mean</th>\n",
       "      <td>165.105387</td>\n",
       "      <td>5.312894</td>\n",
       "      <td>36.998298</td>\n",
       "      <td>1.630527</td>\n",
       "      <td>14.638070</td>\n",
       "      <td>170.737338</td>\n",
       "    </tr>\n",
       "    <tr>\n",
       "      <th>std</th>\n",
       "      <td>554.708399</td>\n",
       "      <td>25.299401</td>\n",
       "      <td>66.826552</td>\n",
       "      <td>1.733532</td>\n",
       "      <td>39.763124</td>\n",
       "      <td>141.622838</td>\n",
       "    </tr>\n",
       "    <tr>\n",
       "      <th>min</th>\n",
       "      <td>0.000000</td>\n",
       "      <td>1.000000</td>\n",
       "      <td>0.000000</td>\n",
       "      <td>0.010000</td>\n",
       "      <td>1.000000</td>\n",
       "      <td>0.000000</td>\n",
       "    </tr>\n",
       "    <tr>\n",
       "      <th>25%</th>\n",
       "      <td>39.000000</td>\n",
       "      <td>1.000000</td>\n",
       "      <td>1.000000</td>\n",
       "      <td>0.340000</td>\n",
       "      <td>1.000000</td>\n",
       "      <td>5.000000</td>\n",
       "    </tr>\n",
       "    <tr>\n",
       "      <th>50%</th>\n",
       "      <td>64.000000</td>\n",
       "      <td>2.000000</td>\n",
       "      <td>8.000000</td>\n",
       "      <td>1.000000</td>\n",
       "      <td>2.000000</td>\n",
       "      <td>166.000000</td>\n",
       "    </tr>\n",
       "    <tr>\n",
       "      <th>75%</th>\n",
       "      <td>100.000000</td>\n",
       "      <td>3.000000</td>\n",
       "      <td>42.000000</td>\n",
       "      <td>2.420000</td>\n",
       "      <td>7.000000</td>\n",
       "      <td>335.000000</td>\n",
       "    </tr>\n",
       "    <tr>\n",
       "      <th>max</th>\n",
       "      <td>9999.000000</td>\n",
       "      <td>1125.000000</td>\n",
       "      <td>661.000000</td>\n",
       "      <td>32.840000</td>\n",
       "      <td>239.000000</td>\n",
       "      <td>365.000000</td>\n",
       "    </tr>\n",
       "  </tbody>\n",
       "</table>\n",
       "</div>"
      ],
      "text/plain": [
       "              price  minimum_nights  number_of_reviews  reviews_per_month  \\\n",
       "count  21739.000000    21739.000000       21739.000000       16674.000000   \n",
       "mean     165.105387        5.312894          36.998298           1.630527   \n",
       "std      554.708399       25.299401          66.826552           1.733532   \n",
       "min        0.000000        1.000000           0.000000           0.010000   \n",
       "25%       39.000000        1.000000           1.000000           0.340000   \n",
       "50%       64.000000        2.000000           8.000000           1.000000   \n",
       "75%      100.000000        3.000000          42.000000           2.420000   \n",
       "max     9999.000000     1125.000000         661.000000          32.840000   \n",
       "\n",
       "       calculated_host_listings_count  availability_365  \n",
       "count                    21739.000000      21739.000000  \n",
       "mean                        14.638070        170.737338  \n",
       "std                         39.763124        141.622838  \n",
       "min                          1.000000          0.000000  \n",
       "25%                          1.000000          5.000000  \n",
       "50%                          2.000000        166.000000  \n",
       "75%                          7.000000        335.000000  \n",
       "max                        239.000000        365.000000  "
      ]
     },
     "execution_count": 5,
     "metadata": {},
     "output_type": "execute_result"
    }
   ],
   "source": [
    "# obtendo o resumo estatístico dos dados numéricos\n",
    "\n",
    "df[['price', 'minimum_nights', 'number_of_reviews', 'reviews_per_month', \n",
    "    'calculated_host_listings_count', 'availability_365']].describe()"
   ]
  },
  {
   "cell_type": "markdown",
   "metadata": {},
   "source": [
    "Olhando o resumo estatístico acima, notamos que:\n",
    "* A média de preço (*price*) para alugar um imóvel é 165;\n",
    "* A mediana de preço é 64;\n",
    "* O valor máximo de preço é 9999;\n",
    "* O valor mínimo de preço é 0;\n",
    "* O desvio-padrão de preço é em torno de 554;\n",
    "* A média do mínimo de noites (*minimum_nights*) é 5;\n",
    "* A mediana do número de noites é 2;\n",
    "* O valor máximo do mínimo de noites é 1125;\n",
    "* O valor mínimo do número de noites é 1;\n",
    "* O desvio-padrão do mínimo de noites é de 25."
   ]
  },
  {
   "cell_type": "markdown",
   "metadata": {},
   "source": [
    "Para entendermos melhor como nossos dados estão distribuídos, vamos utilizar histogramas para as colunas *price* e *minimum_nights*."
   ]
  },
  {
   "cell_type": "code",
   "execution_count": 6,
   "metadata": {},
   "outputs": [
    {
     "data": {
      "image/png": "[encoded data removed]",
      "text/plain": [
       "<Figure size 432x288 with 1 Axes>"
      ]
     },
     "metadata": {
      "needs_background": "light"
     },
     "output_type": "display_data"
    }
   ],
   "source": [
    "# visualizando um histograma com os dados da coluna price\n",
    "\n",
    "df.price.hist();"
   ]
  },
  {
   "cell_type": "code",
   "execution_count": 7,
   "metadata": {},
   "outputs": [
    {
     "data": {
      "image/png": "[encoded data removed]",
      "text/plain": [
       "<Figure size 432x288 with 1 Axes>"
      ]
     },
     "metadata": {
      "needs_background": "light"
     },
     "output_type": "display_data"
    }
   ],
   "source": [
    "# visualizando um histograma com os dados da coluna minimum_nights\n",
    "\n",
    "df.minimum_nights.hist();"
   ]
  },
  {
   "cell_type": "markdown",
   "metadata": {},
   "source": [
    "Após o resumo estatístico e a visualização dos histogramas, temos como afirmar que possuímos valores que destoam dos demais e que também interferem na nossa representação gráfica. Utilizando gráficos no formato de caixa (*boxplot*), podemos ver melhor os valores mais discrepantes, que chamamos de *outliers*."
   ]
  },
  {
   "cell_type": "code",
   "execution_count": 8,
   "metadata": {},
   "outputs": [
    {
     "data": {
      "image/png": "[encoded data removed]",
      "text/plain": [
       "<Figure size 1080x216 with 1 Axes>"
      ]
     },
     "metadata": {
      "needs_background": "light"
     },
     "output_type": "display_data"
    }
   ],
   "source": [
    "# visualizando um boxplot com os dados da coluna price\n",
    "\n",
    "df.price.plot(kind='box', vert=False, figsize=(15, 3),);"
   ]
  },
  {
   "cell_type": "code",
   "execution_count": 9,
   "metadata": {},
   "outputs": [
    {
     "data": {
      "image/png": "[encoded data removed]",
      "text/plain": [
       "<Figure size 1080x216 with 1 Axes>"
      ]
     },
     "metadata": {
      "needs_background": "light"
     },
     "output_type": "display_data"
    }
   ],
   "source": [
    "# visualizando um boxplot com os dados da coluna minimum_nights\n",
    "\n",
    "df.minimum_nights.plot(kind='box', vert=False, figsize=(15, 3),);"
   ]
  },
  {
   "cell_type": "markdown",
   "metadata": {},
   "source": [
    "**Regra 1.5xIQR (Interquartile Range)**\n",
    "\n",
    "Os estatísticos desenvolveram diversas maneiras de identificar o que pode e o que não pode ser considerado um outlier. Uma regra bastante usada afirma que um dado é um outlier quando ele é maior que 1.5 x IQR acima do terceiro quartil (Q3) ou abaixo do primeiro quartil (Q1). O IQR é a diferença entre o terceiro e o primeiro quartil. Segundo o cálculo, preços superiores a 191.5 podem ser considerados *outliers*."
   ]
  },
  {
   "cell_type": "code",
   "execution_count": 10,
   "metadata": {},
   "outputs": [
    {
     "name": "stdout",
     "output_type": "stream",
     "text": [
      "-52.5\n",
      "191.5\n"
     ]
    }
   ],
   "source": [
    "# aplicando a regra do 1.5xIQR\n",
    "\n",
    "Q1 = df['price'].quantile(q = 0.25)\n",
    "Q3 = df['price'].quantile(q = 0.75)\n",
    "IQR = Q3 - Q1\n",
    "\n",
    "lower = (Q1 - 1.5 * IQR)\n",
    "upper = (Q3 + 1.5 * IQR)\n",
    "\n",
    "print(lower)\n",
    "print(upper)"
   ]
  },
  {
   "cell_type": "markdown",
   "metadata": {},
   "source": [
    "Podemos ver que temos 255 imóveis que exigem um mínimo de mais de 30 noites e 2518 que custam mais de 191.5 *euros* a diária."
   ]
  },
  {
   "cell_type": "code",
   "execution_count": 11,
   "metadata": {},
   "outputs": [
    {
     "name": "stdout",
     "output_type": "stream",
     "text": [
      "Quantidade de registros no conjunto de dados: 21739 entradas\n",
      "Mínimo de noites superior a 30: 255 entradas\n",
      "Preço superior a 191.5: 2518 entradas\n"
     ]
    }
   ],
   "source": [
    "# imprimindo a quantidade de registros do conjunto de dados, a de registros com o mínimo de noites superior a 30 e a de registros com o preço superior a 191.5\n",
    "\n",
    "print(f\"Quantidade de registros no conjunto de dados: {df.shape[0]} entradas\")\n",
    "print(f\"Mínimo de noites superior a 30: {len(df[df.minimum_nights > 30])} entradas\")\n",
    "print(f\"Preço superior a 191.5: {len(df[df.price > 191.5])} entradas\")"
   ]
  },
  {
   "cell_type": "markdown",
   "metadata": {},
   "source": [
    "Para melhorarmos nossa análise, decidimos por remover as linhas que possuem registros da coluna *minimum_nights* superiores a 30 (1 mês) e da coluna *price* superiores a 191.5 (baseado na regra 1.5xIQR). Desta forma, iremos analisar os imóveis que custam até 191.5 *euros* para alugar e os que não exigem um mínimo de mais de 30 noites para a realização da hospedagem. Antes de remover, criaremos uma cópia dos nossos dados para podermos continuar a análise, sem interferirmos nos dados originais. Se decidirmos, por exemplo, que faremos uma nova análise com um número diferente de *minimum_nights* e de *price*, podemos criar uma nova cópia dos nossos dados originais, que não tiveram valores alterados ou removidos."
   ]
  },
  {
   "cell_type": "code",
   "execution_count": 12,
   "metadata": {},
   "outputs": [],
   "source": [
    "# criando uma cópia dos dados originais e removendo os dados que decidimos eliminar\n",
    "\n",
    "df_clean = df.copy()\n",
    "df_clean.drop(df_clean[df_clean.price > 191.5].index, axis=0, inplace=True)\n",
    "df_clean.drop(df_clean[df_clean.minimum_nights > 30].index, axis=0, inplace=True)"
   ]
  },
  {
   "cell_type": "markdown",
   "metadata": {},
   "source": [
    "Agora vamos falar sobre os tipos de imóveis mais alugados em Madrid pelo Airbnb. A coluna *room_type* indica o tipo de acomodação que está anunciada no Airbnb. Se você já alugou no site, sabe que existem opções de apartamentos e casas inteiras, apenas o aluguel de um quarto ou até mesmo dividir o quarto com outras pessoas. Vamos contar a quantidade de ocorrências de cada tipo de acomodação usando a função ‘value_counts()’."
   ]
  },
  {
   "cell_type": "code",
   "execution_count": 13,
   "metadata": {},
   "outputs": [
    {
     "data": {
      "text/plain": [
       "Entire home/apt    11531\n",
       "Private room        7004\n",
       "Shared room          286\n",
       "Hotel room           157\n",
       "Name: room_type, dtype: int64"
      ]
     },
     "execution_count": 13,
     "metadata": {},
     "output_type": "execute_result"
    }
   ],
   "source": [
    "# visualizando a quantidade de todos os tipos de acomodações oferecidas\n",
    "\n",
    "df_clean.room_type.value_counts()"
   ]
  },
  {
   "cell_type": "markdown",
   "metadata": {},
   "source": [
    "Para visualizarmos melhor, podemos também ver as mesmas informações no formato de porcentagem."
   ]
  },
  {
   "cell_type": "code",
   "execution_count": 14,
   "metadata": {},
   "outputs": [
    {
     "data": {
      "text/plain": [
       "Entire home/apt    60.759827\n",
       "Private room       36.905891\n",
       "Shared room         1.507008\n",
       "Hotel room          0.827274\n",
       "Name: room_type, dtype: float64"
      ]
     },
     "execution_count": 14,
     "metadata": {},
     "output_type": "execute_result"
    }
   ],
   "source": [
    "# visualizando a quantidade (porcentagem) de todos os tipos de acomodações oferecidas\n",
    "\n",
    "df_clean.room_type.value_counts() / df_clean.shape[0] * 100"
   ]
  },
  {
   "cell_type": "markdown",
   "metadata": {},
   "source": [
    "De acordo com esses dados, podemos dizer que 60% das ocorrências são apartamentos ou casas inteiras, 36% são quartos privados, um pouco mais de 1% é de quartos compartilhados e menos de 1% é de quartos de hotéis."
   ]
  },
  {
   "cell_type": "markdown",
   "metadata": {},
   "source": [
    "**Qual a média de preço do Airbnb em Madrid?**"
   ]
  },
  {
   "cell_type": "markdown",
   "metadata": {},
   "source": [
    "Digamos que você esteja indo a Madrid e gostaria de saber qual a média de preço para a locação de uma casa, de um apartamento ou até mesmo de apenas um quarto. Começaremos vendo a quantidade de registros por região de Madrid."
   ]
  },
  {
   "cell_type": "code",
   "execution_count": 15,
   "metadata": {},
   "outputs": [
    {
     "name": "stdout",
     "output_type": "stream",
     "text": [
      "Centro                   8748\n",
      "Salamanca                1233\n",
      "Chamberí                 1175\n",
      "Arganzuela               1104\n",
      "Tetuán                    801\n",
      "Carabanchel               647\n",
      "Puente de Vallecas        637\n",
      "Retiro                    623\n",
      "Latina                    614\n",
      "Ciudad Lineal             605\n",
      "Moncloa - Aravaca         547\n",
      "Chamartín                 488\n",
      "San Blas - Canillejas     335\n",
      "Hortaleza                 319\n",
      "Usera                     278\n",
      "Fuencarral - El Pardo     269\n",
      "Villaverde                161\n",
      "Barajas                   152\n",
      "Moratalaz                 112\n",
      "Villa de Vallecas          84\n",
      "Vicálvaro                  46\n",
      "Name: neighbourhood_group, dtype: int64\n"
     ]
    }
   ],
   "source": [
    "# visualizando a quantidade de acomodações por região\n",
    "\n",
    "print(df_clean['neighbourhood_group'].value_counts())"
   ]
  },
  {
   "cell_type": "markdown",
   "metadata": {},
   "source": [
    "Vimos que a região Centro é a que mais possui imóveis disponíveis para locação no site do Airbnb. Agora vamos ver a média de preço por região. A função ‘group_by()’ nos permite agrupar todos os preços por região e a função ‘mean()’, calcular a média de preço de cada um destes grupos. Por final, utilizamos a função ‘sort_values()’ para ordenarmos nossos dados agrupados da maior média de preço para a menor."
   ]
  },
  {
   "cell_type": "code",
   "execution_count": 16,
   "metadata": {},
   "outputs": [
    {
     "data": {
      "text/plain": [
       "neighbourhood_group\n",
       "Salamanca                76.246553\n",
       "Centro                   72.488455\n",
       "Moncloa - Aravaca        68.464351\n",
       "Chamartín                68.389344\n",
       "Retiro                   66.468700\n",
       "Chamberí                 64.073191\n",
       "Tetuán                   61.162297\n",
       "Hortaleza                60.680251\n",
       "Arganzuela               57.798007\n",
       "Fuencarral - El Pardo    53.486989\n",
       "Barajas                  53.407895\n",
       "San Blas - Canillejas    52.958209\n",
       "Ciudad Lineal            48.046281\n",
       "Carabanchel              47.185471\n",
       "Vicálvaro                46.673913\n",
       "Villa de Vallecas        46.095238\n",
       "Moratalaz                44.821429\n",
       "Latina                   44.819218\n",
       "Usera                    43.230216\n",
       "Puente de Vallecas       39.673469\n",
       "Villaverde               34.018634\n",
       "Name: price, dtype: float64"
      ]
     },
     "execution_count": 16,
     "metadata": {},
     "output_type": "execute_result"
    }
   ],
   "source": [
    "# visualizando a média de preço por região\n",
    "\n",
    "df_clean.groupby(['neighbourhood_group']).price.mean().sort_values(ascending=False)"
   ]
  },
  {
   "cell_type": "markdown",
   "metadata": {},
   "source": [
    "Visualizamos que as regiões de Salamanca e Centro possuem uma média de preço acima de 70 *euros*. Uma pessoa que não conhece Madrid pode aceitar esses resultados sem se questionar, mas, como vimos anteriormente, há regiões com muitos registros e outras com uma quantidade que pode não ser representativa quando queremos ver a média de todos os preços por região. Agora, vamos ver a média de preço para a locação de um quarto privado que custe a partir de 50 *euros* mas que não ultrapasse 120."
   ]
  },
  {
   "cell_type": "code",
   "execution_count": 17,
   "metadata": {},
   "outputs": [
    {
     "data": {
      "text/plain": [
       "neighbourhood_group\n",
       "Latina                   75.971429\n",
       "Carabanchel              75.783784\n",
       "Barajas                  73.933333\n",
       "Hortaleza                72.447368\n",
       "San Blas - Canillejas    71.584906\n",
       "Villa de Vallecas        71.428571\n",
       "Vicálvaro                70.250000\n",
       "Retiro                   68.384615\n",
       "Moncloa - Aravaca        68.350000\n",
       "Centro                   67.862963\n",
       "Villaverde               67.750000\n",
       "Arganzuela               67.686747\n",
       "Usera                    67.500000\n",
       "Moratalaz                66.428571\n",
       "Salamanca                66.284404\n",
       "Chamartín                65.657895\n",
       "Chamberí                 65.449438\n",
       "Puente de Vallecas       64.033333\n",
       "Fuencarral - El Pardo    63.709677\n",
       "Ciudad Lineal            63.486486\n",
       "Tetuán                   61.493333\n",
       "Name: price, dtype: float64"
      ]
     },
     "execution_count": 17,
     "metadata": {},
     "output_type": "execute_result"
    }
   ],
   "source": [
    "# visualizando a média de preço por região de um quarto privado e que custe a partir de 50 euros mas que não ultrapasse 120\n",
    "\n",
    "df_clean.loc[(((df_clean['price'] >= 50)\\\n",
    "               & (df_clean['price'] <= 120))\\\n",
    "               & (df_clean['room_type'] == 'Private room'))] \\\n",
    "               .groupby(['neighbourhood_group'])\\\n",
    "               .price.mean()\\\n",
    "               .sort_values(ascending=False)"
   ]
  },
  {
   "cell_type": "markdown",
   "metadata": {},
   "source": [
    "Vamos também ver a média de preço para a locação de um apartamento ou de uma casa inteira que custe a partir de 100 *euros* mas que não ultrapasse 200."
   ]
  },
  {
   "cell_type": "code",
   "execution_count": 18,
   "metadata": {},
   "outputs": [
    {
     "data": {
      "text/plain": [
       "neighbourhood_group\n",
       "Vicálvaro                151.250000\n",
       "Moncloa - Aravaca        137.475410\n",
       "Usera                    135.357143\n",
       "Salamanca                132.481605\n",
       "Tetuán                   131.155340\n",
       "Barajas                  130.500000\n",
       "Chamberí                 130.090909\n",
       "San Blas - Canillejas    130.071429\n",
       "Hortaleza                128.861111\n",
       "Fuencarral - El Pardo    128.714286\n",
       "Centro                   128.674164\n",
       "Chamartín                128.139241\n",
       "Puente de Vallecas       126.909091\n",
       "Ciudad Lineal            125.022222\n",
       "Retiro                   124.991379\n",
       "Moratalaz                124.200000\n",
       "Arganzuela               123.192661\n",
       "Carabanchel              122.769231\n",
       "Latina                   119.466667\n",
       "Villa de Vallecas        115.400000\n",
       "Villaverde               112.500000\n",
       "Name: price, dtype: float64"
      ]
     },
     "execution_count": 18,
     "metadata": {},
     "output_type": "execute_result"
    }
   ],
   "source": [
    "# visualizando a média de preço por região, de um apartamento ou de uma casa inteira e que custe a partir de 100 euros mas que não ultrapasse 200\n",
    "\n",
    "df_clean.loc[(((df_clean['price'] >= 100)\\\n",
    "               & (df_clean['price'] <= 200))\\\n",
    "               & (df_clean['room_type'] == 'Entire home/apt'))] \\\n",
    "               .groupby(['neighbourhood_group'])\\\n",
    "               .price.mean()\\\n",
    "               .sort_values(ascending=False)"
   ]
  },
  {
   "cell_type": "markdown",
   "metadata": {},
   "source": [
    "E se quisermos visualizar os imóveis do tipo casa ou apartamento inteiro na região de San Blas-Canillejas?"
   ]
  },
  {
   "cell_type": "code",
   "execution_count": 19,
   "metadata": {},
   "outputs": [
    {
     "data": {
      "text/html": [
       "<div>\n",
       "<style scoped>\n",
       "    .dataframe tbody tr th:only-of-type {\n",
       "        vertical-align: middle;\n",
       "    }\n",
       "\n",
       "    .dataframe tbody tr th {\n",
       "        vertical-align: top;\n",
       "    }\n",
       "\n",
       "    .dataframe thead th {\n",
       "        text-align: right;\n",
       "    }\n",
       "</style>\n",
       "<table border=\"1\" class=\"dataframe\">\n",
       "  <thead>\n",
       "    <tr style=\"text-align: right;\">\n",
       "      <th></th>\n",
       "      <th>id</th>\n",
       "      <th>name</th>\n",
       "      <th>host_id</th>\n",
       "      <th>host_name</th>\n",
       "      <th>neighbourhood_group</th>\n",
       "      <th>neighbourhood</th>\n",
       "      <th>latitude</th>\n",
       "      <th>longitude</th>\n",
       "      <th>room_type</th>\n",
       "      <th>price</th>\n",
       "      <th>minimum_nights</th>\n",
       "      <th>number_of_reviews</th>\n",
       "      <th>last_review</th>\n",
       "      <th>reviews_per_month</th>\n",
       "      <th>calculated_host_listings_count</th>\n",
       "      <th>availability_365</th>\n",
       "    </tr>\n",
       "  </thead>\n",
       "  <tbody>\n",
       "    <tr>\n",
       "      <th>354</th>\n",
       "      <td>797030</td>\n",
       "      <td>Cosy flat with terrace near subway</td>\n",
       "      <td>4198169</td>\n",
       "      <td>Willem</td>\n",
       "      <td>San Blas - Canillejas</td>\n",
       "      <td>Simancas</td>\n",
       "      <td>40.43638</td>\n",
       "      <td>-3.63344</td>\n",
       "      <td>Entire home/apt</td>\n",
       "      <td>45</td>\n",
       "      <td>4</td>\n",
       "      <td>228</td>\n",
       "      <td>2020-04-20</td>\n",
       "      <td>2.52</td>\n",
       "      <td>1</td>\n",
       "      <td>325</td>\n",
       "    </tr>\n",
       "    <tr>\n",
       "      <th>622</th>\n",
       "      <td>1485339</td>\n",
       "      <td>Apartamento Cerca del estadio WANDA METROPOLITANO</td>\n",
       "      <td>7943769</td>\n",
       "      <td>Javier</td>\n",
       "      <td>San Blas - Canillejas</td>\n",
       "      <td>Arcos</td>\n",
       "      <td>40.41841</td>\n",
       "      <td>-3.61466</td>\n",
       "      <td>Entire home/apt</td>\n",
       "      <td>60</td>\n",
       "      <td>3</td>\n",
       "      <td>19</td>\n",
       "      <td>2019-09-29</td>\n",
       "      <td>0.53</td>\n",
       "      <td>1</td>\n",
       "      <td>0</td>\n",
       "    </tr>\n",
       "    <tr>\n",
       "      <th>645</th>\n",
       "      <td>1595592</td>\n",
       "      <td>Aeropuerto-IFEMA-CC.Plenilunio</td>\n",
       "      <td>8508444</td>\n",
       "      <td>Ana</td>\n",
       "      <td>San Blas - Canillejas</td>\n",
       "      <td>Rejas</td>\n",
       "      <td>40.44360</td>\n",
       "      <td>-3.58781</td>\n",
       "      <td>Entire home/apt</td>\n",
       "      <td>70</td>\n",
       "      <td>5</td>\n",
       "      <td>0</td>\n",
       "      <td>NaN</td>\n",
       "      <td>NaN</td>\n",
       "      <td>1</td>\n",
       "      <td>76</td>\n",
       "    </tr>\n",
       "    <tr>\n",
       "      <th>679</th>\n",
       "      <td>1683393</td>\n",
       "      <td>SPECTACULAR LOFT OF THREE FLOORS</td>\n",
       "      <td>8901422</td>\n",
       "      <td>Valentina</td>\n",
       "      <td>San Blas - Canillejas</td>\n",
       "      <td>Simancas</td>\n",
       "      <td>40.43995</td>\n",
       "      <td>-3.61762</td>\n",
       "      <td>Entire home/apt</td>\n",
       "      <td>85</td>\n",
       "      <td>1</td>\n",
       "      <td>289</td>\n",
       "      <td>2020-03-12</td>\n",
       "      <td>3.68</td>\n",
       "      <td>2</td>\n",
       "      <td>174</td>\n",
       "    </tr>\n",
       "    <tr>\n",
       "      <th>817</th>\n",
       "      <td>2228090</td>\n",
       "      <td>Loft de diseño Madrid lujo terraza</td>\n",
       "      <td>1718458</td>\n",
       "      <td>Juan</td>\n",
       "      <td>San Blas - Canillejas</td>\n",
       "      <td>Simancas</td>\n",
       "      <td>40.43978</td>\n",
       "      <td>-3.61874</td>\n",
       "      <td>Entire home/apt</td>\n",
       "      <td>100</td>\n",
       "      <td>30</td>\n",
       "      <td>0</td>\n",
       "      <td>NaN</td>\n",
       "      <td>NaN</td>\n",
       "      <td>30</td>\n",
       "      <td>365</td>\n",
       "    </tr>\n",
       "  </tbody>\n",
       "</table>\n",
       "</div>"
      ],
      "text/plain": [
       "          id                                               name  host_id  \\\n",
       "354   797030                 Cosy flat with terrace near subway  4198169   \n",
       "622  1485339  Apartamento Cerca del estadio WANDA METROPOLITANO  7943769   \n",
       "645  1595592                     Aeropuerto-IFEMA-CC.Plenilunio  8508444   \n",
       "679  1683393                   SPECTACULAR LOFT OF THREE FLOORS  8901422   \n",
       "817  2228090                 Loft de diseño Madrid lujo terraza  1718458   \n",
       "\n",
       "     host_name    neighbourhood_group neighbourhood  latitude  longitude  \\\n",
       "354     Willem  San Blas - Canillejas      Simancas  40.43638   -3.63344   \n",
       "622     Javier  San Blas - Canillejas         Arcos  40.41841   -3.61466   \n",
       "645        Ana  San Blas - Canillejas         Rejas  40.44360   -3.58781   \n",
       "679  Valentina  San Blas - Canillejas      Simancas  40.43995   -3.61762   \n",
       "817       Juan  San Blas - Canillejas      Simancas  40.43978   -3.61874   \n",
       "\n",
       "           room_type  price  minimum_nights  number_of_reviews last_review  \\\n",
       "354  Entire home/apt     45               4                228  2020-04-20   \n",
       "622  Entire home/apt     60               3                 19  2019-09-29   \n",
       "645  Entire home/apt     70               5                  0         NaN   \n",
       "679  Entire home/apt     85               1                289  2020-03-12   \n",
       "817  Entire home/apt    100              30                  0         NaN   \n",
       "\n",
       "     reviews_per_month  calculated_host_listings_count  availability_365  \n",
       "354               2.52                               1               325  \n",
       "622               0.53                               1                 0  \n",
       "645                NaN                               1                76  \n",
       "679               3.68                               2               174  \n",
       "817                NaN                              30               365  "
      ]
     },
     "execution_count": 19,
     "metadata": {},
     "output_type": "execute_result"
    }
   ],
   "source": [
    "# visualizando imóveis do tipo casa ou apartamento inteiro na região de San Blas-Canillejas\n",
    "\n",
    "df_clean.loc[((df_clean['room_type'] == 'Entire home/apt') & (df_clean['neighbourhood_group'] == 'San Blas - Canillejas'))].head()"
   ]
  },
  {
   "cell_type": "markdown",
   "metadata": {},
   "source": [
    "Podemos realizar diversas pesquisas em nossos dados para obtermos informações como estas que foram mostradas. Nosso conjunto de dados fornece as latitudes e longitudes de cada imóvel. Vamos finalizar com um mapa construído utilizando a latitude e a longitude de cada imóvel e seu preço."
   ]
  },
  {
   "cell_type": "code",
   "execution_count": 20,
   "metadata": {},
   "outputs": [
    {
     "data": {
      "image/png": "[encoded data removed]",
      "text/plain": [
       "<Figure size 864x576 with 2 Axes>"
      ]
     },
     "metadata": {
      "needs_background": "light"
     },
     "output_type": "display_data"
    }
   ],
   "source": [
    "# importando a biblioteca matplotlib\n",
    "# plotando um mapa utilizando a latitude e a longitude de cada imóvel e seu preço\n",
    "\n",
    "import matplotlib.pyplot as plt\n",
    "\n",
    "df_clean.plot(kind=\"scatter\", x='longitude', y='latitude', alpha=0.4, \\\n",
    "              c=df_clean['price'], s=8, cmap=plt.get_cmap('jet'), figsize=(12,8));"
   ]
  },
  {
   "cell_type": "markdown",
   "metadata": {},
   "source": [
    "## Conclusão"
   ]
  },
  {
   "cell_type": "markdown",
   "metadata": {},
   "source": [
    "Fizemos apenas uma análise superficial utilizando dados que se encontram na base de dados do Airbnb. Notamos que em algumas localidades há poucos imóveis disponíveis, o que pode distorcer as informações estatísticas. Por fim, ressaltamos que este conjunto de dados é uma versão resumida, ideal apenas para uma análise inicial. Recomendamos que seja usado, em uma próxima análise, o conjunto completo de dados que se encontra também no portal [Inside Airbnb](http://insideairbnb.com/get-the-data.html)."
   ]
  }
 ],
 "metadata": {
  "kernelspec": {
   "display_name": "Python 3",
   "language": "python",
   "name": "python3"
  },
  "language_info": {
   "codemirror_mode": {
    "name": "ipython",
    "version": 3
   },
   "file_extension": ".py",
   "mimetype": "text/x-python",
   "name": "python",
   "nbconvert_exporter": "python",
   "pygments_lexer": "ipython3",
   "version": "3.7.6"
  }
 },
 "nbformat": 4,
 "nbformat_minor": 4
}
