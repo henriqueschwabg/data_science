{
 "cells": [
  {
   "cell_type": "markdown",
   "metadata": {
    "colab_type": "text",
    "id": "kLI0gJtzDGuQ"
   },
   "source": [
    "# Analisando os dados da COVID-19\n",
    "\n",
    "A COVID-19 é uma doença causada pelo coronavírus. De acordo com a Organização Mundial da Saúde (OMS), cerca de 80% dos pacientes com COVID-19 podem ser assintomáticos e cerca de 20% dos casos podem requerer atendimento hospitalar por apresentarem dificuldade respiratória ([link](https://coronavirus.saude.gov.br/sobre-a-doenca#o-que-e-covid)).\n",
    "Os sintomas da COVID-19 podem variar de um simples resfriado até uma pneumonia severa. Sendo os sintomas mais comuns: tosse, febre, coriza, dor de garganta e dificuldade para respirar. A transmissão acontece de uma pessoa doente para outra.\n",
    "<center>\n",
    "    <img alt=\"Médico com cartão do COVID-19\" width=\"50%\" src=\"img/medcovid.jpg\" />\n",
    "</center>"
   ]
  },
  {
   "cell_type": "markdown",
   "metadata": {
    "colab_type": "text",
    "id": "0zxQHhIUDF_2"
   },
   "source": [
    "Realizaremos uma análise utilizando dados que foram gerados pelo portal [Our World in Data](https://ourworldindata.org/coronavirus) e que podem ser obtidos através da página de Github: ([link](https://github.com/owid/covid-19-data/tree/master/public/data)). Os dados são referentes aos registros de casos e de óbitos em decorrência da COVID-19.\n",
    "\n",
    "### Dicionário de Variáveis\n",
    "\n",
    "Antes de começarmos a nossa análise, vamos visualizar o dicionário das variáveis que contém uma pequena descrição do que cada uma das colunas significa: ([link](https://github.com/owid/covid-19-data/blob/master/public/data/owid-covid-data-codebook.md)). \n",
    "\n",
    "### Importando os dados do COVID-19\n",
    "\n",
    "Começaremos, então, importando a biblioteca Pandas e lendo o nosso arquivo."
   ]
  },
  {
   "cell_type": "code",
   "execution_count": 1,
   "metadata": {
    "colab": {},
    "colab_type": "code",
    "id": "lOtEJxe0DMEb"
   },
   "outputs": [],
   "source": [
    "# importando as bibliotecas necessárias e lendo o arquivo\n",
    "\n",
    "import pandas as pd\n",
    "import seaborn as sns\n",
    "import matplotlib.pyplot as plt\n",
    "sns.set(style=\"whitegrid\")\n",
    "\n",
    "df = pd.read_csv('datasets/owid-covid-data.csv') # versão do dia (25 / 06 / 2020)"
   ]
  },
  {
   "cell_type": "markdown",
   "metadata": {
    "colab_type": "text",
    "id": "qb5By2nIMS6m"
   },
   "source": [
    "## Análise Exploratória dos Dados"
   ]
  },
  {
   "cell_type": "markdown",
   "metadata": {
    "colab": {},
    "colab_type": "code",
    "id": "gO1fv3D1PS4k"
   },
   "source": [
    "Vamos começar visualizando as 5 primeiras entradas do conjunto de dados."
   ]
  },
  {
   "cell_type": "code",
   "execution_count": 2,
   "metadata": {
    "colab": {},
    "colab_type": "code",
    "id": "gO1fv3D1PS4k"
   },
   "outputs": [
    {
     "data": {
      "text/html": [
       "<div>\n",
       "<style scoped>\n",
       "    .dataframe tbody tr th:only-of-type {\n",
       "        vertical-align: middle;\n",
       "    }\n",
       "\n",
       "    .dataframe tbody tr th {\n",
       "        vertical-align: top;\n",
       "    }\n",
       "\n",
       "    .dataframe thead th {\n",
       "        text-align: right;\n",
       "    }\n",
       "</style>\n",
       "<table border=\"1\" class=\"dataframe\">\n",
       "  <thead>\n",
       "    <tr style=\"text-align: right;\">\n",
       "      <th></th>\n",
       "      <th>iso_code</th>\n",
       "      <th>continent</th>\n",
       "      <th>location</th>\n",
       "      <th>date</th>\n",
       "      <th>total_cases</th>\n",
       "      <th>new_cases</th>\n",
       "      <th>total_deaths</th>\n",
       "      <th>new_deaths</th>\n",
       "      <th>total_cases_per_million</th>\n",
       "      <th>new_cases_per_million</th>\n",
       "      <th>...</th>\n",
       "      <th>aged_70_older</th>\n",
       "      <th>gdp_per_capita</th>\n",
       "      <th>extreme_poverty</th>\n",
       "      <th>cvd_death_rate</th>\n",
       "      <th>diabetes_prevalence</th>\n",
       "      <th>female_smokers</th>\n",
       "      <th>male_smokers</th>\n",
       "      <th>handwashing_facilities</th>\n",
       "      <th>hospital_beds_per_thousand</th>\n",
       "      <th>life_expectancy</th>\n",
       "    </tr>\n",
       "  </thead>\n",
       "  <tbody>\n",
       "    <tr>\n",
       "      <th>0</th>\n",
       "      <td>AFG</td>\n",
       "      <td>Asia</td>\n",
       "      <td>Afghanistan</td>\n",
       "      <td>2019-12-31</td>\n",
       "      <td>0.0</td>\n",
       "      <td>0.0</td>\n",
       "      <td>0.0</td>\n",
       "      <td>0.0</td>\n",
       "      <td>0.0</td>\n",
       "      <td>0.0</td>\n",
       "      <td>...</td>\n",
       "      <td>1.337</td>\n",
       "      <td>1803.987</td>\n",
       "      <td>NaN</td>\n",
       "      <td>597.029</td>\n",
       "      <td>9.59</td>\n",
       "      <td>NaN</td>\n",
       "      <td>NaN</td>\n",
       "      <td>37.746</td>\n",
       "      <td>0.5</td>\n",
       "      <td>64.83</td>\n",
       "    </tr>\n",
       "    <tr>\n",
       "      <th>1</th>\n",
       "      <td>AFG</td>\n",
       "      <td>Asia</td>\n",
       "      <td>Afghanistan</td>\n",
       "      <td>2020-01-01</td>\n",
       "      <td>0.0</td>\n",
       "      <td>0.0</td>\n",
       "      <td>0.0</td>\n",
       "      <td>0.0</td>\n",
       "      <td>0.0</td>\n",
       "      <td>0.0</td>\n",
       "      <td>...</td>\n",
       "      <td>1.337</td>\n",
       "      <td>1803.987</td>\n",
       "      <td>NaN</td>\n",
       "      <td>597.029</td>\n",
       "      <td>9.59</td>\n",
       "      <td>NaN</td>\n",
       "      <td>NaN</td>\n",
       "      <td>37.746</td>\n",
       "      <td>0.5</td>\n",
       "      <td>64.83</td>\n",
       "    </tr>\n",
       "    <tr>\n",
       "      <th>2</th>\n",
       "      <td>AFG</td>\n",
       "      <td>Asia</td>\n",
       "      <td>Afghanistan</td>\n",
       "      <td>2020-01-02</td>\n",
       "      <td>0.0</td>\n",
       "      <td>0.0</td>\n",
       "      <td>0.0</td>\n",
       "      <td>0.0</td>\n",
       "      <td>0.0</td>\n",
       "      <td>0.0</td>\n",
       "      <td>...</td>\n",
       "      <td>1.337</td>\n",
       "      <td>1803.987</td>\n",
       "      <td>NaN</td>\n",
       "      <td>597.029</td>\n",
       "      <td>9.59</td>\n",
       "      <td>NaN</td>\n",
       "      <td>NaN</td>\n",
       "      <td>37.746</td>\n",
       "      <td>0.5</td>\n",
       "      <td>64.83</td>\n",
       "    </tr>\n",
       "    <tr>\n",
       "      <th>3</th>\n",
       "      <td>AFG</td>\n",
       "      <td>Asia</td>\n",
       "      <td>Afghanistan</td>\n",
       "      <td>2020-01-03</td>\n",
       "      <td>0.0</td>\n",
       "      <td>0.0</td>\n",
       "      <td>0.0</td>\n",
       "      <td>0.0</td>\n",
       "      <td>0.0</td>\n",
       "      <td>0.0</td>\n",
       "      <td>...</td>\n",
       "      <td>1.337</td>\n",
       "      <td>1803.987</td>\n",
       "      <td>NaN</td>\n",
       "      <td>597.029</td>\n",
       "      <td>9.59</td>\n",
       "      <td>NaN</td>\n",
       "      <td>NaN</td>\n",
       "      <td>37.746</td>\n",
       "      <td>0.5</td>\n",
       "      <td>64.83</td>\n",
       "    </tr>\n",
       "    <tr>\n",
       "      <th>4</th>\n",
       "      <td>AFG</td>\n",
       "      <td>Asia</td>\n",
       "      <td>Afghanistan</td>\n",
       "      <td>2020-01-04</td>\n",
       "      <td>0.0</td>\n",
       "      <td>0.0</td>\n",
       "      <td>0.0</td>\n",
       "      <td>0.0</td>\n",
       "      <td>0.0</td>\n",
       "      <td>0.0</td>\n",
       "      <td>...</td>\n",
       "      <td>1.337</td>\n",
       "      <td>1803.987</td>\n",
       "      <td>NaN</td>\n",
       "      <td>597.029</td>\n",
       "      <td>9.59</td>\n",
       "      <td>NaN</td>\n",
       "      <td>NaN</td>\n",
       "      <td>37.746</td>\n",
       "      <td>0.5</td>\n",
       "      <td>64.83</td>\n",
       "    </tr>\n",
       "  </tbody>\n",
       "</table>\n",
       "<p>5 rows × 34 columns</p>\n",
       "</div>"
      ],
      "text/plain": [
       "  iso_code continent     location        date  total_cases  new_cases  \\\n",
       "0      AFG      Asia  Afghanistan  2019-12-31          0.0        0.0   \n",
       "1      AFG      Asia  Afghanistan  2020-01-01          0.0        0.0   \n",
       "2      AFG      Asia  Afghanistan  2020-01-02          0.0        0.0   \n",
       "3      AFG      Asia  Afghanistan  2020-01-03          0.0        0.0   \n",
       "4      AFG      Asia  Afghanistan  2020-01-04          0.0        0.0   \n",
       "\n",
       "   total_deaths  new_deaths  total_cases_per_million  new_cases_per_million  \\\n",
       "0           0.0         0.0                      0.0                    0.0   \n",
       "1           0.0         0.0                      0.0                    0.0   \n",
       "2           0.0         0.0                      0.0                    0.0   \n",
       "3           0.0         0.0                      0.0                    0.0   \n",
       "4           0.0         0.0                      0.0                    0.0   \n",
       "\n",
       "   ...  aged_70_older  gdp_per_capita  extreme_poverty  cvd_death_rate  \\\n",
       "0  ...          1.337        1803.987              NaN         597.029   \n",
       "1  ...          1.337        1803.987              NaN         597.029   \n",
       "2  ...          1.337        1803.987              NaN         597.029   \n",
       "3  ...          1.337        1803.987              NaN         597.029   \n",
       "4  ...          1.337        1803.987              NaN         597.029   \n",
       "\n",
       "   diabetes_prevalence  female_smokers  male_smokers  handwashing_facilities  \\\n",
       "0                 9.59             NaN           NaN                  37.746   \n",
       "1                 9.59             NaN           NaN                  37.746   \n",
       "2                 9.59             NaN           NaN                  37.746   \n",
       "3                 9.59             NaN           NaN                  37.746   \n",
       "4                 9.59             NaN           NaN                  37.746   \n",
       "\n",
       "  hospital_beds_per_thousand  life_expectancy  \n",
       "0                        0.5            64.83  \n",
       "1                        0.5            64.83  \n",
       "2                        0.5            64.83  \n",
       "3                        0.5            64.83  \n",
       "4                        0.5            64.83  \n",
       "\n",
       "[5 rows x 34 columns]"
      ]
     },
     "execution_count": 2,
     "metadata": {},
     "output_type": "execute_result"
    }
   ],
   "source": [
    "# visualizando as 5 primeiras entradas\n",
    "\n",
    "df.head()"
   ]
  },
  {
   "cell_type": "markdown",
   "metadata": {
    "colab": {},
    "colab_type": "code",
    "id": "gO1fv3D1PS4k"
   },
   "source": [
    "Agora, obteremos o número de linhas e colunas."
   ]
  },
  {
   "cell_type": "code",
   "execution_count": 3,
   "metadata": {
    "colab": {},
    "colab_type": "code",
    "id": "gO1fv3D1PS4k"
   },
   "outputs": [
    {
     "data": {
      "text/plain": [
       "(26119, 34)"
      ]
     },
     "execution_count": 3,
     "metadata": {},
     "output_type": "execute_result"
    }
   ],
   "source": [
    "# obtendo o número de linhas e colunas\n",
    "\n",
    "df.shape"
   ]
  },
  {
   "cell_type": "markdown",
   "metadata": {
    "colab": {},
    "colab_type": "code",
    "id": "gO1fv3D1PS4k"
   },
   "source": [
    "Vimos que o conjunto de dados possui 26.119 linhas e 34 colunas. Visualizaremos os tipos de dados de cada coluna."
   ]
  },
  {
   "cell_type": "code",
   "execution_count": 4,
   "metadata": {
    "colab": {},
    "colab_type": "code",
    "id": "gO1fv3D1PS4k"
   },
   "outputs": [
    {
     "data": {
      "text/plain": [
       "iso_code                            object\n",
       "continent                           object\n",
       "location                            object\n",
       "date                                object\n",
       "total_cases                        float64\n",
       "new_cases                          float64\n",
       "total_deaths                       float64\n",
       "new_deaths                         float64\n",
       "total_cases_per_million            float64\n",
       "new_cases_per_million              float64\n",
       "total_deaths_per_million           float64\n",
       "new_deaths_per_million             float64\n",
       "total_tests                        float64\n",
       "new_tests                          float64\n",
       "total_tests_per_thousand           float64\n",
       "new_tests_per_thousand             float64\n",
       "new_tests_smoothed                 float64\n",
       "new_tests_smoothed_per_thousand    float64\n",
       "tests_units                         object\n",
       "stringency_index                   float64\n",
       "population                         float64\n",
       "population_density                 float64\n",
       "median_age                         float64\n",
       "aged_65_older                      float64\n",
       "aged_70_older                      float64\n",
       "gdp_per_capita                     float64\n",
       "extreme_poverty                    float64\n",
       "cvd_death_rate                     float64\n",
       "diabetes_prevalence                float64\n",
       "female_smokers                     float64\n",
       "male_smokers                       float64\n",
       "handwashing_facilities             float64\n",
       "hospital_beds_per_thousand         float64\n",
       "life_expectancy                    float64\n",
       "dtype: object"
      ]
     },
     "execution_count": 4,
     "metadata": {},
     "output_type": "execute_result"
    }
   ],
   "source": [
    "# visualizando os tipos de dados de cada coluna\n",
    "\n",
    "df.dtypes"
   ]
  },
  {
   "cell_type": "markdown",
   "metadata": {
    "colab": {},
    "colab_type": "code",
    "id": "gO1fv3D1PS4k"
   },
   "source": [
    "Observando a porcentagem de valores ausentes em cada coluna podemos ver que possuímos várias colunas com valores faltantes. Nesta análise iremos somente trabalhar com as colunas 'total_deaths', 'total_cases' e 'date'."
   ]
  },
  {
   "cell_type": "code",
   "execution_count": 5,
   "metadata": {
    "colab": {},
    "colab_type": "code",
    "id": "gO1fv3D1PS4k"
   },
   "outputs": [
    {
     "data": {
      "text/plain": [
       "new_tests                          73.884911\n",
       "new_tests_per_thousand             73.884911\n",
       "total_tests_per_thousand           71.312072\n",
       "total_tests                        71.312072\n",
       "new_tests_smoothed_per_thousand    68.995750\n",
       "new_tests_smoothed                 68.995750\n",
       "tests_units                        66.621999\n",
       "handwashing_facilities             59.316972\n",
       "extreme_poverty                    40.269536\n",
       "male_smokers                       28.232321\n",
       "female_smokers                     27.397680\n",
       "stringency_index                   19.334584\n",
       "hospital_beds_per_thousand         17.213523\n",
       "aged_65_older                      10.888625\n",
       "gdp_per_capita                     10.628278\n",
       "aged_70_older                      10.076955\n",
       "median_age                          9.613691\n",
       "cvd_death_rate                      9.498832\n",
       "diabetes_prevalence                 6.577587\n",
       "population_density                  4.334010\n",
       "life_expectancy                     1.385964\n",
       "new_deaths_per_million              1.068188\n",
       "total_deaths_per_million            1.068188\n",
       "new_cases_per_million               1.068188\n",
       "total_cases_per_million             1.068188\n",
       "continent                           0.926529\n",
       "new_deaths                          0.823156\n",
       "total_deaths                        0.823156\n",
       "new_cases                           0.823156\n",
       "total_cases                         0.823156\n",
       "population                          0.245032\n",
       "iso_code                            0.245032\n",
       "date                                0.000000\n",
       "location                            0.000000\n",
       "dtype: float64"
      ]
     },
     "execution_count": 5,
     "metadata": {},
     "output_type": "execute_result"
    }
   ],
   "source": [
    "# obtendo a quantidade (porcentagem) de valores ausentes em cada coluna\n",
    "\n",
    "(df.isnull().sum() / df.shape[0]).sort_values(ascending = False)  * 100"
   ]
  },
  {
   "cell_type": "markdown",
   "metadata": {
    "colab": {},
    "colab_type": "code",
    "id": "gO1fv3D1PS4k"
   },
   "source": [
    "Como vimos anteriormente, a coluna 'date' está com o tipo de dado 'object'. Converteremos a coluna 'date' de 'object' para o formato 'datetime'."
   ]
  },
  {
   "cell_type": "code",
   "execution_count": 6,
   "metadata": {
    "colab": {},
    "colab_type": "code",
    "id": "gO1fv3D1PS4k"
   },
   "outputs": [],
   "source": [
    "# convertendo a coluna 'date' para o formato 'datetime'\n",
    "\n",
    "df.date = pd.to_datetime(df.date)"
   ]
  },
  {
   "cell_type": "markdown",
   "metadata": {
    "colab": {},
    "colab_type": "code",
    "id": "gO1fv3D1PS4k"
   },
   "source": [
    "### Analisando o total de casos e mortes registradas"
   ]
  },
  {
   "cell_type": "markdown",
   "metadata": {
    "colab": {},
    "colab_type": "code",
    "id": "gO1fv3D1PS4k"
   },
   "source": [
    "E se quisermos saber os 12 países com mais casos registrados até o dia de hoje (25 / 06 / 2020)? Visualizaremos os 12 países com mais casos registrados."
   ]
  },
  {
   "cell_type": "code",
   "execution_count": 7,
   "metadata": {
    "colab": {},
    "colab_type": "code",
    "id": "gO1fv3D1PS4k"
   },
   "outputs": [
    {
     "data": {
      "text/html": [
       "<div>\n",
       "<style scoped>\n",
       "    .dataframe tbody tr th:only-of-type {\n",
       "        vertical-align: middle;\n",
       "    }\n",
       "\n",
       "    .dataframe tbody tr th {\n",
       "        vertical-align: top;\n",
       "    }\n",
       "\n",
       "    .dataframe thead th {\n",
       "        text-align: right;\n",
       "    }\n",
       "</style>\n",
       "<table border=\"1\" class=\"dataframe\">\n",
       "  <thead>\n",
       "    <tr style=\"text-align: right;\">\n",
       "      <th></th>\n",
       "      <th>continent</th>\n",
       "      <th>location</th>\n",
       "      <th>total_cases</th>\n",
       "      <th>new_cases</th>\n",
       "    </tr>\n",
       "    <tr>\n",
       "      <th>iso_code</th>\n",
       "      <th></th>\n",
       "      <th></th>\n",
       "      <th></th>\n",
       "      <th></th>\n",
       "    </tr>\n",
       "  </thead>\n",
       "  <tbody>\n",
       "    <tr>\n",
       "      <th>USA</th>\n",
       "      <td>North America</td>\n",
       "      <td>United States</td>\n",
       "      <td>2381361.0</td>\n",
       "      <td>34339.0</td>\n",
       "    </tr>\n",
       "    <tr>\n",
       "      <th>BRA</th>\n",
       "      <td>South America</td>\n",
       "      <td>Brazil</td>\n",
       "      <td>1188631.0</td>\n",
       "      <td>42725.0</td>\n",
       "    </tr>\n",
       "    <tr>\n",
       "      <th>RUS</th>\n",
       "      <td>Europe</td>\n",
       "      <td>Russia</td>\n",
       "      <td>606881.0</td>\n",
       "      <td>7176.0</td>\n",
       "    </tr>\n",
       "    <tr>\n",
       "      <th>IND</th>\n",
       "      <td>Asia</td>\n",
       "      <td>India</td>\n",
       "      <td>473105.0</td>\n",
       "      <td>16922.0</td>\n",
       "    </tr>\n",
       "    <tr>\n",
       "      <th>GBR</th>\n",
       "      <td>Europe</td>\n",
       "      <td>United Kingdom</td>\n",
       "      <td>306862.0</td>\n",
       "      <td>652.0</td>\n",
       "    </tr>\n",
       "    <tr>\n",
       "      <th>PER</th>\n",
       "      <td>South America</td>\n",
       "      <td>Peru</td>\n",
       "      <td>264689.0</td>\n",
       "      <td>3879.0</td>\n",
       "    </tr>\n",
       "    <tr>\n",
       "      <th>CHL</th>\n",
       "      <td>South America</td>\n",
       "      <td>Chile</td>\n",
       "      <td>254416.0</td>\n",
       "      <td>3649.0</td>\n",
       "    </tr>\n",
       "    <tr>\n",
       "      <th>ITA</th>\n",
       "      <td>Europe</td>\n",
       "      <td>Italy</td>\n",
       "      <td>239410.0</td>\n",
       "      <td>577.0</td>\n",
       "    </tr>\n",
       "    <tr>\n",
       "      <th>IRN</th>\n",
       "      <td>Asia</td>\n",
       "      <td>Iran</td>\n",
       "      <td>212501.0</td>\n",
       "      <td>2531.0</td>\n",
       "    </tr>\n",
       "    <tr>\n",
       "      <th>MEX</th>\n",
       "      <td>North America</td>\n",
       "      <td>Mexico</td>\n",
       "      <td>196847.0</td>\n",
       "      <td>5437.0</td>\n",
       "    </tr>\n",
       "    <tr>\n",
       "      <th>PAK</th>\n",
       "      <td>Asia</td>\n",
       "      <td>Pakistan</td>\n",
       "      <td>192970.0</td>\n",
       "      <td>4044.0</td>\n",
       "    </tr>\n",
       "    <tr>\n",
       "      <th>DEU</th>\n",
       "      <td>Europe</td>\n",
       "      <td>Germany</td>\n",
       "      <td>192079.0</td>\n",
       "      <td>630.0</td>\n",
       "    </tr>\n",
       "  </tbody>\n",
       "</table>\n",
       "</div>"
      ],
      "text/plain": [
       "              continent        location  total_cases  new_cases\n",
       "iso_code                                                       \n",
       "USA       North America   United States    2381361.0    34339.0\n",
       "BRA       South America          Brazil    1188631.0    42725.0\n",
       "RUS              Europe          Russia     606881.0     7176.0\n",
       "IND                Asia           India     473105.0    16922.0\n",
       "GBR              Europe  United Kingdom     306862.0      652.0\n",
       "PER       South America            Peru     264689.0     3879.0\n",
       "CHL       South America           Chile     254416.0     3649.0\n",
       "ITA              Europe           Italy     239410.0      577.0\n",
       "IRN                Asia            Iran     212501.0     2531.0\n",
       "MEX       North America          Mexico     196847.0     5437.0\n",
       "PAK                Asia        Pakistan     192970.0     4044.0\n",
       "DEU              Europe         Germany     192079.0      630.0"
      ]
     },
     "execution_count": 7,
     "metadata": {},
     "output_type": "execute_result"
    }
   ],
   "source": [
    "# visualizando os 12 países com mais casos registrados\n",
    "\n",
    "df.loc[df.date == '2020-06-25', ['iso_code', 'continent', 'location', 'total_cases', 'new_cases']] \\\n",
    "    .sort_values(by = 'total_cases', ascending = False)[1:13].set_index('iso_code')"
   ]
  },
  {
   "cell_type": "markdown",
   "metadata": {
    "colab": {},
    "colab_type": "code",
    "id": "gO1fv3D1PS4k"
   },
   "source": [
    "E os 12 países com mais MORTES registradas até o dia de hoje?"
   ]
  },
  {
   "cell_type": "code",
   "execution_count": 8,
   "metadata": {
    "colab": {},
    "colab_type": "code",
    "id": "gO1fv3D1PS4k"
   },
   "outputs": [
    {
     "data": {
      "text/html": [
       "<div>\n",
       "<style scoped>\n",
       "    .dataframe tbody tr th:only-of-type {\n",
       "        vertical-align: middle;\n",
       "    }\n",
       "\n",
       "    .dataframe tbody tr th {\n",
       "        vertical-align: top;\n",
       "    }\n",
       "\n",
       "    .dataframe thead th {\n",
       "        text-align: right;\n",
       "    }\n",
       "</style>\n",
       "<table border=\"1\" class=\"dataframe\">\n",
       "  <thead>\n",
       "    <tr style=\"text-align: right;\">\n",
       "      <th></th>\n",
       "      <th>continent</th>\n",
       "      <th>location</th>\n",
       "      <th>total_deaths</th>\n",
       "      <th>new_deaths</th>\n",
       "    </tr>\n",
       "    <tr>\n",
       "      <th>iso_code</th>\n",
       "      <th></th>\n",
       "      <th></th>\n",
       "      <th></th>\n",
       "      <th></th>\n",
       "    </tr>\n",
       "  </thead>\n",
       "  <tbody>\n",
       "    <tr>\n",
       "      <th>USA</th>\n",
       "      <td>North America</td>\n",
       "      <td>United States</td>\n",
       "      <td>121979.0</td>\n",
       "      <td>751.0</td>\n",
       "    </tr>\n",
       "    <tr>\n",
       "      <th>BRA</th>\n",
       "      <td>South America</td>\n",
       "      <td>Brazil</td>\n",
       "      <td>53830.0</td>\n",
       "      <td>1185.0</td>\n",
       "    </tr>\n",
       "    <tr>\n",
       "      <th>GBR</th>\n",
       "      <td>Europe</td>\n",
       "      <td>United Kingdom</td>\n",
       "      <td>43081.0</td>\n",
       "      <td>154.0</td>\n",
       "    </tr>\n",
       "    <tr>\n",
       "      <th>ITA</th>\n",
       "      <td>Europe</td>\n",
       "      <td>Italy</td>\n",
       "      <td>34644.0</td>\n",
       "      <td>-31.0</td>\n",
       "    </tr>\n",
       "    <tr>\n",
       "      <th>FRA</th>\n",
       "      <td>Europe</td>\n",
       "      <td>France</td>\n",
       "      <td>29731.0</td>\n",
       "      <td>11.0</td>\n",
       "    </tr>\n",
       "    <tr>\n",
       "      <th>MEX</th>\n",
       "      <td>North America</td>\n",
       "      <td>Mexico</td>\n",
       "      <td>24342.0</td>\n",
       "      <td>965.0</td>\n",
       "    </tr>\n",
       "    <tr>\n",
       "      <th>IND</th>\n",
       "      <td>Asia</td>\n",
       "      <td>India</td>\n",
       "      <td>14894.0</td>\n",
       "      <td>418.0</td>\n",
       "    </tr>\n",
       "    <tr>\n",
       "      <th>IRN</th>\n",
       "      <td>Asia</td>\n",
       "      <td>Iran</td>\n",
       "      <td>9996.0</td>\n",
       "      <td>133.0</td>\n",
       "    </tr>\n",
       "    <tr>\n",
       "      <th>BEL</th>\n",
       "      <td>Europe</td>\n",
       "      <td>Belgium</td>\n",
       "      <td>9722.0</td>\n",
       "      <td>9.0</td>\n",
       "    </tr>\n",
       "    <tr>\n",
       "      <th>DEU</th>\n",
       "      <td>Europe</td>\n",
       "      <td>Germany</td>\n",
       "      <td>8927.0</td>\n",
       "      <td>13.0</td>\n",
       "    </tr>\n",
       "    <tr>\n",
       "      <th>PER</th>\n",
       "      <td>South America</td>\n",
       "      <td>Peru</td>\n",
       "      <td>8586.0</td>\n",
       "      <td>182.0</td>\n",
       "    </tr>\n",
       "    <tr>\n",
       "      <th>RUS</th>\n",
       "      <td>Europe</td>\n",
       "      <td>Russia</td>\n",
       "      <td>8513.0</td>\n",
       "      <td>154.0</td>\n",
       "    </tr>\n",
       "  </tbody>\n",
       "</table>\n",
       "</div>"
      ],
      "text/plain": [
       "              continent        location  total_deaths  new_deaths\n",
       "iso_code                                                         \n",
       "USA       North America   United States      121979.0       751.0\n",
       "BRA       South America          Brazil       53830.0      1185.0\n",
       "GBR              Europe  United Kingdom       43081.0       154.0\n",
       "ITA              Europe           Italy       34644.0       -31.0\n",
       "FRA              Europe          France       29731.0        11.0\n",
       "MEX       North America          Mexico       24342.0       965.0\n",
       "IND                Asia           India       14894.0       418.0\n",
       "IRN                Asia            Iran        9996.0       133.0\n",
       "BEL              Europe         Belgium        9722.0         9.0\n",
       "DEU              Europe         Germany        8927.0        13.0\n",
       "PER       South America            Peru        8586.0       182.0\n",
       "RUS              Europe          Russia        8513.0       154.0"
      ]
     },
     "execution_count": 8,
     "metadata": {},
     "output_type": "execute_result"
    }
   ],
   "source": [
    "# visualizando os 12 países com mais mortes registradas\n",
    "\n",
    "df.loc[df.date == '2020-06-25', ['iso_code', 'continent', 'location', 'total_deaths', 'new_deaths']] \\\n",
    "    .sort_values(by = 'total_deaths', ascending = False)[1:13].set_index('iso_code')"
   ]
  },
  {
   "cell_type": "markdown",
   "metadata": {
    "colab": {},
    "colab_type": "code",
    "id": "gO1fv3D1PS4k"
   },
   "source": [
    "Para visualizarmos graficamente os dados, iremos plotar um gráfico de barras para os 5 países com mais casos registrados."
   ]
  },
  {
   "cell_type": "code",
   "execution_count": 9,
   "metadata": {
    "colab": {},
    "colab_type": "code",
    "id": "gO1fv3D1PS4k"
   },
   "outputs": [
    {
     "data": {
      "image/png": "[encoded data removed]",
      "text/plain": [
       "<Figure size 432x288 with 1 Axes>"
      ]
     },
     "metadata": {},
     "output_type": "display_data"
    }
   ],
   "source": [
    "# plotando um gráfico de barras com os 5 países com mais casos registrados\n",
    "\n",
    "top5_cases = df.loc[df.date == '2020-06-25', ['location', 'total_cases']] \\\n",
    "    .sort_values(by = 'total_cases', ascending = False)[1:6]\n",
    "\n",
    "sns.barplot(x = 'location', y = 'total_cases', data = top5_cases);"
   ]
  },
  {
   "cell_type": "markdown",
   "metadata": {
    "colab": {},
    "colab_type": "code",
    "id": "gO1fv3D1PS4k"
   },
   "source": [
    "Faremos o mesmo para os 5 países com mais mortes registradas."
   ]
  },
  {
   "cell_type": "code",
   "execution_count": 10,
   "metadata": {
    "colab": {},
    "colab_type": "code",
    "id": "gO1fv3D1PS4k"
   },
   "outputs": [
    {
     "data": {
      "image/png": "[encoded data removed]",
      "text/plain": [
       "<Figure size 432x288 with 1 Axes>"
      ]
     },
     "metadata": {},
     "output_type": "display_data"
    }
   ],
   "source": [
    "# plotando um gráfico de barras com os 5 países com mais mortes registradas\n",
    "\n",
    "top5_deaths = df.loc[df.date == '2020-06-25', ['location', 'total_deaths']] \\\n",
    "    .sort_values(by = 'total_deaths', ascending = False)[1:6]\n",
    "\n",
    "sns.barplot(x = 'location', y = 'total_deaths', data = top5_deaths);"
   ]
  },
  {
   "cell_type": "markdown",
   "metadata": {
    "colab": {},
    "colab_type": "code",
    "id": "gO1fv3D1PS4k"
   },
   "source": [
    "Visualizando os dados e os gráficos notamos que os 5 locais com mais mortes até o momento são: Estados Unidos, Brasil, Reino Unido, Itália e França. Notamos também que a Rússia possui mais de 600 mil casos e menos de 9 mil mortes. Vamos plotar um gráfico de linha com a evolução de mortes por COVID-19 no Mundo."
   ]
  },
  {
   "cell_type": "code",
   "execution_count": 11,
   "metadata": {
    "colab": {},
    "colab_type": "code",
    "id": "gO1fv3D1PS4k"
   },
   "outputs": [
    {
     "data": {
      "image/png": "[encoded data removed]",
      "text/plain": [
       "<Figure size 432x288 with 1 Axes>"
      ]
     },
     "metadata": {},
     "output_type": "display_data"
    }
   ],
   "source": [
    "# plotando um gráfico de linha com a evolução de mortes no mundo\n",
    "\n",
    "world_evolution = df.loc[df.location == 'World'].reset_index(drop = True)\n",
    "sns.lineplot(x = 'date', y = 'total_deaths', data = world_evolution);"
   ]
  },
  {
   "cell_type": "markdown",
   "metadata": {
    "colab": {},
    "colab_type": "code",
    "id": "gO1fv3D1PS4k"
   },
   "source": [
    "Iremos também plotar um gráfico de linha com a evolução de mortes por COVID-19 nos Estados Unidos e embaixo no México."
   ]
  },
  {
   "cell_type": "code",
   "execution_count": 12,
   "metadata": {
    "colab": {},
    "colab_type": "code",
    "id": "gO1fv3D1PS4k"
   },
   "outputs": [
    {
     "data": {
      "image/png": "[encoded data removed]",
      "text/plain": [
       "<Figure size 432x288 with 1 Axes>"
      ]
     },
     "metadata": {},
     "output_type": "display_data"
    }
   ],
   "source": [
    "# plotando um gráfico de linha com a evolução de mortes nos Estados Unidos\n",
    "\n",
    "usa_evolution = df.loc[df.location == 'United States'].reset_index(drop = True)\n",
    "sns.lineplot(x = 'date', y = 'total_deaths', data = usa_evolution);"
   ]
  },
  {
   "cell_type": "code",
   "execution_count": 13,
   "metadata": {
    "colab": {},
    "colab_type": "code",
    "id": "gO1fv3D1PS4k"
   },
   "outputs": [
    {
     "data": {
      "image/png": "[encoded data removed]",
      "text/plain": [
       "<Figure size 432x288 with 1 Axes>"
      ]
     },
     "metadata": {},
     "output_type": "display_data"
    }
   ],
   "source": [
    "# plotando um gráfico de linha com a evolução de mortes no México\n",
    "\n",
    "mx_evolution = df.loc[df.location == 'Mexico'].reset_index(drop = True)\n",
    "sns.lineplot(x = 'date', y = 'total_deaths', data = mx_evolution);"
   ]
  },
  {
   "cell_type": "markdown",
   "metadata": {
    "colab": {},
    "colab_type": "code",
    "id": "gO1fv3D1PS4k"
   },
   "source": [
    "Quanto aos gráficos de linha referentes às mortes no mundo inteiro e nos Estados Unidos, podemos ver que a partir do mês de Abril (4) tivemos uma alta constante de mortes por COVID-19 registradas. Podemos perceber que no México o número de mortes começou a subir no mês de Maio (5) e está num crescimento preocupante."
   ]
  },
  {
   "cell_type": "markdown",
   "metadata": {
    "colab_type": "text",
    "id": "SViA5VZ7DYLA"
   },
   "source": [
    "### Análise Exploratória para o Brasil\n"
   ]
  },
  {
   "cell_type": "markdown",
   "metadata": {
    "colab": {},
    "colab_type": "code",
    "id": "UDQA502_hAwI"
   },
   "source": [
    "Começaremos criando uma cópia dos dados originais mas somente com as informações referentes ao Brasil."
   ]
  },
  {
   "cell_type": "code",
   "execution_count": 14,
   "metadata": {
    "colab": {},
    "colab_type": "code",
    "id": "UDQA502_hAwI"
   },
   "outputs": [],
   "source": [
    "# criando um cópia do dataframe somente com os dados no Brasil\n",
    "\n",
    "df_brasil = df.loc[df.location == 'Brazil'].copy()"
   ]
  },
  {
   "cell_type": "markdown",
   "metadata": {
    "colab": {},
    "colab_type": "code",
    "id": "UDQA502_hAwI"
   },
   "source": [
    "Identificaremos quantos dias levaram para registrar a primeira morte, considerando o primeiro caso de COVID-19 registrado."
   ]
  },
  {
   "cell_type": "code",
   "execution_count": 15,
   "metadata": {
    "colab": {},
    "colab_type": "code",
    "id": "UDQA502_hAwI"
   },
   "outputs": [
    {
     "data": {
      "text/html": [
       "<div>\n",
       "<style scoped>\n",
       "    .dataframe tbody tr th:only-of-type {\n",
       "        vertical-align: middle;\n",
       "    }\n",
       "\n",
       "    .dataframe tbody tr th {\n",
       "        vertical-align: top;\n",
       "    }\n",
       "\n",
       "    .dataframe thead th {\n",
       "        text-align: right;\n",
       "    }\n",
       "</style>\n",
       "<table border=\"1\" class=\"dataframe\">\n",
       "  <thead>\n",
       "    <tr style=\"text-align: right;\">\n",
       "      <th></th>\n",
       "      <th>total_cases</th>\n",
       "      <th>total_deaths</th>\n",
       "      <th>date</th>\n",
       "    </tr>\n",
       "  </thead>\n",
       "  <tbody>\n",
       "    <tr>\n",
       "      <th>3424</th>\n",
       "      <td>1.0</td>\n",
       "      <td>0.0</td>\n",
       "      <td>2020-02-26</td>\n",
       "    </tr>\n",
       "    <tr>\n",
       "      <th>3445</th>\n",
       "      <td>291.0</td>\n",
       "      <td>1.0</td>\n",
       "      <td>2020-03-18</td>\n",
       "    </tr>\n",
       "  </tbody>\n",
       "</table>\n",
       "</div>"
      ],
      "text/plain": [
       "      total_cases  total_deaths       date\n",
       "3424          1.0           0.0 2020-02-26\n",
       "3445        291.0           1.0 2020-03-18"
      ]
     },
     "execution_count": 15,
     "metadata": {},
     "output_type": "execute_result"
    }
   ],
   "source": [
    "# identificando qual foi o dia do primeiro caso e da primeira morte\n",
    "\n",
    "df_brasil_first_case = df_brasil.loc[(df_brasil.total_cases > 0) & (df_brasil.total_deaths == 0), ['total_cases', 'total_deaths', 'date']][:1]\n",
    "\n",
    "df_brasil_first_death = df_brasil.loc[df_brasil.total_deaths > 0, ['total_cases', 'total_deaths', 'date']][:1]\n",
    "\n",
    "df_brasil_first = pd.concat([df_brasil_first_case, df_brasil_first_death])\n",
    "\n",
    "df_brasil_first"
   ]
  },
  {
   "cell_type": "markdown",
   "metadata": {
    "colab": {},
    "colab_type": "code",
    "id": "UDQA502_hAwI"
   },
   "source": [
    "Agora sabemos que se passaram 21 dias entre o primeiro caso e a primeira morte no Brasil."
   ]
  },
  {
   "cell_type": "code",
   "execution_count": 16,
   "metadata": {
    "colab": {},
    "colab_type": "code",
    "id": "UDQA502_hAwI"
   },
   "outputs": [
    {
     "name": "stdout",
     "output_type": "stream",
     "text": [
      "Se passaram 21 dias entre o primeiro caso e a primeira morte no Brasil.\n"
     ]
    }
   ],
   "source": [
    "# obtendo a quantidade de dias que se passaram entre o primeiro caso e a primeira morte\n",
    "\n",
    "days_cases_deaths = df_brasil.date.loc[3445] - df_brasil.date.loc[3424]\n",
    "print('Se passaram {} dias entre o primeiro caso e a primeira morte no Brasil.'.format(days_cases_deaths.days))"
   ]
  },
  {
   "cell_type": "markdown",
   "metadata": {
    "colab": {},
    "colab_type": "code",
    "id": "UDQA502_hAwI"
   },
   "source": [
    "Como vimos, o primeiro caso de COVID-19 registrado no Brasil foi dia 26/02/2020 e a primeira morte foi registrada dia 18/03/2020. Vamos visualizar os 5 primeiros dias que registram mais de 1 morte no Brasil."
   ]
  },
  {
   "cell_type": "code",
   "execution_count": 17,
   "metadata": {
    "colab": {},
    "colab_type": "code",
    "id": "UDQA502_hAwI"
   },
   "outputs": [
    {
     "data": {
      "text/html": [
       "<div>\n",
       "<style scoped>\n",
       "    .dataframe tbody tr th:only-of-type {\n",
       "        vertical-align: middle;\n",
       "    }\n",
       "\n",
       "    .dataframe tbody tr th {\n",
       "        vertical-align: top;\n",
       "    }\n",
       "\n",
       "    .dataframe thead th {\n",
       "        text-align: right;\n",
       "    }\n",
       "</style>\n",
       "<table border=\"1\" class=\"dataframe\">\n",
       "  <thead>\n",
       "    <tr style=\"text-align: right;\">\n",
       "      <th></th>\n",
       "      <th>iso_code</th>\n",
       "      <th>continent</th>\n",
       "      <th>location</th>\n",
       "      <th>date</th>\n",
       "      <th>total_cases</th>\n",
       "      <th>new_cases</th>\n",
       "      <th>total_deaths</th>\n",
       "      <th>new_deaths</th>\n",
       "      <th>total_cases_per_million</th>\n",
       "      <th>new_cases_per_million</th>\n",
       "      <th>...</th>\n",
       "      <th>aged_70_older</th>\n",
       "      <th>gdp_per_capita</th>\n",
       "      <th>extreme_poverty</th>\n",
       "      <th>cvd_death_rate</th>\n",
       "      <th>diabetes_prevalence</th>\n",
       "      <th>female_smokers</th>\n",
       "      <th>male_smokers</th>\n",
       "      <th>handwashing_facilities</th>\n",
       "      <th>hospital_beds_per_thousand</th>\n",
       "      <th>life_expectancy</th>\n",
       "    </tr>\n",
       "  </thead>\n",
       "  <tbody>\n",
       "    <tr>\n",
       "      <th>3445</th>\n",
       "      <td>BRA</td>\n",
       "      <td>South America</td>\n",
       "      <td>Brazil</td>\n",
       "      <td>2020-03-18</td>\n",
       "      <td>291.0</td>\n",
       "      <td>57.0</td>\n",
       "      <td>1.0</td>\n",
       "      <td>1.0</td>\n",
       "      <td>1.369</td>\n",
       "      <td>0.268</td>\n",
       "      <td>...</td>\n",
       "      <td>5.06</td>\n",
       "      <td>14103.452</td>\n",
       "      <td>3.4</td>\n",
       "      <td>177.961</td>\n",
       "      <td>8.11</td>\n",
       "      <td>10.1</td>\n",
       "      <td>17.9</td>\n",
       "      <td>NaN</td>\n",
       "      <td>2.2</td>\n",
       "      <td>75.88</td>\n",
       "    </tr>\n",
       "    <tr>\n",
       "      <th>3446</th>\n",
       "      <td>BRA</td>\n",
       "      <td>South America</td>\n",
       "      <td>Brazil</td>\n",
       "      <td>2020-03-19</td>\n",
       "      <td>428.0</td>\n",
       "      <td>137.0</td>\n",
       "      <td>4.0</td>\n",
       "      <td>3.0</td>\n",
       "      <td>2.014</td>\n",
       "      <td>0.645</td>\n",
       "      <td>...</td>\n",
       "      <td>5.06</td>\n",
       "      <td>14103.452</td>\n",
       "      <td>3.4</td>\n",
       "      <td>177.961</td>\n",
       "      <td>8.11</td>\n",
       "      <td>10.1</td>\n",
       "      <td>17.9</td>\n",
       "      <td>NaN</td>\n",
       "      <td>2.2</td>\n",
       "      <td>75.88</td>\n",
       "    </tr>\n",
       "    <tr>\n",
       "      <th>3447</th>\n",
       "      <td>BRA</td>\n",
       "      <td>South America</td>\n",
       "      <td>Brazil</td>\n",
       "      <td>2020-03-20</td>\n",
       "      <td>621.0</td>\n",
       "      <td>193.0</td>\n",
       "      <td>6.0</td>\n",
       "      <td>2.0</td>\n",
       "      <td>2.922</td>\n",
       "      <td>0.908</td>\n",
       "      <td>...</td>\n",
       "      <td>5.06</td>\n",
       "      <td>14103.452</td>\n",
       "      <td>3.4</td>\n",
       "      <td>177.961</td>\n",
       "      <td>8.11</td>\n",
       "      <td>10.1</td>\n",
       "      <td>17.9</td>\n",
       "      <td>NaN</td>\n",
       "      <td>2.2</td>\n",
       "      <td>75.88</td>\n",
       "    </tr>\n",
       "    <tr>\n",
       "      <th>3448</th>\n",
       "      <td>BRA</td>\n",
       "      <td>South America</td>\n",
       "      <td>Brazil</td>\n",
       "      <td>2020-03-21</td>\n",
       "      <td>904.0</td>\n",
       "      <td>283.0</td>\n",
       "      <td>11.0</td>\n",
       "      <td>5.0</td>\n",
       "      <td>4.253</td>\n",
       "      <td>1.331</td>\n",
       "      <td>...</td>\n",
       "      <td>5.06</td>\n",
       "      <td>14103.452</td>\n",
       "      <td>3.4</td>\n",
       "      <td>177.961</td>\n",
       "      <td>8.11</td>\n",
       "      <td>10.1</td>\n",
       "      <td>17.9</td>\n",
       "      <td>NaN</td>\n",
       "      <td>2.2</td>\n",
       "      <td>75.88</td>\n",
       "    </tr>\n",
       "    <tr>\n",
       "      <th>3449</th>\n",
       "      <td>BRA</td>\n",
       "      <td>South America</td>\n",
       "      <td>Brazil</td>\n",
       "      <td>2020-03-22</td>\n",
       "      <td>1128.0</td>\n",
       "      <td>224.0</td>\n",
       "      <td>18.0</td>\n",
       "      <td>7.0</td>\n",
       "      <td>5.307</td>\n",
       "      <td>1.054</td>\n",
       "      <td>...</td>\n",
       "      <td>5.06</td>\n",
       "      <td>14103.452</td>\n",
       "      <td>3.4</td>\n",
       "      <td>177.961</td>\n",
       "      <td>8.11</td>\n",
       "      <td>10.1</td>\n",
       "      <td>17.9</td>\n",
       "      <td>NaN</td>\n",
       "      <td>2.2</td>\n",
       "      <td>75.88</td>\n",
       "    </tr>\n",
       "  </tbody>\n",
       "</table>\n",
       "<p>5 rows × 34 columns</p>\n",
       "</div>"
      ],
      "text/plain": [
       "     iso_code      continent location       date  total_cases  new_cases  \\\n",
       "3445      BRA  South America   Brazil 2020-03-18        291.0       57.0   \n",
       "3446      BRA  South America   Brazil 2020-03-19        428.0      137.0   \n",
       "3447      BRA  South America   Brazil 2020-03-20        621.0      193.0   \n",
       "3448      BRA  South America   Brazil 2020-03-21        904.0      283.0   \n",
       "3449      BRA  South America   Brazil 2020-03-22       1128.0      224.0   \n",
       "\n",
       "      total_deaths  new_deaths  total_cases_per_million  \\\n",
       "3445           1.0         1.0                    1.369   \n",
       "3446           4.0         3.0                    2.014   \n",
       "3447           6.0         2.0                    2.922   \n",
       "3448          11.0         5.0                    4.253   \n",
       "3449          18.0         7.0                    5.307   \n",
       "\n",
       "      new_cases_per_million  ...  aged_70_older  gdp_per_capita  \\\n",
       "3445                  0.268  ...           5.06       14103.452   \n",
       "3446                  0.645  ...           5.06       14103.452   \n",
       "3447                  0.908  ...           5.06       14103.452   \n",
       "3448                  1.331  ...           5.06       14103.452   \n",
       "3449                  1.054  ...           5.06       14103.452   \n",
       "\n",
       "      extreme_poverty  cvd_death_rate  diabetes_prevalence  female_smokers  \\\n",
       "3445              3.4         177.961                 8.11            10.1   \n",
       "3446              3.4         177.961                 8.11            10.1   \n",
       "3447              3.4         177.961                 8.11            10.1   \n",
       "3448              3.4         177.961                 8.11            10.1   \n",
       "3449              3.4         177.961                 8.11            10.1   \n",
       "\n",
       "      male_smokers  handwashing_facilities hospital_beds_per_thousand  \\\n",
       "3445          17.9                     NaN                        2.2   \n",
       "3446          17.9                     NaN                        2.2   \n",
       "3447          17.9                     NaN                        2.2   \n",
       "3448          17.9                     NaN                        2.2   \n",
       "3449          17.9                     NaN                        2.2   \n",
       "\n",
       "      life_expectancy  \n",
       "3445            75.88  \n",
       "3446            75.88  \n",
       "3447            75.88  \n",
       "3448            75.88  \n",
       "3449            75.88  \n",
       "\n",
       "[5 rows x 34 columns]"
      ]
     },
     "execution_count": 17,
     "metadata": {},
     "output_type": "execute_result"
    }
   ],
   "source": [
    "# visualizando os 5 primeiros dias que registram mais de 1 morte\n",
    "\n",
    "df_brasil.loc[df_brasil.total_deaths > 0].sort_values(by = 'date')[:5]"
   ]
  },
  {
   "cell_type": "markdown",
   "metadata": {
    "colab_type": "text",
    "id": "LCsiXvM3BcsO"
   },
   "source": [
    "Vamos plotar gráficos de linha em escalas linear e logarítmica para os casos totais e mortes totais por COVID-19 no Brasil."
   ]
  },
  {
   "cell_type": "code",
   "execution_count": 18,
   "metadata": {
    "colab_type": "text",
    "id": "LCsiXvM3BcsO"
   },
   "outputs": [
    {
     "data": {
      "image/png": "[encoded data removed]",
      "text/plain": [
       "<Figure size 648x504 with 4 Axes>"
      ]
     },
     "metadata": {},
     "output_type": "display_data"
    }
   ],
   "source": [
    "# plotando gráficos de linha em escalas linear e logarítmica para os casos totais e mortes totais.\n",
    "\n",
    "x = list(range(178))\n",
    "z = df_brasil['total_cases']\n",
    "z2 = df_brasil['total_deaths']\n",
    "\n",
    "fig, ((ax1, ax2), (ax3, ax4)) = plt.subplots(nrows = 2, ncols=2, figsize=(9, 7))\n",
    "\n",
    "ax1.set_title('Casos no Brasil')\n",
    "ax1.set_xlabel('Dias')\n",
    "ax1.set_ylabel('Casos')\n",
    "ax1.plot(x, z)\n",
    "\n",
    "ax2.set_title('Casos no Brasil (Escala logarítmica')\n",
    "ax2.set_xlabel('Dias')\n",
    "ax2.set_ylabel('Casos')\n",
    "ax2.set_yscale('log')\n",
    "ax2.plot(x, z)\n",
    "\n",
    "ax3.set_title('Mortes no Brasil')\n",
    "ax3.set_xlabel('Dias')\n",
    "ax3.set_ylabel('Mortes')\n",
    "ax3.plot(x, z2)\n",
    "\n",
    "ax4.set_title('Mortes no Brasil (Escala logarítmica')\n",
    "ax4.set_xlabel('Dias')\n",
    "ax4.set_ylabel('Mortes')\n",
    "ax4.set_yscale('log')\n",
    "ax4.plot(x, z2)\n",
    "\n",
    "plt.tight_layout()"
   ]
  },
  {
   "cell_type": "markdown",
   "metadata": {
    "colab_type": "text",
    "id": "LCsiXvM3BcsO"
   },
   "source": [
    "## Conclusão\n",
    "Na análise realizada no dia 25 de Junho de 2020 sobre os dados do portal Our World in Data, concluímos que:\n",
    "* Curiosamente a Rússia tem mais de 600 mil casos e menos de 9 mil mortes;\n",
    "* A Índia tem mais de 470 mil casos e um pouco mais de 14 mil mortes;\n",
    "* Os Estados Unidos e o Brasil são os países que têm mais casos e mortes;\n",
    "* O Brasil segue com um número alto de mortes diárias;\n",
    "* O México está com um aumento preocupante no número de mortes."
   ]
  },
  {
   "cell_type": "code",
   "execution_count": 2,
   "metadata": {
    "colab_type": "text",
    "id": "LCsiXvM3BcsO"
   },
   "outputs": [],
   "source": [
    "# O CÓDIGO ABAIXO É REFERENTE A GERAÇÃO DOS VÍDEOS QUE MOSTRAM A EVOLUÇÃO DE CASOS E DE MORTES POR COVID-19"
   ]
  },
  {
   "cell_type": "code",
   "execution_count": 20,
   "metadata": {
    "colab_type": "text",
    "id": "LCsiXvM3BcsO"
   },
   "outputs": [],
   "source": [
    "# pip install bar_chart_race"
   ]
  },
  {
   "cell_type": "code",
   "execution_count": 21,
   "metadata": {
    "colab_type": "text",
    "id": "LCsiXvM3BcsO"
   },
   "outputs": [],
   "source": [
    "# import bar_chart_race as bcr"
   ]
  },
  {
   "cell_type": "code",
   "execution_count": 22,
   "metadata": {
    "colab_type": "text",
    "id": "LCsiXvM3BcsO"
   },
   "outputs": [],
   "source": [
    "# df.dropna(subset=['location'], inplace = True)"
   ]
  },
  {
   "cell_type": "code",
   "execution_count": 23,
   "metadata": {
    "colab_type": "text",
    "id": "LCsiXvM3BcsO"
   },
   "outputs": [],
   "source": [
    "# df_deaths_race = df.loc[(df.total_deaths > 0) & (df.location != 'International')]"
   ]
  },
  {
   "cell_type": "code",
   "execution_count": 24,
   "metadata": {
    "colab_type": "text",
    "id": "LCsiXvM3BcsO"
   },
   "outputs": [],
   "source": [
    "# df_cases_race = df.loc[(df.total_cases > 0) & (df.location != 'International')]"
   ]
  },
  {
   "cell_type": "code",
   "execution_count": 25,
   "metadata": {
    "colab_type": "text",
    "id": "LCsiXvM3BcsO"
   },
   "outputs": [],
   "source": [
    "# df_deaths_race = pd.DataFrame(df_deaths_race.groupby(['location', 'date']).sum()['total_deaths']).unstack().T.droplevel(level=0)"
   ]
  },
  {
   "cell_type": "code",
   "execution_count": 26,
   "metadata": {
    "colab_type": "text",
    "id": "LCsiXvM3BcsO"
   },
   "outputs": [],
   "source": [
    "# df_cases_race = pd.DataFrame(df_cases_race.groupby(['location', 'date']).sum()['total_cases']).unstack().T.droplevel(level=0)"
   ]
  },
  {
   "cell_type": "code",
   "execution_count": 27,
   "metadata": {
    "colab_type": "text",
    "id": "LCsiXvM3BcsO"
   },
   "outputs": [],
   "source": [
    "# bcr.bar_chart_race(df_deaths_race, n_bars=8)"
   ]
  },
  {
   "cell_type": "code",
   "execution_count": 28,
   "metadata": {
    "colab_type": "text",
    "id": "LCsiXvM3BcsO"
   },
   "outputs": [],
   "source": [
    "# bcr.bar_chart_race(df_cases_race, n_bars=8)"
   ]
  }
 ],
 "metadata": {
  "colab": {
   "collapsed_sections": [],
   "name": "[Template] Panorama do COVID-19 no Brasil.ipynb",
   "provenance": []
  },
  "kernelspec": {
   "display_name": "Python 3",
   "language": "python",
   "name": "python3"
  },
  "language_info": {
   "codemirror_mode": {
    "name": "ipython",
    "version": 3
   },
   "file_extension": ".py",
   "mimetype": "text/x-python",
   "name": "python",
   "nbconvert_exporter": "python",
   "pygments_lexer": "ipython3",
   "version": "3.7.6"
  }
 },
 "nbformat": 4,
 "nbformat_minor": 4
}
