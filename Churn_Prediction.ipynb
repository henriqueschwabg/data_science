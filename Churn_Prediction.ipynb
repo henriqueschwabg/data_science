{
 "cells": [
  {
   "cell_type": "markdown",
   "metadata": {},
   "source": [
    "# Churn Prediction\n",
    "\n",
    "Entender o motivo pelo qual os seus clientes param de adquirir o seu produto ou serviço é algo essencial para que o negócio se mantenha saudável, lucrativo e para que faça sucesso. É necessário que o número de novos clientes seja maior do que a taxa de clientes que cancelaram, chamada de Churn Rate. Para calcularmos esta taxa, basta dividirmos o número total de clientes desistentes pelo número total de clientes ativos do último mês. \n",
    "Podemos também calcular o MRR Churn, que é referente à receita do negócio, dividindo a soma dos valores que os clientes que cancelaram pagavam pela soma dos valores pagos por todos os clientes ativos no último mês.\n",
    "\n",
    "Como o custo de aquisição de um novo cliente é mais alto do que para manter um já existente, identificar possíveis cancelamentos previamente e adotar medidas para evitá-los é algo de extrema importância para um negócio."
   ]
  },
  {
   "cell_type": "markdown",
   "metadata": {},
   "source": [
    "Neste projeto, com a utilização de algoritmos de Machine Learning, iremos construir um modelo para, a partir de dados que o modelo criado não conhece, identificarmos quantas vezes detectaremos corretamente que um cliente cancelou a sua assinatura."
   ]
  },
  {
   "cell_type": "markdown",
   "metadata": {},
   "source": [
    "## Aquisição dos Dados\n",
    "\n",
    "Os dados que usaremos neste projeto foram originalmente disponibilizados na plataforma de ensino da [IBM Developer](https://developer.ibm.com/technologies/data-science/patterns/predict-customer-churn-using-watson-studio-and-jupyter-notebooks/#), e tratam de um problema típico de uma companhia de telecomunicações. O conjunto de dados completo pode ser obtido no [Kaggle](https://www.kaggle.com/blastchar/telco-customer-churn/data)."
   ]
  },
  {
   "cell_type": "markdown",
   "metadata": {},
   "source": [
    "Começaremos importando as bibliotecas e os dados que utilizaremos."
   ]
  },
  {
   "cell_type": "code",
   "execution_count": 1,
   "metadata": {},
   "outputs": [],
   "source": [
    "# importando as bibliotecas necessárias\n",
    "\n",
    "import pandas as pd\n",
    "import matplotlib.pyplot as plt\n",
    "import seaborn as sns\n",
    "import numpy as np\n",
    "\n",
    "from imblearn.under_sampling import RandomUnderSampler\n",
    "from sklearn.metrics import roc_auc_score, accuracy_score, f1_score, confusion_matrix, classification_report\n",
    "from scikitplot.metrics import plot_confusion_matrix, plot_roc\n",
    "from sklearn.preprocessing import StandardScaler, LabelEncoder\n",
    "from sklearn.pipeline import make_pipeline\n",
    "from sklearn.model_selection import train_test_split\n",
    "from sklearn.model_selection import cross_val_score\n",
    "from sklearn.model_selection import StratifiedKFold\n",
    "from sklearn.model_selection import GridSearchCV\n",
    "from sklearn.svm import SVC\n",
    "from lightgbm import LGBMClassifier\n",
    "from sklearn.linear_model import SGDClassifier\n",
    "from sklearn.tree import DecisionTreeClassifier\n",
    "from sklearn.linear_model import LogisticRegression\n",
    "from xgboost import XGBClassifier\n",
    "from sklearn.ensemble import RandomForestClassifier\n",
    "\n",
    "sns.set_style('dark')"
   ]
  },
  {
   "cell_type": "code",
   "execution_count": 2,
   "metadata": {},
   "outputs": [],
   "source": [
    "# importando os dados para um dataframe\n",
    "\n",
    "url = \"datasets/churn.csv\"\n",
    "df = pd.read_csv(url)"
   ]
  },
  {
   "cell_type": "markdown",
   "metadata": {},
   "source": [
    "Após importarmos os dados para um dataframe, vamos visualizar as 5 primeiras entradas do conjunto de dados."
   ]
  },
  {
   "cell_type": "code",
   "execution_count": 3,
   "metadata": {},
   "outputs": [
    {
     "data": {
      "text/html": [
       "<div>\n",
       "<style scoped>\n",
       "    .dataframe tbody tr th:only-of-type {\n",
       "        vertical-align: middle;\n",
       "    }\n",
       "\n",
       "    .dataframe tbody tr th {\n",
       "        vertical-align: top;\n",
       "    }\n",
       "\n",
       "    .dataframe thead th {\n",
       "        text-align: right;\n",
       "    }\n",
       "</style>\n",
       "<table border=\"1\" class=\"dataframe\">\n",
       "  <thead>\n",
       "    <tr style=\"text-align: right;\">\n",
       "      <th></th>\n",
       "      <th>customerID</th>\n",
       "      <th>gender</th>\n",
       "      <th>SeniorCitizen</th>\n",
       "      <th>Partner</th>\n",
       "      <th>Dependents</th>\n",
       "      <th>tenure</th>\n",
       "      <th>PhoneService</th>\n",
       "      <th>MultipleLines</th>\n",
       "      <th>InternetService</th>\n",
       "      <th>OnlineSecurity</th>\n",
       "      <th>...</th>\n",
       "      <th>DeviceProtection</th>\n",
       "      <th>TechSupport</th>\n",
       "      <th>StreamingTV</th>\n",
       "      <th>StreamingMovies</th>\n",
       "      <th>Contract</th>\n",
       "      <th>PaperlessBilling</th>\n",
       "      <th>PaymentMethod</th>\n",
       "      <th>MonthlyCharges</th>\n",
       "      <th>TotalCharges</th>\n",
       "      <th>Churn</th>\n",
       "    </tr>\n",
       "  </thead>\n",
       "  <tbody>\n",
       "    <tr>\n",
       "      <th>0</th>\n",
       "      <td>7590-VHVEG</td>\n",
       "      <td>Female</td>\n",
       "      <td>0</td>\n",
       "      <td>Yes</td>\n",
       "      <td>No</td>\n",
       "      <td>1</td>\n",
       "      <td>No</td>\n",
       "      <td>No phone service</td>\n",
       "      <td>DSL</td>\n",
       "      <td>No</td>\n",
       "      <td>...</td>\n",
       "      <td>No</td>\n",
       "      <td>No</td>\n",
       "      <td>No</td>\n",
       "      <td>No</td>\n",
       "      <td>Month-to-month</td>\n",
       "      <td>Yes</td>\n",
       "      <td>Electronic check</td>\n",
       "      <td>29.85</td>\n",
       "      <td>29.85</td>\n",
       "      <td>No</td>\n",
       "    </tr>\n",
       "    <tr>\n",
       "      <th>1</th>\n",
       "      <td>5575-GNVDE</td>\n",
       "      <td>Male</td>\n",
       "      <td>0</td>\n",
       "      <td>No</td>\n",
       "      <td>No</td>\n",
       "      <td>34</td>\n",
       "      <td>Yes</td>\n",
       "      <td>No</td>\n",
       "      <td>DSL</td>\n",
       "      <td>Yes</td>\n",
       "      <td>...</td>\n",
       "      <td>Yes</td>\n",
       "      <td>No</td>\n",
       "      <td>No</td>\n",
       "      <td>No</td>\n",
       "      <td>One year</td>\n",
       "      <td>No</td>\n",
       "      <td>Mailed check</td>\n",
       "      <td>56.95</td>\n",
       "      <td>1889.5</td>\n",
       "      <td>No</td>\n",
       "    </tr>\n",
       "    <tr>\n",
       "      <th>2</th>\n",
       "      <td>3668-QPYBK</td>\n",
       "      <td>Male</td>\n",
       "      <td>0</td>\n",
       "      <td>No</td>\n",
       "      <td>No</td>\n",
       "      <td>2</td>\n",
       "      <td>Yes</td>\n",
       "      <td>No</td>\n",
       "      <td>DSL</td>\n",
       "      <td>Yes</td>\n",
       "      <td>...</td>\n",
       "      <td>No</td>\n",
       "      <td>No</td>\n",
       "      <td>No</td>\n",
       "      <td>No</td>\n",
       "      <td>Month-to-month</td>\n",
       "      <td>Yes</td>\n",
       "      <td>Mailed check</td>\n",
       "      <td>53.85</td>\n",
       "      <td>108.15</td>\n",
       "      <td>Yes</td>\n",
       "    </tr>\n",
       "    <tr>\n",
       "      <th>3</th>\n",
       "      <td>7795-CFOCW</td>\n",
       "      <td>Male</td>\n",
       "      <td>0</td>\n",
       "      <td>No</td>\n",
       "      <td>No</td>\n",
       "      <td>45</td>\n",
       "      <td>No</td>\n",
       "      <td>No phone service</td>\n",
       "      <td>DSL</td>\n",
       "      <td>Yes</td>\n",
       "      <td>...</td>\n",
       "      <td>Yes</td>\n",
       "      <td>Yes</td>\n",
       "      <td>No</td>\n",
       "      <td>No</td>\n",
       "      <td>One year</td>\n",
       "      <td>No</td>\n",
       "      <td>Bank transfer (automatic)</td>\n",
       "      <td>42.30</td>\n",
       "      <td>1840.75</td>\n",
       "      <td>No</td>\n",
       "    </tr>\n",
       "    <tr>\n",
       "      <th>4</th>\n",
       "      <td>9237-HQITU</td>\n",
       "      <td>Female</td>\n",
       "      <td>0</td>\n",
       "      <td>No</td>\n",
       "      <td>No</td>\n",
       "      <td>2</td>\n",
       "      <td>Yes</td>\n",
       "      <td>No</td>\n",
       "      <td>Fiber optic</td>\n",
       "      <td>No</td>\n",
       "      <td>...</td>\n",
       "      <td>No</td>\n",
       "      <td>No</td>\n",
       "      <td>No</td>\n",
       "      <td>No</td>\n",
       "      <td>Month-to-month</td>\n",
       "      <td>Yes</td>\n",
       "      <td>Electronic check</td>\n",
       "      <td>70.70</td>\n",
       "      <td>151.65</td>\n",
       "      <td>Yes</td>\n",
       "    </tr>\n",
       "  </tbody>\n",
       "</table>\n",
       "<p>5 rows × 21 columns</p>\n",
       "</div>"
      ],
      "text/plain": [
       "   customerID  gender  SeniorCitizen Partner Dependents  tenure PhoneService  \\\n",
       "0  7590-VHVEG  Female              0     Yes         No       1           No   \n",
       "1  5575-GNVDE    Male              0      No         No      34          Yes   \n",
       "2  3668-QPYBK    Male              0      No         No       2          Yes   \n",
       "3  7795-CFOCW    Male              0      No         No      45           No   \n",
       "4  9237-HQITU  Female              0      No         No       2          Yes   \n",
       "\n",
       "      MultipleLines InternetService OnlineSecurity  ... DeviceProtection  \\\n",
       "0  No phone service             DSL             No  ...               No   \n",
       "1                No             DSL            Yes  ...              Yes   \n",
       "2                No             DSL            Yes  ...               No   \n",
       "3  No phone service             DSL            Yes  ...              Yes   \n",
       "4                No     Fiber optic             No  ...               No   \n",
       "\n",
       "  TechSupport StreamingTV StreamingMovies        Contract PaperlessBilling  \\\n",
       "0          No          No              No  Month-to-month              Yes   \n",
       "1          No          No              No        One year               No   \n",
       "2          No          No              No  Month-to-month              Yes   \n",
       "3         Yes          No              No        One year               No   \n",
       "4          No          No              No  Month-to-month              Yes   \n",
       "\n",
       "               PaymentMethod MonthlyCharges  TotalCharges Churn  \n",
       "0           Electronic check          29.85         29.85    No  \n",
       "1               Mailed check          56.95        1889.5    No  \n",
       "2               Mailed check          53.85        108.15   Yes  \n",
       "3  Bank transfer (automatic)          42.30       1840.75    No  \n",
       "4           Electronic check          70.70        151.65   Yes  \n",
       "\n",
       "[5 rows x 21 columns]"
      ]
     },
     "execution_count": 3,
     "metadata": {},
     "output_type": "execute_result"
    }
   ],
   "source": [
    "# visualizando as 5 primeiras entradas\n",
    "\n",
    "df.head()"
   ]
  },
  {
   "cell_type": "markdown",
   "metadata": {},
   "source": [
    "## Análise Exploratória dos Dados\n",
    "\n",
    "Começaremos a análise visualizando os nomes das colunas e seus tipos de dados, além da quantidade de linhas e colunas do conjunto de dados. "
   ]
  },
  {
   "cell_type": "code",
   "execution_count": 4,
   "metadata": {},
   "outputs": [
    {
     "data": {
      "text/plain": [
       "customerID           object\n",
       "gender               object\n",
       "SeniorCitizen         int64\n",
       "Partner              object\n",
       "Dependents           object\n",
       "tenure                int64\n",
       "PhoneService         object\n",
       "MultipleLines        object\n",
       "InternetService      object\n",
       "OnlineSecurity       object\n",
       "OnlineBackup         object\n",
       "DeviceProtection     object\n",
       "TechSupport          object\n",
       "StreamingTV          object\n",
       "StreamingMovies      object\n",
       "Contract             object\n",
       "PaperlessBilling     object\n",
       "PaymentMethod        object\n",
       "MonthlyCharges      float64\n",
       "TotalCharges         object\n",
       "Churn                object\n",
       "dtype: object"
      ]
     },
     "execution_count": 4,
     "metadata": {},
     "output_type": "execute_result"
    }
   ],
   "source": [
    "# visualizando os nomes e os tipos de dados das colunas do dataframe\n",
    "\n",
    "df.dtypes"
   ]
  },
  {
   "cell_type": "code",
   "execution_count": 5,
   "metadata": {},
   "outputs": [
    {
     "data": {
      "text/plain": [
       "(7043, 21)"
      ]
     },
     "execution_count": 5,
     "metadata": {},
     "output_type": "execute_result"
    }
   ],
   "source": [
    "# obtendo a quantidade de linhas e colunas do dataframe\n",
    "\n",
    "df.shape"
   ]
  },
  {
   "cell_type": "markdown",
   "metadata": {},
   "source": [
    "Como podemos ver, o nosso dataframe possui 7043 linhas e 21 colunas. A fim de identificarmos possíveis variáveis categóricas, iremos obter a quantidade de valores únicos por coluna."
   ]
  },
  {
   "cell_type": "code",
   "execution_count": 6,
   "metadata": {},
   "outputs": [
    {
     "data": {
      "text/plain": [
       "customerID          7043\n",
       "gender                 2\n",
       "SeniorCitizen          2\n",
       "Partner                2\n",
       "Dependents             2\n",
       "tenure                73\n",
       "PhoneService           2\n",
       "MultipleLines          3\n",
       "InternetService        3\n",
       "OnlineSecurity         3\n",
       "OnlineBackup           3\n",
       "DeviceProtection       3\n",
       "TechSupport            3\n",
       "StreamingTV            3\n",
       "StreamingMovies        3\n",
       "Contract               3\n",
       "PaperlessBilling       2\n",
       "PaymentMethod          4\n",
       "MonthlyCharges      1585\n",
       "TotalCharges        6531\n",
       "Churn                  2\n",
       "dtype: int64"
      ]
     },
     "execution_count": 6,
     "metadata": {},
     "output_type": "execute_result"
    }
   ],
   "source": [
    "# obtendo a quantidade de valores diferentes por coluna\n",
    "\n",
    "df.nunique()"
   ]
  },
  {
   "cell_type": "markdown",
   "metadata": {},
   "source": [
    "Vamos verificar se o conjunto de dados possui valores faltantes."
   ]
  },
  {
   "cell_type": "code",
   "execution_count": 7,
   "metadata": {},
   "outputs": [
    {
     "data": {
      "text/plain": [
       "0"
      ]
     },
     "execution_count": 7,
     "metadata": {},
     "output_type": "execute_result"
    }
   ],
   "source": [
    "# verificando se há valores faltantes\n",
    "\n",
    "df.isnull().sum().values.sum()"
   ]
  },
  {
   "cell_type": "markdown",
   "metadata": {},
   "source": [
    "Como vimos anteriormente, cada linha do dataframe representa um cliente e cada coluna contém informações referentes à assinatura realizada pelo cliente. Pudemos ver também que a coluna 'TotalCharges', que é referente ao valor total que já foi cobrado ao cliente, está no formato 'object', apesar de ser um valor numérico. Portanto, para podermos trabalhar com estes dados numéricos, converteremos a coluna para o tipo de dado 'float'. Criaremos uma função para esta conversão."
   ]
  },
  {
   "cell_type": "code",
   "execution_count": 8,
   "metadata": {},
   "outputs": [],
   "source": [
    "# criando uma função para converter os valores\n",
    "\n",
    "def str_to_float(value):\n",
    "    \n",
    "    try:\n",
    "        return float(value)\n",
    "    except ValueError:\n",
    "        return np.nan\n",
    "    \n",
    "# convertendo os valores utilizando a função\n",
    "\n",
    "df_clean = df.copy()\n",
    "df_clean['TotalCharges'] = df_clean['TotalCharges'].apply(str_to_float)"
   ]
  },
  {
   "cell_type": "markdown",
   "metadata": {},
   "source": [
    "Após a conversão, vamos verificar se houve tentativa de converter algum valor não numérico em numérico. Se identificada, aplicaremos a mediana de todos os valores numéricos da coluna para estes valores não numéricos."
   ]
  },
  {
   "cell_type": "code",
   "execution_count": 9,
   "metadata": {},
   "outputs": [
    {
     "data": {
      "text/plain": [
       "11"
      ]
     },
     "execution_count": 9,
     "metadata": {},
     "output_type": "execute_result"
    }
   ],
   "source": [
    "# verificando se há valores não numéricos na coluna 'TotalCharges'\n",
    "\n",
    "df_clean['TotalCharges'].isnull().sum()"
   ]
  },
  {
   "cell_type": "code",
   "execution_count": 10,
   "metadata": {},
   "outputs": [],
   "source": [
    "# salvando a mediana dos valores da coluna 'TotalCharges'\n",
    "\n",
    "totalChargesMedian = df_clean['TotalCharges'].median()\n",
    "\n",
    "# preenchendo os valores não numéricos com a mediana\n",
    "\n",
    "df_clean['TotalCharges'].fillna(totalChargesMedian, inplace = True)"
   ]
  },
  {
   "cell_type": "markdown",
   "metadata": {},
   "source": [
    "Feito isso, apagaremos a coluna 'costumerID' pois não a utilizaremos para esta análise."
   ]
  },
  {
   "cell_type": "code",
   "execution_count": 11,
   "metadata": {},
   "outputs": [],
   "source": [
    "# removendo a coluna 'costumerID'\n",
    "\n",
    "df_clean.drop('customerID', axis = 1, inplace = True)"
   ]
  },
  {
   "cell_type": "markdown",
   "metadata": {},
   "source": [
    "Agora, iremos olhar quais são os valores que estão contidos em algumas das colunas, referentes a serviços, que informam se o cliente adquiriu ou não um serviço em específico."
   ]
  },
  {
   "cell_type": "code",
   "execution_count": 12,
   "metadata": {},
   "outputs": [
    {
     "data": {
      "text/plain": [
       "No                     3498\n",
       "Yes                    2019\n",
       "No internet service    1526\n",
       "Name: OnlineSecurity, dtype: int64"
      ]
     },
     "execution_count": 12,
     "metadata": {},
     "output_type": "execute_result"
    }
   ],
   "source": [
    "# obtendo os valores da coluna 'OnlineSecurity'\n",
    "\n",
    "df_clean['OnlineSecurity'].value_counts()"
   ]
  },
  {
   "cell_type": "code",
   "execution_count": 13,
   "metadata": {},
   "outputs": [
    {
     "data": {
      "text/plain": [
       "No                     3088\n",
       "Yes                    2429\n",
       "No internet service    1526\n",
       "Name: OnlineBackup, dtype: int64"
      ]
     },
     "execution_count": 13,
     "metadata": {},
     "output_type": "execute_result"
    }
   ],
   "source": [
    "# obtendo os valores da coluna 'OnlineBackup'\n",
    "\n",
    "df_clean['OnlineBackup'].value_counts()"
   ]
  },
  {
   "cell_type": "code",
   "execution_count": 14,
   "metadata": {},
   "outputs": [
    {
     "data": {
      "text/plain": [
       "No                     3095\n",
       "Yes                    2422\n",
       "No internet service    1526\n",
       "Name: DeviceProtection, dtype: int64"
      ]
     },
     "execution_count": 14,
     "metadata": {},
     "output_type": "execute_result"
    }
   ],
   "source": [
    "# obtendo os valores da coluna 'DeviceProtection'\n",
    "\n",
    "df_clean['DeviceProtection'].value_counts()"
   ]
  },
  {
   "cell_type": "code",
   "execution_count": 15,
   "metadata": {},
   "outputs": [
    {
     "data": {
      "text/plain": [
       "No                     3473\n",
       "Yes                    2044\n",
       "No internet service    1526\n",
       "Name: TechSupport, dtype: int64"
      ]
     },
     "execution_count": 15,
     "metadata": {},
     "output_type": "execute_result"
    }
   ],
   "source": [
    "# obtendo os valores da coluna 'TechSupport'\n",
    "\n",
    "df_clean['TechSupport'].value_counts()"
   ]
  },
  {
   "cell_type": "code",
   "execution_count": 16,
   "metadata": {},
   "outputs": [
    {
     "data": {
      "text/plain": [
       "No                     2810\n",
       "Yes                    2707\n",
       "No internet service    1526\n",
       "Name: StreamingTV, dtype: int64"
      ]
     },
     "execution_count": 16,
     "metadata": {},
     "output_type": "execute_result"
    }
   ],
   "source": [
    "# obtendo os valores da coluna 'StreamingTV'\n",
    "\n",
    "df_clean['StreamingTV'].value_counts()"
   ]
  },
  {
   "cell_type": "code",
   "execution_count": 17,
   "metadata": {},
   "outputs": [
    {
     "data": {
      "text/plain": [
       "No                     2785\n",
       "Yes                    2732\n",
       "No internet service    1526\n",
       "Name: StreamingMovies, dtype: int64"
      ]
     },
     "execution_count": 17,
     "metadata": {},
     "output_type": "execute_result"
    }
   ],
   "source": [
    "# obtendo os valores da coluna 'StreamingMovies'\n",
    "\n",
    "df_clean['StreamingMovies'].value_counts()"
   ]
  },
  {
   "cell_type": "markdown",
   "metadata": {},
   "source": [
    "Assumindo a premissa de que os clientes que não possuem o serviço de internet também não possuem um serviço em específico, substituiremos os valores 'No internet service' por 'No' das colunas acima analisadas."
   ]
  },
  {
   "cell_type": "code",
   "execution_count": 18,
   "metadata": {},
   "outputs": [],
   "source": [
    "# substituindo 'No internet service' por 'No' das colunas definidas\n",
    "\n",
    "col_names = ['OnlineSecurity', \\\n",
    "             'OnlineBackup', \\\n",
    "             'DeviceProtection', \\\n",
    "             'TechSupport', \\\n",
    "             'StreamingTV', \\\n",
    "             'StreamingMovies']\n",
    "\n",
    "for i in col_names:\n",
    "    df_clean[i] = df_clean[i].replace({'No internet service' : 'No'})"
   ]
  },
  {
   "cell_type": "markdown",
   "metadata": {},
   "source": [
    "A coluna 'tenure' é referente ao número de meses em que o cliente contratou o serviço. A fim de inserirmos uma nova coluna categórica, criaremos uma coluna com faixas temporais de permanência no serviço. Para isto, criaremos uma nova função."
   ]
  },
  {
   "cell_type": "code",
   "execution_count": 19,
   "metadata": {},
   "outputs": [],
   "source": [
    "# criando uma função para classificação por faixa temporal\n",
    "\n",
    "def set_tenure_category(v):\n",
    "    \n",
    "    if (v <= 12):\n",
    "        return 'Tenure_0-12'\n",
    "    elif (v > 12) & (v <= 24):\n",
    "        return 'Tenure_13-24'\n",
    "    elif (v > 24) & (v <= 48):\n",
    "        return 'Tenure_25-48'\n",
    "    elif (v > 48) & (v <= 60):\n",
    "        return 'Tenure_49-60'\n",
    "    elif (v > 60):\n",
    "        return 'Tenure_qt_60'"
   ]
  },
  {
   "cell_type": "code",
   "execution_count": 20,
   "metadata": {},
   "outputs": [],
   "source": [
    "# criando uma nova coluna com os valores por faixa\n",
    "\n",
    "df_clean['tenure_group'] = df_clean['tenure'].apply(set_tenure_category)"
   ]
  },
  {
   "cell_type": "markdown",
   "metadata": {},
   "source": [
    "Este conjunto de dados é composto majoritariamente por variáveis binárias ou categóricas, e é possível ver abaixo, pelo método describe, que não há indícios da presença de outliers."
   ]
  },
  {
   "cell_type": "code",
   "execution_count": 21,
   "metadata": {},
   "outputs": [
    {
     "data": {
      "text/html": [
       "<div>\n",
       "<style scoped>\n",
       "    .dataframe tbody tr th:only-of-type {\n",
       "        vertical-align: middle;\n",
       "    }\n",
       "\n",
       "    .dataframe tbody tr th {\n",
       "        vertical-align: top;\n",
       "    }\n",
       "\n",
       "    .dataframe thead th {\n",
       "        text-align: right;\n",
       "    }\n",
       "</style>\n",
       "<table border=\"1\" class=\"dataframe\">\n",
       "  <thead>\n",
       "    <tr style=\"text-align: right;\">\n",
       "      <th></th>\n",
       "      <th>SeniorCitizen</th>\n",
       "      <th>tenure</th>\n",
       "      <th>MonthlyCharges</th>\n",
       "      <th>TotalCharges</th>\n",
       "    </tr>\n",
       "  </thead>\n",
       "  <tbody>\n",
       "    <tr>\n",
       "      <th>count</th>\n",
       "      <td>7043.000000</td>\n",
       "      <td>7043.000000</td>\n",
       "      <td>7043.000000</td>\n",
       "      <td>7043.000000</td>\n",
       "    </tr>\n",
       "    <tr>\n",
       "      <th>mean</th>\n",
       "      <td>0.162147</td>\n",
       "      <td>32.371149</td>\n",
       "      <td>64.761692</td>\n",
       "      <td>2281.916928</td>\n",
       "    </tr>\n",
       "    <tr>\n",
       "      <th>std</th>\n",
       "      <td>0.368612</td>\n",
       "      <td>24.559481</td>\n",
       "      <td>30.090047</td>\n",
       "      <td>2265.270398</td>\n",
       "    </tr>\n",
       "    <tr>\n",
       "      <th>min</th>\n",
       "      <td>0.000000</td>\n",
       "      <td>0.000000</td>\n",
       "      <td>18.250000</td>\n",
       "      <td>18.800000</td>\n",
       "    </tr>\n",
       "    <tr>\n",
       "      <th>25%</th>\n",
       "      <td>0.000000</td>\n",
       "      <td>9.000000</td>\n",
       "      <td>35.500000</td>\n",
       "      <td>402.225000</td>\n",
       "    </tr>\n",
       "    <tr>\n",
       "      <th>50%</th>\n",
       "      <td>0.000000</td>\n",
       "      <td>29.000000</td>\n",
       "      <td>70.350000</td>\n",
       "      <td>1397.475000</td>\n",
       "    </tr>\n",
       "    <tr>\n",
       "      <th>75%</th>\n",
       "      <td>0.000000</td>\n",
       "      <td>55.000000</td>\n",
       "      <td>89.850000</td>\n",
       "      <td>3786.600000</td>\n",
       "    </tr>\n",
       "    <tr>\n",
       "      <th>max</th>\n",
       "      <td>1.000000</td>\n",
       "      <td>72.000000</td>\n",
       "      <td>118.750000</td>\n",
       "      <td>8684.800000</td>\n",
       "    </tr>\n",
       "  </tbody>\n",
       "</table>\n",
       "</div>"
      ],
      "text/plain": [
       "       SeniorCitizen       tenure  MonthlyCharges  TotalCharges\n",
       "count    7043.000000  7043.000000     7043.000000   7043.000000\n",
       "mean        0.162147    32.371149       64.761692   2281.916928\n",
       "std         0.368612    24.559481       30.090047   2265.270398\n",
       "min         0.000000     0.000000       18.250000     18.800000\n",
       "25%         0.000000     9.000000       35.500000    402.225000\n",
       "50%         0.000000    29.000000       70.350000   1397.475000\n",
       "75%         0.000000    55.000000       89.850000   3786.600000\n",
       "max         1.000000    72.000000      118.750000   8684.800000"
      ]
     },
     "execution_count": 21,
     "metadata": {},
     "output_type": "execute_result"
    }
   ],
   "source": [
    "# obtendo um resumo estatístico\n",
    "\n",
    "df_clean.describe()"
   ]
  },
  {
   "cell_type": "markdown",
   "metadata": {},
   "source": [
    "Confirmando a ausência de outliers:"
   ]
  },
  {
   "cell_type": "code",
   "execution_count": 22,
   "metadata": {},
   "outputs": [
    {
     "name": "stdout",
     "output_type": "stream",
     "text": [
      "8863.1625\n",
      "-4674.3375\n"
     ]
    }
   ],
   "source": [
    "# aplicando o cálculo do 1.5 x IQR na coluna 'TotalCharges'\n",
    "\n",
    "Q1 = df_clean['TotalCharges'].quantile(q = 0.25)\n",
    "Q3 = df_clean['TotalCharges'].quantile(q = 0.75)\n",
    "\n",
    "IQR = Q3 - Q1\n",
    "print(Q3 + 1.5 * IQR)\n",
    "print(Q1 - 1.5 * IQR)"
   ]
  },
  {
   "cell_type": "code",
   "execution_count": 23,
   "metadata": {},
   "outputs": [
    {
     "name": "stdout",
     "output_type": "stream",
     "text": [
      "171.375\n",
      "-46.02499999999999\n"
     ]
    }
   ],
   "source": [
    "# aplicando o cálculo do 1.5 x IQR na coluna 'MonthlyCharges'\n",
    "\n",
    "Q1 = df_clean['MonthlyCharges'].quantile(q = 0.25)\n",
    "Q3 = df_clean['MonthlyCharges'].quantile(q = 0.75)\n",
    "\n",
    "IQR = Q3 - Q1\n",
    "print(Q3 + 1.5 * IQR)\n",
    "print(Q1 - 1.5 * IQR)"
   ]
  },
  {
   "cell_type": "markdown",
   "metadata": {},
   "source": [
    "Enfim, plotaremos gráficos de caixa para as colunas 'MonthlyCharges' e 'TotalCharges'."
   ]
  },
  {
   "cell_type": "code",
   "execution_count": 24,
   "metadata": {},
   "outputs": [
    {
     "data": {
      "image/png": "[encoded data removed]",
      "text/plain": [
       "<Figure size 864x288 with 2 Axes>"
      ]
     },
     "metadata": {},
     "output_type": "display_data"
    }
   ],
   "source": [
    "# plotando boxplots para as colunas 'MonthlyCharges' e 'TotalCharges'\n",
    "\n",
    "fig, ax = plt.subplots(nrows = 1, ncols = 2, figsize = (12, 4))\n",
    "sns.boxplot(df_clean['MonthlyCharges'], ax = ax[0], showmeans = True)\n",
    "sns.boxplot(df_clean['TotalCharges'], ax = ax[1], showmeans = True)\n",
    "ax[0].set_title('Valor Mensal Total')\n",
    "ax[1].set_title('Valor Total')\n",
    "ax[0].set_xlabel('')\n",
    "ax[1].set_xlabel('')\n",
    "plt.tight_layout()"
   ]
  },
  {
   "cell_type": "markdown",
   "metadata": {},
   "source": [
    "## Visualização de dados\n",
    "\n",
    "Veremos agora, gerando gráficos, quais informações podemos obter a partir do conjunto de dados."
   ]
  },
  {
   "cell_type": "markdown",
   "metadata": {},
   "source": [
    "No gráfico de distribuição abaixo, podemos ver a distribuição dos valores pagos mensalmente pelos clientes."
   ]
  },
  {
   "cell_type": "code",
   "execution_count": 25,
   "metadata": {},
   "outputs": [
    {
     "data": {
      "image/png": "[encoded data removed]",
      "text/plain": [
       "<Figure size 720x288 with 1 Axes>"
      ]
     },
     "metadata": {},
     "output_type": "display_data"
    }
   ],
   "source": [
    "# gerando um gráfico de distribuição para a coluna 'MonthlyCharges'\n",
    "\n",
    "fig, ax = plt.subplots(figsize = (10, 4))\n",
    "sns.distplot(df_clean['MonthlyCharges'], ax = ax, bins = 40)\n",
    "ax.set_xlabel('')\n",
    "ax.set_title('Cobranças Mensais')\n",
    "plt.tight_layout()"
   ]
  },
  {
   "cell_type": "markdown",
   "metadata": {},
   "source": [
    "Já neste outro gráfico, podemos ver a distribuição de todos os valores pagos pelos clientes."
   ]
  },
  {
   "cell_type": "code",
   "execution_count": 26,
   "metadata": {},
   "outputs": [
    {
     "data": {
      "image/png": "[encoded data removed]",
      "text/plain": [
       "<Figure size 720x288 with 1 Axes>"
      ]
     },
     "metadata": {},
     "output_type": "display_data"
    }
   ],
   "source": [
    "# gerando um gráfico de distribuição para a coluna 'TotalCharges'\n",
    "\n",
    "fig, ax = plt.subplots(figsize = (10, 4))\n",
    "sns.distplot(df_clean['TotalCharges'], ax = ax, bins = 40)\n",
    "ax.set_xlabel('')\n",
    "ax.set_title('Cobranças Totais')\n",
    "plt.tight_layout()"
   ]
  },
  {
   "cell_type": "markdown",
   "metadata": {},
   "source": [
    "Agora, gerando um gráfico de barras, podemos ver que, dentre as faixas temporais de permanência no serviço criadas para esta análise, aquelas com mais clientes registrados foram 'Entre 0 a 12 meses' e 'Entre 25 e 48 meses'."
   ]
  },
  {
   "cell_type": "code",
   "execution_count": 27,
   "metadata": {},
   "outputs": [
    {
     "data": {
      "image/png": "[encoded data removed]",
      "text/plain": [
       "<Figure size 864x288 with 1 Axes>"
      ]
     },
     "metadata": {},
     "output_type": "display_data"
    }
   ],
   "source": [
    "# gerando um gráfico de barras da coluna 'tenure_group'\n",
    "\n",
    "fig, ax = plt.subplots(figsize = (12, 4))\n",
    "ax.set_title('Faixas Temporais')\n",
    "sns.countplot(df_clean['tenure_group'], ax = ax)\n",
    "ax.set_xticklabels(('Entre 0 e 12', 'Entre 25 e 48', 'Entre 13 e 24', 'Mais de 60', 'Entre 49 e 60'))\n",
    "ax.set_xlabel('')\n",
    "ax.set_ylabel('quantidade')\n",
    "plt.tight_layout()"
   ]
  },
  {
   "cell_type": "markdown",
   "metadata": {},
   "source": [
    "Neste outro gráfico de barras podemos ver que o tipo de contrato mais assinado foi o de assinatura mensal."
   ]
  },
  {
   "cell_type": "code",
   "execution_count": 28,
   "metadata": {},
   "outputs": [
    {
     "data": {
      "image/png": "[encoded data removed]",
      "text/plain": [
       "<Figure size 432x288 with 1 Axes>"
      ]
     },
     "metadata": {},
     "output_type": "display_data"
    }
   ],
   "source": [
    "# gerando um gráfico de barras da coluna 'Contract'\n",
    "\n",
    "fig, ax = plt.subplots()\n",
    "ax.set_title('Tipo de Contrato')\n",
    "sns.countplot('Contract', data = df_clean, ax = ax)\n",
    "ax.set_xticklabels(('Mensal', 'Anual', '2 anos'))\n",
    "ax.set_xlabel('')\n",
    "ax.set_ylabel('quantidade')\n",
    "plt.show()"
   ]
  },
  {
   "cell_type": "markdown",
   "metadata": {},
   "source": [
    "Vemos também que a forma de pagamento mais utilizado foi a de 'Electronic check'."
   ]
  },
  {
   "cell_type": "code",
   "execution_count": 29,
   "metadata": {},
   "outputs": [
    {
     "data": {
      "image/png": "[encoded data removed]",
      "text/plain": [
       "<Figure size 864x432 with 1 Axes>"
      ]
     },
     "metadata": {},
     "output_type": "display_data"
    }
   ],
   "source": [
    "# gráfico de barras da coluna 'PaymentMethod'\n",
    "\n",
    "fig, ax = plt.subplots(figsize = (12, 6))\n",
    "ax.set_title('Formas de Pagamento')\n",
    "sns.countplot('PaymentMethod', data = df_clean, ax = ax)\n",
    "ax.set_xlabel('')\n",
    "ax.set_ylabel('quantidade')\n",
    "plt.tight_layout()"
   ]
  },
  {
   "cell_type": "markdown",
   "metadata": {},
   "source": [
    "Gerando mais dois gráficos de barras, podemos ver que a porcentagem de clientes idosos é muito baixa em relação a de não idosos. Já quanto ao gênero, podemos ver que a diferença é mínima, com uma pequena vantagem no número de clientes do sexo masculino."
   ]
  },
  {
   "cell_type": "code",
   "execution_count": 30,
   "metadata": {},
   "outputs": [
    {
     "data": {
      "image/png": "[encoded data removed]",
      "text/plain": [
       "<Figure size 864x288 with 2 Axes>"
      ]
     },
     "metadata": {},
     "output_type": "display_data"
    }
   ],
   "source": [
    "# gerando gráficos de barras das colunas 'SeniorCitizen' e 'gender'\n",
    "\n",
    "fig, ax = plt.subplots(nrows = 1, ncols = 2, figsize = (12, 4))\n",
    "\n",
    "ax[0].set_title('Cidadão Idoso?')\n",
    "sns.countplot('SeniorCitizen', data = df_clean, ax = ax[0])\n",
    "ax[0].set_xticklabels(('Não', 'Sim'))\n",
    "ax[0].set_xlabel('')\n",
    "ax[0].set_ylabel('quantidade')\n",
    "\n",
    "ax[1].set_title('Gênero')\n",
    "sns.countplot('gender', data = df_clean, ax = ax[1], edgecolor = sns.color_palette('dark', 3))\n",
    "ax[1].set_xticklabels(('Feminino', 'Masculino'))\n",
    "ax[1].set_xlabel('')\n",
    "ax[1].set_ylabel('quantidade')\n",
    "\n",
    "plt.tight_layout()"
   ]
  },
  {
   "cell_type": "markdown",
   "metadata": {},
   "source": [
    "Plotaremos gráficos de barras para as colunas em que alteramos anteriormente o valor 'No internet service' para 'No'."
   ]
  },
  {
   "cell_type": "code",
   "execution_count": 31,
   "metadata": {},
   "outputs": [
    {
     "data": {
      "image/png": "[encoded data removed]",
      "text/plain": [
       "<Figure size 792x792 with 6 Axes>"
      ]
     },
     "metadata": {},
     "output_type": "display_data"
    }
   ],
   "source": [
    "# gerando gráficos de barras para as colunas definidas\n",
    "\n",
    "column_names = 'OnlineSecurity', \\\n",
    "               'OnlineBackup', \\\n",
    "               'DeviceProtection', \\\n",
    "               'TechSupport', \\\n",
    "               'StreamingTV', \\\n",
    "               'StreamingMovies'\n",
    "\n",
    "column_names_pt = 'Segurança Online', \\\n",
    "                  'Backup Online', \\\n",
    "                  'Proteção de Dispositivo', \\\n",
    "                  'Suporte Técnico', \\\n",
    "                  'Streaming de TV', \\\n",
    "                  'Streaming de Filmes'\n",
    "\n",
    "fig, ax = plt.subplots(nrows = 3, ncols = 2, figsize = (11,11))\n",
    "fig.subplots_adjust(hspace = 1, wspace = 1)\n",
    "\n",
    "ind = 0\n",
    "for col, col_pt in zip(column_names, column_names_pt):\n",
    "    ind += 1\n",
    "    plt.subplot(3, 2, ind)\n",
    "    sns.countplot(df_clean[col])\n",
    "    plt.title(col_pt)\n",
    "    plt.ylabel('quantidade')\n",
    "    plt.xlabel('')\n",
    "plt.tight_layout()"
   ]
  },
  {
   "cell_type": "markdown",
   "metadata": {},
   "source": [
    "### Churn\n",
    "\n",
    "Neste conjunto de dados, a coluna 'Churn' indica quando um cliente cancelou a sua assinatura com a operadora de telecomunicação. Veremos agora a quantidade de clientes que cancelaram e a de clientes que continuam com a assinatura."
   ]
  },
  {
   "cell_type": "code",
   "execution_count": 32,
   "metadata": {},
   "outputs": [
    {
     "name": "stdout",
     "output_type": "stream",
     "text": [
      "No     73.46\n",
      "Yes    26.54\n",
      "Name: Churn, dtype: float64\n"
     ]
    }
   ],
   "source": [
    "# obtendo a porcentagem de 'Yes' e 'No' da coluna 'Churn'\n",
    "\n",
    "print(round((df_clean.Churn.value_counts() / df_clean.shape[0]) * 100, 2))"
   ]
  },
  {
   "cell_type": "markdown",
   "metadata": {},
   "source": [
    "Como vimos, 26,54% dos clientes registrados nos dados que estamos analisando cancelaram as suas assinaturas. Plotaremos um gráfico de barras para vermos graficamente essa informação."
   ]
  },
  {
   "cell_type": "code",
   "execution_count": 33,
   "metadata": {},
   "outputs": [
    {
     "data": {
      "image/png": "[encoded data removed]",
      "text/plain": [
       "<Figure size 432x288 with 1 Axes>"
      ]
     },
     "metadata": {},
     "output_type": "display_data"
    }
   ],
   "source": [
    "# plotando um gráfico de barras da coluna 'Churn'\n",
    "\n",
    "fig, ax = plt.subplots()\n",
    "ax.set_title('Cancelou a assinatura?')\n",
    "sns.countplot('Churn', data = df_clean, ax = ax)\n",
    "ax.set_xticklabels(('Não', 'Sim'))\n",
    "ax.set_xlabel('')\n",
    "ax.set_ylabel('Quantidade de Clientes')\n",
    "\n",
    "plt.tight_layout()"
   ]
  },
  {
   "cell_type": "markdown",
   "metadata": {},
   "source": [
    "## Preparação dos Dados\n",
    "\n",
    "Nesta etapa de preparação dos dados, realizaremos um pré-processamento básico, apenas com a finalidade de construirmos um modelo base. Separaremos as colunas com tipos de dados numéricos das com tipos de dados categóricos."
   ]
  },
  {
   "cell_type": "code",
   "execution_count": 34,
   "metadata": {},
   "outputs": [],
   "source": [
    "# obtendo as colunas categóricas que possuem 2 valores diferentes\n",
    "\n",
    "binary_cols = df_clean.nunique()[df_clean.nunique() == 2].keys().tolist()\n",
    "\n",
    "# obtendo as colunas numéricas\n",
    "\n",
    "num_cols = [c for c in df_clean.select_dtypes(['int', 'float']).columns.tolist() if c not in binary_cols]\n",
    "\n",
    "# obtendo as colunas categóricas restantes\n",
    "\n",
    "cat_cols = [c for c in df_clean.columns.tolist() if c not in binary_cols + num_cols]"
   ]
  },
  {
   "cell_type": "markdown",
   "metadata": {},
   "source": [
    "Os valores das colunas categóricas serão transformadas em variáveis 'dummy', ou seja, cada valor registrado para essas colunas virará uma nova coluna, contendo como valor 0 ou 1. As colunas que contêm apenas dois tipos diferentes de valores serão processadas usando o 'LabelEncoder', transformando os valores em 0 e 1."
   ]
  },
  {
   "cell_type": "code",
   "execution_count": 35,
   "metadata": {},
   "outputs": [],
   "source": [
    "# aplicando o 'LabelEncoder' e obtendo as variáveis 'dummy' \n",
    "\n",
    "df_proc = df_clean.copy()\n",
    "\n",
    "lblencoder = LabelEncoder()\n",
    "for b in binary_cols:\n",
    "    df_proc[b] = lblencoder.fit_transform(df_proc[b])\n",
    "    \n",
    "df_proc = pd.get_dummies(df_proc, columns = cat_cols)"
   ]
  },
  {
   "cell_type": "markdown",
   "metadata": {},
   "source": [
    "Visualizaremos agora as 5 primeiras entradas do dataframe após as modificações."
   ]
  },
  {
   "cell_type": "code",
   "execution_count": 36,
   "metadata": {},
   "outputs": [
    {
     "data": {
      "text/html": [
       "<div>\n",
       "<style scoped>\n",
       "    .dataframe tbody tr th:only-of-type {\n",
       "        vertical-align: middle;\n",
       "    }\n",
       "\n",
       "    .dataframe tbody tr th {\n",
       "        vertical-align: top;\n",
       "    }\n",
       "\n",
       "    .dataframe thead th {\n",
       "        text-align: right;\n",
       "    }\n",
       "</style>\n",
       "<table border=\"1\" class=\"dataframe\">\n",
       "  <thead>\n",
       "    <tr style=\"text-align: right;\">\n",
       "      <th></th>\n",
       "      <th>gender</th>\n",
       "      <th>SeniorCitizen</th>\n",
       "      <th>Partner</th>\n",
       "      <th>Dependents</th>\n",
       "      <th>PhoneService</th>\n",
       "      <th>OnlineSecurity</th>\n",
       "      <th>OnlineBackup</th>\n",
       "      <th>DeviceProtection</th>\n",
       "      <th>TechSupport</th>\n",
       "      <th>StreamingTV</th>\n",
       "      <th>...</th>\n",
       "      <th>Contract_Two year</th>\n",
       "      <th>PaymentMethod_Bank transfer (automatic)</th>\n",
       "      <th>PaymentMethod_Credit card (automatic)</th>\n",
       "      <th>PaymentMethod_Electronic check</th>\n",
       "      <th>PaymentMethod_Mailed check</th>\n",
       "      <th>tenure_group_Tenure_0-12</th>\n",
       "      <th>tenure_group_Tenure_13-24</th>\n",
       "      <th>tenure_group_Tenure_25-48</th>\n",
       "      <th>tenure_group_Tenure_49-60</th>\n",
       "      <th>tenure_group_Tenure_qt_60</th>\n",
       "    </tr>\n",
       "  </thead>\n",
       "  <tbody>\n",
       "    <tr>\n",
       "      <th>0</th>\n",
       "      <td>0</td>\n",
       "      <td>0</td>\n",
       "      <td>1</td>\n",
       "      <td>0</td>\n",
       "      <td>0</td>\n",
       "      <td>0</td>\n",
       "      <td>1</td>\n",
       "      <td>0</td>\n",
       "      <td>0</td>\n",
       "      <td>0</td>\n",
       "      <td>...</td>\n",
       "      <td>0</td>\n",
       "      <td>0</td>\n",
       "      <td>0</td>\n",
       "      <td>1</td>\n",
       "      <td>0</td>\n",
       "      <td>1</td>\n",
       "      <td>0</td>\n",
       "      <td>0</td>\n",
       "      <td>0</td>\n",
       "      <td>0</td>\n",
       "    </tr>\n",
       "    <tr>\n",
       "      <th>1</th>\n",
       "      <td>1</td>\n",
       "      <td>0</td>\n",
       "      <td>0</td>\n",
       "      <td>0</td>\n",
       "      <td>1</td>\n",
       "      <td>1</td>\n",
       "      <td>0</td>\n",
       "      <td>1</td>\n",
       "      <td>0</td>\n",
       "      <td>0</td>\n",
       "      <td>...</td>\n",
       "      <td>0</td>\n",
       "      <td>0</td>\n",
       "      <td>0</td>\n",
       "      <td>0</td>\n",
       "      <td>1</td>\n",
       "      <td>0</td>\n",
       "      <td>0</td>\n",
       "      <td>1</td>\n",
       "      <td>0</td>\n",
       "      <td>0</td>\n",
       "    </tr>\n",
       "    <tr>\n",
       "      <th>2</th>\n",
       "      <td>1</td>\n",
       "      <td>0</td>\n",
       "      <td>0</td>\n",
       "      <td>0</td>\n",
       "      <td>1</td>\n",
       "      <td>1</td>\n",
       "      <td>1</td>\n",
       "      <td>0</td>\n",
       "      <td>0</td>\n",
       "      <td>0</td>\n",
       "      <td>...</td>\n",
       "      <td>0</td>\n",
       "      <td>0</td>\n",
       "      <td>0</td>\n",
       "      <td>0</td>\n",
       "      <td>1</td>\n",
       "      <td>1</td>\n",
       "      <td>0</td>\n",
       "      <td>0</td>\n",
       "      <td>0</td>\n",
       "      <td>0</td>\n",
       "    </tr>\n",
       "    <tr>\n",
       "      <th>3</th>\n",
       "      <td>1</td>\n",
       "      <td>0</td>\n",
       "      <td>0</td>\n",
       "      <td>0</td>\n",
       "      <td>0</td>\n",
       "      <td>1</td>\n",
       "      <td>0</td>\n",
       "      <td>1</td>\n",
       "      <td>1</td>\n",
       "      <td>0</td>\n",
       "      <td>...</td>\n",
       "      <td>0</td>\n",
       "      <td>1</td>\n",
       "      <td>0</td>\n",
       "      <td>0</td>\n",
       "      <td>0</td>\n",
       "      <td>0</td>\n",
       "      <td>0</td>\n",
       "      <td>1</td>\n",
       "      <td>0</td>\n",
       "      <td>0</td>\n",
       "    </tr>\n",
       "    <tr>\n",
       "      <th>4</th>\n",
       "      <td>0</td>\n",
       "      <td>0</td>\n",
       "      <td>0</td>\n",
       "      <td>0</td>\n",
       "      <td>1</td>\n",
       "      <td>0</td>\n",
       "      <td>0</td>\n",
       "      <td>0</td>\n",
       "      <td>0</td>\n",
       "      <td>0</td>\n",
       "      <td>...</td>\n",
       "      <td>0</td>\n",
       "      <td>0</td>\n",
       "      <td>0</td>\n",
       "      <td>1</td>\n",
       "      <td>0</td>\n",
       "      <td>1</td>\n",
       "      <td>0</td>\n",
       "      <td>0</td>\n",
       "      <td>0</td>\n",
       "      <td>0</td>\n",
       "    </tr>\n",
       "  </tbody>\n",
       "</table>\n",
       "<p>5 rows × 106 columns</p>\n",
       "</div>"
      ],
      "text/plain": [
       "   gender  SeniorCitizen  Partner  Dependents  PhoneService  OnlineSecurity  \\\n",
       "0       0              0        1           0             0               0   \n",
       "1       1              0        0           0             1               1   \n",
       "2       1              0        0           0             1               1   \n",
       "3       1              0        0           0             0               1   \n",
       "4       0              0        0           0             1               0   \n",
       "\n",
       "   OnlineBackup  DeviceProtection  TechSupport  StreamingTV  ...  \\\n",
       "0             1                 0            0            0  ...   \n",
       "1             0                 1            0            0  ...   \n",
       "2             1                 0            0            0  ...   \n",
       "3             0                 1            1            0  ...   \n",
       "4             0                 0            0            0  ...   \n",
       "\n",
       "   Contract_Two year  PaymentMethod_Bank transfer (automatic)  \\\n",
       "0                  0                                        0   \n",
       "1                  0                                        0   \n",
       "2                  0                                        0   \n",
       "3                  0                                        1   \n",
       "4                  0                                        0   \n",
       "\n",
       "   PaymentMethod_Credit card (automatic)  PaymentMethod_Electronic check  \\\n",
       "0                                      0                               1   \n",
       "1                                      0                               0   \n",
       "2                                      0                               0   \n",
       "3                                      0                               0   \n",
       "4                                      0                               1   \n",
       "\n",
       "   PaymentMethod_Mailed check  tenure_group_Tenure_0-12  \\\n",
       "0                           0                         1   \n",
       "1                           1                         0   \n",
       "2                           1                         1   \n",
       "3                           0                         0   \n",
       "4                           0                         1   \n",
       "\n",
       "   tenure_group_Tenure_13-24  tenure_group_Tenure_25-48  \\\n",
       "0                          0                          0   \n",
       "1                          0                          1   \n",
       "2                          0                          0   \n",
       "3                          0                          1   \n",
       "4                          0                          0   \n",
       "\n",
       "   tenure_group_Tenure_49-60  tenure_group_Tenure_qt_60  \n",
       "0                          0                          0  \n",
       "1                          0                          0  \n",
       "2                          0                          0  \n",
       "3                          0                          0  \n",
       "4                          0                          0  \n",
       "\n",
       "[5 rows x 106 columns]"
      ]
     },
     "execution_count": 36,
     "metadata": {},
     "output_type": "execute_result"
    }
   ],
   "source": [
    "df_proc.head()"
   ]
  },
  {
   "cell_type": "markdown",
   "metadata": {},
   "source": [
    "## Modelo de Machine Learning\n",
    "\n",
    "Falando de Churn, se detectarmos um cliente, que não iria cancelar, como sendo um potencial cliente cancelando a assinatura, o máximo que vai acontecer é que será enviado um e-mail para ele ou até mesmo presenteado um mês de assinatura e, por muitas vezes o cliente nem vai descobrir que foi tomada uma medida para evitar o potencial cancelamento que não ocorreria.\n",
    "\n",
    "Se estivéssemos falando de um problema diferente, como a detecção de fraude ou não em um cartão de crédito e seu subsequente bloqueio, provavelmente teríamos que pensar diferente, pois a probabilidade de perder um cliente que tem o seu cartão bloqueado, sendo que não houve uma fraude verdadeira, é muito grande.\n",
    "\n",
    "Partindo da premissa que, para esta análise, queremos que nosso modelo detecte quando houve um cancelamento de uma assinatura, utilizaremos a métrica de avaliação 'Recall', que é utilizada para modelos de classificação."
   ]
  },
  {
   "cell_type": "markdown",
   "metadata": {},
   "source": [
    "Separaremos a coluna alvo 'Churn' das demais do conjunto de dados."
   ]
  },
  {
   "cell_type": "code",
   "execution_count": 37,
   "metadata": {},
   "outputs": [],
   "source": [
    "# separando a coluna alvo 'Churn' das demais\n",
    "\n",
    "X = df_proc.drop('Churn', axis = 1)\n",
    "y = df_proc['Churn']"
   ]
  },
  {
   "cell_type": "markdown",
   "metadata": {},
   "source": [
    "A taxa de treino e teste pode ser algo como 80/20, 75/25, etc. Essa é uma decisão que precisamos tomar com base na quantidade de dados. Antes de avançarmos para o balanceamento dos dados, vamos dividi-los em dados de treino e de teste.\n",
    "\n",
    "Na função 'train_test_split' que utilizaremos, podemos definir alguns parâmetros. O parâmetro 'shuffle' será definido como 'True'; portanto, o conjunto de dados será embaralhado aleatoriamente antes da divisão. \n",
    "Utilizaremos também o parâmetro 'stratify', que é essencial ao lidar com conjuntos de dados desequilibrados. Ele faz uma divisão para que a proporção dos valores na amostra produzida seja a mesma que a proporção dos valores fornecidos ao parâmetro 'stratify'. Por exemplo, se a variável 'y' for uma variável categórica binária com valores 0 e 1 e houver 10% de zeros e 90% de uns, 'stratify' = y garantirá que sua divisão aleatória tenha 10% de 0 e 90% de 1."
   ]
  },
  {
   "cell_type": "code",
   "execution_count": 38,
   "metadata": {},
   "outputs": [],
   "source": [
    "# dividindo os dados em dados de treino e dados de teste\n",
    "\n",
    "X_train, X_test, y_train, y_test = train_test_split(X, y, stratify = y, shuffle = True, \\\n",
    "                                                    test_size = 0.25, random_state = 42)"
   ]
  },
  {
   "cell_type": "markdown",
   "metadata": {},
   "source": [
    "Usaremos cross-validation para avaliarmos o nosso modelo, utilizando somente os dados de treino e obtendo o 'Recall'. Lembramos que essa validação é necessária para que tenhamos certeza que o modelo escolhido é o melhor possível.\n",
    "Criaremos uma função para a realização do cross-validation e, inicialmente, validaremos os dados de treino que ainda não sofreram nenhum tipo de alteração, como padronização ou balanceamento."
   ]
  },
  {
   "cell_type": "code",
   "execution_count": 39,
   "metadata": {},
   "outputs": [],
   "source": [
    "# criando uma função para a validação do modelo\n",
    "\n",
    "def val_model(X, y, clf, quite = False):\n",
    "    \n",
    "    X = np.array(X)\n",
    "    y = np.array(y)\n",
    "    \n",
    "    pipeline = make_pipeline(StandardScaler(), clf)\n",
    "    scores = cross_val_score(pipeline, X, y, scoring = 'recall')\n",
    "    \n",
    "    if quite == False:\n",
    "        print('scores: ', scores)\n",
    "        print('Recall: {:.2f} (+/- {:.2f})'.format(scores.mean(), scores.std()))\n",
    "        \n",
    "    return scores.mean()"
   ]
  },
  {
   "cell_type": "markdown",
   "metadata": {},
   "source": [
    "Para esta primeira validação, usaremos o algoritmo de Machine Learning 'Random Forest' sem nenhum ajuste de parâmetro."
   ]
  },
  {
   "cell_type": "code",
   "execution_count": 40,
   "metadata": {},
   "outputs": [
    {
     "name": "stdout",
     "output_type": "stream",
     "text": [
      "scores:  [0.42348754 0.52669039 0.46785714 0.44285714 0.50714286]\n",
      "Recall: 0.47 (+/- 0.04)\n"
     ]
    }
   ],
   "source": [
    "# validando o modelo\n",
    "\n",
    "rf = RandomForestClassifier()\n",
    "score_baseline = val_model(X_train, y_train, rf)"
   ]
  },
  {
   "cell_type": "markdown",
   "metadata": {},
   "source": [
    "Como podemos ver, obtivemos um Recall de 0.47 e um desvio-padrão de 0.04, o que significa que este modelo detectou em torno de 47% das vezes que realmente seriam 'Churn'. A confiabilidade dessa informação é de 95%. Iremos agora padronizar nossos dados."
   ]
  },
  {
   "cell_type": "code",
   "execution_count": 41,
   "metadata": {},
   "outputs": [],
   "source": [
    "# padronizando os valores de 'X_train'\n",
    "\n",
    "scaler = StandardScaler().fit(X_train)\n",
    "X_train = scaler.transform(X_train)"
   ]
  },
  {
   "cell_type": "markdown",
   "metadata": {},
   "source": [
    "Iremos, também, realizar o balanceamento dos dados. Como o conjunto de dados possui um desequilíbrio nos valores da coluna alvo 'Churn', iremos balancear os dados priorizando os valores que estão em minoria, ou seja, que informam quando houve 'Churn'. Utilizaremos a técnica de Undersampling nos dados de treino."
   ]
  },
  {
   "cell_type": "code",
   "execution_count": 42,
   "metadata": {},
   "outputs": [
    {
     "data": {
      "text/plain": [
       "1    1402\n",
       "0    1402\n",
       "Name: Churn, dtype: int64"
      ]
     },
     "execution_count": 42,
     "metadata": {},
     "output_type": "execute_result"
    }
   ],
   "source": [
    "# balanceando os dados utilizando 'Undersampling' e preservando a classe minoritária\n",
    "\n",
    "rus = RandomUnderSampler()\n",
    "X_train_rus, y_train_rus = rus.fit_sample(X_train, y_train)\n",
    "\n",
    "y_train_rus.value_counts()"
   ]
  },
  {
   "cell_type": "markdown",
   "metadata": {},
   "source": [
    "Após a utilização da técnica, podemos ver que agora possuímos a mesma quantidade de valores 0 e 1 na coluna 'Churn'."
   ]
  },
  {
   "cell_type": "markdown",
   "metadata": {},
   "source": [
    "Aplicaremos agora a cross-validation a vários modelos a fim de identificarmos os seus desempenhos e escolher o(s) melhor(es). Novamente, serão utilizados apenas dados de treino."
   ]
  },
  {
   "cell_type": "code",
   "execution_count": 43,
   "metadata": {},
   "outputs": [
    {
     "data": {
      "text/html": [
       "<div>\n",
       "<style scoped>\n",
       "    .dataframe tbody tr th:only-of-type {\n",
       "        vertical-align: middle;\n",
       "    }\n",
       "\n",
       "    .dataframe tbody tr th {\n",
       "        vertical-align: top;\n",
       "    }\n",
       "\n",
       "    .dataframe thead th {\n",
       "        text-align: right;\n",
       "    }\n",
       "</style>\n",
       "<table border=\"1\" class=\"dataframe\">\n",
       "  <thead>\n",
       "    <tr style=\"text-align: right;\">\n",
       "      <th></th>\n",
       "      <th>Recall</th>\n",
       "    </tr>\n",
       "  </thead>\n",
       "  <tbody>\n",
       "    <tr>\n",
       "      <th>RandomForestClassifier</th>\n",
       "      <td>0.755371</td>\n",
       "    </tr>\n",
       "    <tr>\n",
       "      <th>DecisionTreeClassifier</th>\n",
       "      <td>0.676899</td>\n",
       "    </tr>\n",
       "    <tr>\n",
       "      <th>SGDClassifier</th>\n",
       "      <td>0.716817</td>\n",
       "    </tr>\n",
       "    <tr>\n",
       "      <th>SVC</th>\n",
       "      <td>0.771746</td>\n",
       "    </tr>\n",
       "    <tr>\n",
       "      <th>LogisticRegression</th>\n",
       "      <td>0.782448</td>\n",
       "    </tr>\n",
       "    <tr>\n",
       "      <th>XGBClassifier</th>\n",
       "      <td>0.755346</td>\n",
       "    </tr>\n",
       "    <tr>\n",
       "      <th>LGBMClassifier</th>\n",
       "      <td>0.770343</td>\n",
       "    </tr>\n",
       "  </tbody>\n",
       "</table>\n",
       "</div>"
      ],
      "text/plain": [
       "                          Recall\n",
       "RandomForestClassifier  0.755371\n",
       "DecisionTreeClassifier  0.676899\n",
       "SGDClassifier           0.716817\n",
       "SVC                     0.771746\n",
       "LogisticRegression      0.782448\n",
       "XGBClassifier           0.755346\n",
       "LGBMClassifier          0.770343"
      ]
     },
     "execution_count": 43,
     "metadata": {},
     "output_type": "execute_result"
    }
   ],
   "source": [
    "# instanciando os modelos\n",
    "\n",
    "rf = RandomForestClassifier()\n",
    "dt = DecisionTreeClassifier()\n",
    "sgdc = SGDClassifier()\n",
    "svc = SVC()\n",
    "lr = LogisticRegression()\n",
    "xgb = XGBClassifier()\n",
    "lgbm = LGBMClassifier()\n",
    "\n",
    "model = []\n",
    "recall = []\n",
    "\n",
    "# avaliando o desempenho (recall)\n",
    "\n",
    "for clf in (rf, dt, sgdc, svc, lr, xgb, lgbm):\n",
    "    model.append(clf.__class__.__name__)\n",
    "    recall.append(val_model(X_train_rus, y_train_rus, clf, quite = True))\n",
    "    \n",
    "pd.DataFrame(data = recall, index = model, columns = ['Recall'])"
   ]
  },
  {
   "cell_type": "markdown",
   "metadata": {},
   "source": [
    "Como podemos ver, o Recall mais alto que obtivemos foi utilizando o 'LogisticRegression', porém tivemos um bom desempenho com outros algoritmos também. Usaremos o 'XGBClassifier' pela possibilidade de melhorarmos consideravelmente o nosso 'Recall' através da escolha dos melhores parâmetros."
   ]
  },
  {
   "cell_type": "markdown",
   "metadata": {},
   "source": [
    "O primeiro parâmetro em que iremos procurar o melhor resultado é o 'n_estimators'."
   ]
  },
  {
   "cell_type": "code",
   "execution_count": 44,
   "metadata": {},
   "outputs": [
    {
     "name": "stdout",
     "output_type": "stream",
     "text": [
      "Melhor: 0.7845795339412361 para {'n_estimators': 50}\n"
     ]
    }
   ],
   "source": [
    "# definindo o parâmetro\n",
    "\n",
    "xgb = XGBClassifier(learning_rate = 0.1)\n",
    "\n",
    "param_grid = { 'n_estimators' : range(0, 1000, 50), }\n",
    "\n",
    "# identificando o melhor parâmetro\n",
    "\n",
    "kfold = StratifiedKFold(n_splits = 10, shuffle = True)\n",
    "grid_search = GridSearchCV(xgb, param_grid, scoring = \"recall\", n_jobs = -1, cv = kfold)\n",
    "grid_result = grid_search.fit(X_train_rus, y_train_rus)\n",
    "\n",
    "# vendo os resultados\n",
    "\n",
    "print(\"Melhor: {} para {}\".format(grid_result.best_score_, grid_result.best_params_))"
   ]
  },
  {
   "cell_type": "markdown",
   "metadata": {},
   "source": [
    "Agora, procuraremos os melhores resultados para os parâmetros 'max_depth' e 'min_child_weight'. "
   ]
  },
  {
   "cell_type": "code",
   "execution_count": 45,
   "metadata": {},
   "outputs": [
    {
     "name": "stdout",
     "output_type": "stream",
     "text": [
      "Melhor: 0.8344934143870315 para {'max_depth': 1, 'min_child_weight': 1}\n"
     ]
    }
   ],
   "source": [
    "# definindo o parâmetro\n",
    "\n",
    "xgb = XGBClassifier(learning_rate = 0.1, n_estimators = 50)\n",
    "\n",
    "param_grid = {\n",
    "    'max_depth' : range(1, 8, 1),\n",
    "    'min_child_weight' : range(1, 5, 1)\n",
    "}\n",
    "\n",
    "# identificando o melhor parâmetro\n",
    "\n",
    "kfold = StratifiedKFold(n_splits = 10, shuffle = True)\n",
    "grid_search = GridSearchCV(xgb, param_grid, scoring = \"recall\", n_jobs = -1, cv = kfold)\n",
    "grid_result = grid_search.fit(X_train_rus, y_train_rus)\n",
    "\n",
    "# vendo os resultados\n",
    "\n",
    "print(\"Melhor: {} para {}\".format(grid_result.best_score_, grid_result.best_params_))"
   ]
  },
  {
   "cell_type": "markdown",
   "metadata": {},
   "source": [
    "Agora identificaremos os melhores resultados para 'gamma'."
   ]
  },
  {
   "cell_type": "code",
   "execution_count": 46,
   "metadata": {},
   "outputs": [
    {
     "name": "stdout",
     "output_type": "stream",
     "text": [
      "Melhor: 0.8345390070921985 para {'gamma': 0.0}\n"
     ]
    }
   ],
   "source": [
    "# definindo o parâmetro\n",
    "\n",
    "xgb = XGBClassifier(learning_rate = 0.1, n_estimators = 50, max_depth = 1, min_child_weight = 1)\n",
    "\n",
    "param_grid = {\n",
    "    'gamma' : [i / 10.0 for i in range(0, 5)]\n",
    "}\n",
    "\n",
    "# identificando o melhor parâmetro\n",
    "\n",
    "kfold = StratifiedKFold(n_splits = 10, shuffle = True)\n",
    "grid_search = GridSearchCV(xgb, param_grid, scoring = \"recall\", n_jobs = -1, cv = kfold)\n",
    "grid_result = grid_search.fit(X_train_rus, y_train_rus)\n",
    "\n",
    "# vendo os resultados\n",
    "\n",
    "print(\"Melhor: {} para {}\".format(grid_result.best_score_, grid_result.best_params_))"
   ]
  },
  {
   "cell_type": "markdown",
   "metadata": {},
   "source": [
    "E, por último, os melhores para 'learning_rate'."
   ]
  },
  {
   "cell_type": "code",
   "execution_count": 47,
   "metadata": {},
   "outputs": [
    {
     "name": "stdout",
     "output_type": "stream",
     "text": [
      "Melhor: 0.88516210739615 para {'learning_rate': 0.001}\n"
     ]
    }
   ],
   "source": [
    "# definindo o parâmetro\n",
    "\n",
    "xgb = XGBClassifier(n_estimators = 50, max_depth = 1, min_child_weight = 1, gamma = 0.0)\n",
    "\n",
    "param_grid = {\n",
    "    'learning_rate' : [0.001, 0.01, 0.1, 1]\n",
    "}\n",
    "\n",
    "# identificando o melhor parâmetro\n",
    "\n",
    "kfold = StratifiedKFold(n_splits = 10, shuffle = True)\n",
    "grid_search = GridSearchCV(xgb, param_grid, scoring = \"recall\", n_jobs = -1, cv = kfold)\n",
    "grid_result = grid_search.fit(X_train_rus, y_train_rus)\n",
    "\n",
    "# vendo os resultados\n",
    "\n",
    "print(\"Melhor: {} para {}\".format(grid_result.best_score_, grid_result.best_params_))"
   ]
  },
  {
   "cell_type": "markdown",
   "metadata": {},
   "source": [
    "Agora que identificamos os melhores parâmetros, ou seja, aqueles que resultaram em um 'Recall' mais alto, iremos padronizar os dados de teste e predizer em cima do modelo que obtivemos os melhores resultados."
   ]
  },
  {
   "cell_type": "code",
   "execution_count": 48,
   "metadata": {},
   "outputs": [],
   "source": [
    "# modelo final\n",
    "\n",
    "xgb = XGBClassifier(learning_rate = 0.001, n_estimators = 50, max_depth = 1, min_child_weight = 1, gamma = 0.0)\n",
    "xgb.fit(X_train_rus, y_train_rus)\n",
    "\n",
    "# fazendo a predição\n",
    "\n",
    "X_test = scaler.transform(X_test)\n",
    "y_pred = xgb.predict(X_test)"
   ]
  },
  {
   "cell_type": "markdown",
   "metadata": {},
   "source": [
    "Gerando um 'Classification Report', podemos ver o resultado das métricas de classificação de acordo com o nosso modelo."
   ]
  },
  {
   "cell_type": "code",
   "execution_count": 49,
   "metadata": {},
   "outputs": [
    {
     "name": "stdout",
     "output_type": "stream",
     "text": [
      "              precision    recall  f1-score   support\n",
      "\n",
      "           0       0.93      0.57      0.71      1294\n",
      "           1       0.43      0.89      0.58       467\n",
      "\n",
      "    accuracy                           0.66      1761\n",
      "   macro avg       0.68      0.73      0.64      1761\n",
      "weighted avg       0.80      0.66      0.67      1761\n",
      "\n"
     ]
    }
   ],
   "source": [
    "# gerando um Classification Report\n",
    "\n",
    "print(classification_report(y_test, y_pred))"
   ]
  },
  {
   "cell_type": "markdown",
   "metadata": {},
   "source": [
    "Observando o 'Recall' podemos ver que o modelo acertou 89% das vezes em que de fato era 'Churn'. Plotaremos agora uma matriz de confusão que nos mostra que 0.57 da vezes que de fato não era 'Churn' nosso modelo detectou como não sendo e que 0.89 da vezes que era nosso modelo realmente acertou que era."
   ]
  },
  {
   "cell_type": "code",
   "execution_count": 50,
   "metadata": {},
   "outputs": [
    {
     "data": {
      "image/png": "[encoded data removed]",
      "text/plain": [
       "<Figure size 432x288 with 2 Axes>"
      ]
     },
     "metadata": {},
     "output_type": "display_data"
    }
   ],
   "source": [
    "# plotando uma matriz de confusão\n",
    "\n",
    "plot_confusion_matrix(y_test, y_pred, normalize = True)\n",
    "plt.show()"
   ]
  },
  {
   "cell_type": "markdown",
   "metadata": {},
   "source": [
    "### Conclusão\n",
    "\n",
    "Para este projeto, escolhemos somente observar a métrica 'Recall'. Utilizamos o classificador 'XGBClassifier' pois possui vários parâmetros que nos possibilitam melhorar consideravelmente o valor obtido através da métrica escolhida. Se obtivermos um novo conjunto de dados e necessitarmos realizar a predição para sabermos se um cliente pode vir a cancelar a sua assinatura, basta utilizarmos o modelo que criamos, validamos e testamos."
   ]
  }
 ],
 "metadata": {
  "kernelspec": {
   "display_name": "Python 3",
   "language": "python",
   "name": "python3"
  },
  "language_info": {
   "codemirror_mode": {
    "name": "ipython",
    "version": 3
   },
   "file_extension": ".py",
   "mimetype": "text/x-python",
   "name": "python",
   "nbconvert_exporter": "python",
   "pygments_lexer": "ipython3",
   "version": "3.7.6"
  }
 },
 "nbformat": 4,
 "nbformat_minor": 4
}
