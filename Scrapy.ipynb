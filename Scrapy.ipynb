{
 "cells": [
  {
   "cell_type": "markdown",
   "metadata": {},
   "source": [
    "## Limpando e manipulando dados após Web Scraping"
   ]
  },
  {
   "cell_type": "code",
   "execution_count": 1,
   "metadata": {},
   "outputs": [],
   "source": [
    "import pandas as pd\n",
    "import re"
   ]
  },
  {
   "cell_type": "code",
   "execution_count": 2,
   "metadata": {},
   "outputs": [
    {
     "data": {
      "text/html": [
       "<div>\n",
       "<style scoped>\n",
       "    .dataframe tbody tr th:only-of-type {\n",
       "        vertical-align: middle;\n",
       "    }\n",
       "\n",
       "    .dataframe tbody tr th {\n",
       "        vertical-align: top;\n",
       "    }\n",
       "\n",
       "    .dataframe thead th {\n",
       "        text-align: right;\n",
       "    }\n",
       "</style>\n",
       "<table border=\"1\" class=\"dataframe\">\n",
       "  <thead>\n",
       "    <tr style=\"text-align: right;\">\n",
       "      <th></th>\n",
       "      <th>preco</th>\n",
       "      <th>dormitorios</th>\n",
       "      <th>area</th>\n",
       "      <th>vagas</th>\n",
       "      <th>bairro</th>\n",
       "    </tr>\n",
       "  </thead>\n",
       "  <tbody>\n",
       "    <tr>\n",
       "      <th>0</th>\n",
       "      <td>[R$ 1.055.000]</td>\n",
       "      <td>[3]</td>\n",
       "      <td>[128]</td>\n",
       "      <td>[3]</td>\n",
       "      <td>[Imóvel 106391 - , Apartamento, \\n            ...</td>\n",
       "    </tr>\n",
       "    <tr>\n",
       "      <th>1</th>\n",
       "      <td>[R$ 1.112.000]</td>\n",
       "      <td>[3]</td>\n",
       "      <td>[136.34]</td>\n",
       "      <td>[2]</td>\n",
       "      <td>[Imóvel 130624 - , Apartamento, \\n            ...</td>\n",
       "    </tr>\n",
       "    <tr>\n",
       "      <th>2</th>\n",
       "      <td>[R$ 1.620.000]</td>\n",
       "      <td>[3]</td>\n",
       "      <td>[204.87]</td>\n",
       "      <td>[3]</td>\n",
       "      <td>[Imóvel 192740 - , Apartamento, \\n            ...</td>\n",
       "    </tr>\n",
       "    <tr>\n",
       "      <th>3</th>\n",
       "      <td>[R$ 1.190.000]</td>\n",
       "      <td>[3]</td>\n",
       "      <td>[241]</td>\n",
       "      <td>[2]</td>\n",
       "      <td>[Imóvel 196741 - , Casa, \\n                   ...</td>\n",
       "    </tr>\n",
       "    <tr>\n",
       "      <th>4</th>\n",
       "      <td>[R$ 3.053.011]</td>\n",
       "      <td>[4]</td>\n",
       "      <td>[271.3]</td>\n",
       "      <td>[4]</td>\n",
       "      <td>[Imóvel 183630 - , Apartamento, \\n            ...</td>\n",
       "    </tr>\n",
       "  </tbody>\n",
       "</table>\n",
       "</div>"
      ],
      "text/plain": [
       "            preco dormitorios      area vagas  \\\n",
       "0  [R$ 1.055.000]         [3]     [128]   [3]   \n",
       "1  [R$ 1.112.000]         [3]  [136.34]   [2]   \n",
       "2  [R$ 1.620.000]         [3]  [204.87]   [3]   \n",
       "3  [R$ 1.190.000]         [3]     [241]   [2]   \n",
       "4  [R$ 3.053.011]         [4]   [271.3]   [4]   \n",
       "\n",
       "                                              bairro  \n",
       "0  [Imóvel 106391 - , Apartamento, \\n            ...  \n",
       "1  [Imóvel 130624 - , Apartamento, \\n            ...  \n",
       "2  [Imóvel 192740 - , Apartamento, \\n            ...  \n",
       "3  [Imóvel 196741 - , Casa, \\n                   ...  \n",
       "4  [Imóvel 183630 - , Apartamento, \\n            ...  "
      ]
     },
     "execution_count": 2,
     "metadata": {},
     "output_type": "execute_result"
    }
   ],
   "source": [
    "file = \"datasets/imoveis.json\"\n",
    "\n",
    "df = pd.read_json(file, orient = 'records')\n",
    "\n",
    "df.head()"
   ]
  },
  {
   "cell_type": "code",
   "execution_count": 3,
   "metadata": {},
   "outputs": [
    {
     "name": "stdout",
     "output_type": "stream",
     "text": [
      "Dimensões do Dataframe:\n",
      "\n",
      "Linhas: 600\n",
      "Colunas: 5\n"
     ]
    }
   ],
   "source": [
    "print('Dimensões do Dataframe:\\n')\n",
    "print(f'Linhas: {df.shape[0]}')\n",
    "print(f'Colunas: {df.shape[1]}')"
   ]
  },
  {
   "cell_type": "code",
   "execution_count": 4,
   "metadata": {},
   "outputs": [
    {
     "data": {
      "text/plain": [
       "preco          object\n",
       "dormitorios    object\n",
       "area           object\n",
       "vagas          object\n",
       "bairro         object\n",
       "dtype: object"
      ]
     },
     "execution_count": 4,
     "metadata": {},
     "output_type": "execute_result"
    }
   ],
   "source": [
    "df.dtypes"
   ]
  },
  {
   "cell_type": "code",
   "execution_count": 5,
   "metadata": {},
   "outputs": [
    {
     "data": {
      "text/plain": [
       "2      [R$ 1.620.000]\n",
       "63       [R$ 750.000]\n",
       "91       [R$ 230.000]\n",
       "563      [R$ 458.000]\n",
       "100      [R$ 310.000]\n",
       "109    [R$ 1.280.000]\n",
       "170      [R$ 980.000]\n",
       "239      [R$ 320.000]\n",
       "562      [R$ 360.000]\n",
       "304      [R$ 800.000]\n",
       "79       [R$ 750.000]\n",
       "231      [R$ 475.000]\n",
       "62     [R$ 1.980.000]\n",
       "587      [R$ 335.000]\n",
       "535      [R$ 680.000]\n",
       "454      [R$ 396.296]\n",
       "61       [R$ 270.000]\n",
       "154      [R$ 440.000]\n",
       "280      [R$ 369.000]\n",
       "350    [R$ 1.056.000]\n",
       "Name: preco, dtype: object"
      ]
     },
     "execution_count": 5,
     "metadata": {},
     "output_type": "execute_result"
    }
   ],
   "source": [
    "df['preco'].sample(20)"
   ]
  },
  {
   "cell_type": "code",
   "execution_count": 6,
   "metadata": {},
   "outputs": [],
   "source": [
    "df['preco'] = df['preco'].apply(lambda x : re.sub('\\D', '', str(x))).astype(float)"
   ]
  },
  {
   "cell_type": "code",
   "execution_count": 7,
   "metadata": {},
   "outputs": [
    {
     "data": {
      "text/plain": [
       "456     676000.0\n",
       "561     460000.0\n",
       "36     1349000.0\n",
       "155    1413999.0\n",
       "158    1700000.0\n",
       "215     299000.0\n",
       "10      780000.0\n",
       "280     369000.0\n",
       "504     636000.0\n",
       "75      495000.0\n",
       "Name: preco, dtype: float64"
      ]
     },
     "execution_count": 7,
     "metadata": {},
     "output_type": "execute_result"
    }
   ],
   "source": [
    "df['preco'].sample(10)"
   ]
  },
  {
   "cell_type": "code",
   "execution_count": 8,
   "metadata": {},
   "outputs": [
    {
     "data": {
      "text/plain": [
       "preco          float64\n",
       "dormitorios     object\n",
       "area            object\n",
       "vagas           object\n",
       "bairro          object\n",
       "dtype: object"
      ]
     },
     "execution_count": 8,
     "metadata": {},
     "output_type": "execute_result"
    }
   ],
   "source": [
    "df.dtypes"
   ]
  },
  {
   "cell_type": "code",
   "execution_count": 9,
   "metadata": {},
   "outputs": [
    {
     "data": {
      "text/plain": [
       "preco           0\n",
       "dormitorios     8\n",
       "area            0\n",
       "vagas          21\n",
       "bairro          0\n",
       "dtype: int64"
      ]
     },
     "execution_count": 9,
     "metadata": {},
     "output_type": "execute_result"
    }
   ],
   "source": [
    "df.isnull().sum()"
   ]
  },
  {
   "cell_type": "code",
   "execution_count": 10,
   "metadata": {},
   "outputs": [],
   "source": [
    "df['dormitorios'] = df['dormitorios'].fillna(\"0\")"
   ]
  },
  {
   "cell_type": "code",
   "execution_count": 11,
   "metadata": {},
   "outputs": [],
   "source": [
    "df['dormitorios'] = df['dormitorios'].apply(lambda x : re.sub('\\D', '', str(x))).astype(int)"
   ]
  },
  {
   "cell_type": "code",
   "execution_count": 12,
   "metadata": {},
   "outputs": [
    {
     "data": {
      "text/plain": [
       "3    319\n",
       "2    184\n",
       "1     52\n",
       "4     34\n",
       "0      8\n",
       "6      2\n",
       "5      1\n",
       "Name: dormitorios, dtype: int64"
      ]
     },
     "execution_count": 12,
     "metadata": {},
     "output_type": "execute_result"
    }
   ],
   "source": [
    "df['dormitorios'].value_counts()"
   ]
  },
  {
   "cell_type": "code",
   "execution_count": 13,
   "metadata": {},
   "outputs": [],
   "source": [
    "df['area'] = df['area'].apply(lambda x : re.sub('\\D', '', str(x))).astype(float)"
   ]
  },
  {
   "cell_type": "code",
   "execution_count": 14,
   "metadata": {},
   "outputs": [
    {
     "data": {
      "text/plain": [
       "148    13897.0\n",
       "271     4195.0\n",
       "170      239.0\n",
       "350      176.0\n",
       "380     6162.0\n",
       "16        64.0\n",
       "357    10561.0\n",
       "173       64.0\n",
       "171    19889.0\n",
       "93      7684.0\n",
       "402       56.0\n",
       "160     9526.0\n",
       "443      215.0\n",
       "157     5695.0\n",
       "421     5301.0\n",
       "383     6798.0\n",
       "4       2713.0\n",
       "553     5838.0\n",
       "177     5064.0\n",
       "375     8387.0\n",
       "Name: area, dtype: float64"
      ]
     },
     "execution_count": 14,
     "metadata": {},
     "output_type": "execute_result"
    }
   ],
   "source": [
    "df['area'].sample(20)"
   ]
  },
  {
   "cell_type": "code",
   "execution_count": 15,
   "metadata": {},
   "outputs": [],
   "source": [
    "df['vagas'] = df['vagas'].fillna(\"0\")"
   ]
  },
  {
   "cell_type": "code",
   "execution_count": 16,
   "metadata": {},
   "outputs": [],
   "source": [
    "df['vagas'] = df['vagas'].apply(lambda x : re.sub('\\D', '', str(x))).astype(int)"
   ]
  },
  {
   "cell_type": "code",
   "execution_count": 17,
   "metadata": {},
   "outputs": [
    {
     "data": {
      "text/plain": [
       "1    264\n",
       "2    231\n",
       "3     45\n",
       "4     30\n",
       "0     21\n",
       "6      6\n",
       "5      2\n",
       "8      1\n",
       "Name: vagas, dtype: int64"
      ]
     },
     "execution_count": 17,
     "metadata": {},
     "output_type": "execute_result"
    }
   ],
   "source": [
    "df['vagas'].value_counts()"
   ]
  },
  {
   "cell_type": "code",
   "execution_count": 18,
   "metadata": {},
   "outputs": [
    {
     "data": {
      "text/plain": [
       "172    [Imóvel 196491 - , Apartamento, \\n            ...\n",
       "49     [Imóvel 139071 - , Loft, \\n                   ...\n",
       "320    [Imóvel 153277 - , Apartamento, \\n            ...\n",
       "269    [Imóvel 113836 - , Apartamento, \\n            ...\n",
       "383    [Imóvel 195567 - , Apartamento, \\n            ...\n",
       "211    [Imóvel 168407 - , Apartamento, \\n            ...\n",
       "176    [Imóvel 194500 - , Apartamento, \\n            ...\n",
       "230    [Imóvel 178174 - , Cobertura, \\n              ...\n",
       "574    [Imóvel 195211 - , Apartamento, \\n            ...\n",
       "324    [Imóvel 175050 - , Apartamento, \\n            ...\n",
       "Name: bairro, dtype: object"
      ]
     },
     "execution_count": 18,
     "metadata": {},
     "output_type": "execute_result"
    }
   ],
   "source": [
    "df['bairro'].sample(10)"
   ]
  },
  {
   "cell_type": "code",
   "execution_count": 19,
   "metadata": {},
   "outputs": [],
   "source": [
    "df['bairro'] = df['bairro'].apply(lambda x : re.sub('\\d', '', str(x))).astype(str)"
   ]
  },
  {
   "cell_type": "code",
   "execution_count": 20,
   "metadata": {},
   "outputs": [
    {
     "data": {
      "text/plain": [
       "506    ['Imóvel  - ', 'Apartamento', '\\n             ...\n",
       "31     ['Imóvel  - ', 'Cobertura', '\\n               ...\n",
       "38     ['Imóvel  - ', 'Apartamento', '\\n             ...\n",
       "223    ['Imóvel  - ', 'Apartamento', '\\n             ...\n",
       "226    ['Imóvel  - ', 'Casa', '\\n                    ...\n",
       "256    ['Imóvel  - ', 'Apartamento', '\\n             ...\n",
       "213    ['Imóvel  - ', 'Casa', '\\n                    ...\n",
       "472    ['Imóvel  - ', 'Casa', '\\n                    ...\n",
       "145    ['Imóvel  - ', 'Apartamento', '\\n             ...\n",
       "108    ['Imóvel  - ', 'Apartamento', '\\n             ...\n",
       "Name: bairro, dtype: object"
      ]
     },
     "execution_count": 20,
     "metadata": {},
     "output_type": "execute_result"
    }
   ],
   "source": [
    "df['bairro'].sample(10)"
   ]
  },
  {
   "cell_type": "code",
   "execution_count": 21,
   "metadata": {},
   "outputs": [],
   "source": [
    "df['bairro'] = df['bairro'].apply(lambda x : re.sub('Imóvel  -', '', x))"
   ]
  },
  {
   "cell_type": "code",
   "execution_count": 22,
   "metadata": {},
   "outputs": [],
   "source": [
    "df['bairro'] = df['bairro'].apply(lambda x : re.sub(r'\\\\n', '', x))"
   ]
  },
  {
   "cell_type": "code",
   "execution_count": 23,
   "metadata": {},
   "outputs": [
    {
     "data": {
      "text/plain": [
       "55     [' ', 'Apartamento', '                        ...\n",
       "133    [' ', 'Apartamento', '                        ...\n",
       "574    [' ', 'Apartamento', '                        ...\n",
       "233    [' ', 'Apartamento', '                        ...\n",
       "503    [' ', 'Apartamento', '                        ...\n",
       "95     [' ', 'Apartamento', '                        ...\n",
       "255    [' ', 'Cobertura', '                        Pe...\n",
       "522    [' ', 'Casa', '                        Sarandi...\n",
       "46     [' ', 'Apartamento', '                        ...\n",
       "120    [' ', 'Apartamento', '                        ...\n",
       "Name: bairro, dtype: object"
      ]
     },
     "execution_count": 23,
     "metadata": {},
     "output_type": "execute_result"
    }
   ],
   "source": [
    "df['bairro'].sample(10)"
   ]
  },
  {
   "cell_type": "code",
   "execution_count": 24,
   "metadata": {},
   "outputs": [],
   "source": [
    "df['tipo'] = df['bairro'].apply(lambda x : re.split(',', x)[1])"
   ]
  },
  {
   "cell_type": "code",
   "execution_count": 25,
   "metadata": {},
   "outputs": [
    {
     "data": {
      "text/plain": [
       "223     'Apartamento'\n",
       "599     'Apartamento'\n",
       "527            'Casa'\n",
       "144            'Casa'\n",
       "201     'Apartamento'\n",
       "123            'Casa'\n",
       "216     'Apartamento'\n",
       "525     'Apartamento'\n",
       "94             'Loft'\n",
       "287     'Apartamento'\n",
       "Name: tipo, dtype: object"
      ]
     },
     "execution_count": 25,
     "metadata": {},
     "output_type": "execute_result"
    }
   ],
   "source": [
    "df['tipo'].sample(10)"
   ]
  },
  {
   "cell_type": "code",
   "execution_count": 26,
   "metadata": {},
   "outputs": [],
   "source": [
    "df['bairro'] = df['bairro'].apply(lambda x : re.split(',', x)[2])"
   ]
  },
  {
   "cell_type": "code",
   "execution_count": 27,
   "metadata": {},
   "outputs": [
    {
     "data": {
      "text/plain": [
       "0       '                        Central Parque\n",
       "1          '                        Menino Deus\n",
       "2           '                        Rio Branco\n",
       "3              '                        Sarandi\n",
       "4           '                        Bela Vista\n",
       "                         ...                   \n",
       "595        '                        Auxiliadora\n",
       "596           '                        Tristeza\n",
       "597         '                        Bela Vista\n",
       "598      '                        Jardim Europa\n",
       "599     '                        Três Figueiras\n",
       "Name: bairro, Length: 600, dtype: object"
      ]
     },
     "execution_count": 27,
     "metadata": {},
     "output_type": "execute_result"
    }
   ],
   "source": [
    "df['bairro']"
   ]
  },
  {
   "cell_type": "code",
   "execution_count": 28,
   "metadata": {},
   "outputs": [],
   "source": [
    "df['bairro'] = df['bairro'].apply(lambda x : re.sub('\\s', '', x))"
   ]
  },
  {
   "cell_type": "code",
   "execution_count": 29,
   "metadata": {},
   "outputs": [
    {
     "data": {
      "text/plain": [
       "0      'CentralParque\n",
       "1         'MeninoDeus\n",
       "2          'RioBranco\n",
       "3            'Sarandi\n",
       "4          'BelaVista\n",
       "            ...      \n",
       "595      'Auxiliadora\n",
       "596         'Tristeza\n",
       "597        'BelaVista\n",
       "598     'JardimEuropa\n",
       "599    'TrêsFigueiras\n",
       "Name: bairro, Length: 600, dtype: object"
      ]
     },
     "execution_count": 29,
     "metadata": {},
     "output_type": "execute_result"
    }
   ],
   "source": [
    "df['bairro']"
   ]
  },
  {
   "cell_type": "code",
   "execution_count": 30,
   "metadata": {},
   "outputs": [],
   "source": [
    "df['tipo'] = df['bairro'].apply(lambda x : re.sub(\"'\", \"\", x))\n",
    "df['bairro'] = df['bairro'].apply(lambda x : re.sub(\"'\", '', x))"
   ]
  },
  {
   "cell_type": "code",
   "execution_count": 31,
   "metadata": {},
   "outputs": [
    {
     "data": {
      "text/plain": [
       "preco          366\n",
       "dormitorios      7\n",
       "area           490\n",
       "vagas            8\n",
       "bairro          72\n",
       "tipo            72\n",
       "dtype: int64"
      ]
     },
     "execution_count": 31,
     "metadata": {},
     "output_type": "execute_result"
    }
   ],
   "source": [
    "df.nunique()"
   ]
  },
  {
   "cell_type": "code",
   "execution_count": 32,
   "metadata": {},
   "outputs": [
    {
     "data": {
      "text/plain": [
       "Petrópolis          46\n",
       "PassodaAreia        41\n",
       "MeninoDeus          34\n",
       "BelaVista           24\n",
       "Tristeza            23\n",
       "                    ..\n",
       "Navegantes           1\n",
       "JardimLeopoldina     1\n",
       "AbertadosMorros      1\n",
       "ParqueSantaFé        1\n",
       "Hipica               1\n",
       "Name: tipo, Length: 72, dtype: int64"
      ]
     },
     "execution_count": 32,
     "metadata": {},
     "output_type": "execute_result"
    }
   ],
   "source": [
    "df['tipo'].value_counts()"
   ]
  },
  {
   "cell_type": "code",
   "execution_count": 33,
   "metadata": {},
   "outputs": [
    {
     "data": {
      "text/html": [
       "<div>\n",
       "<style scoped>\n",
       "    .dataframe tbody tr th:only-of-type {\n",
       "        vertical-align: middle;\n",
       "    }\n",
       "\n",
       "    .dataframe tbody tr th {\n",
       "        vertical-align: top;\n",
       "    }\n",
       "\n",
       "    .dataframe thead th {\n",
       "        text-align: right;\n",
       "    }\n",
       "</style>\n",
       "<table border=\"1\" class=\"dataframe\">\n",
       "  <thead>\n",
       "    <tr style=\"text-align: right;\">\n",
       "      <th></th>\n",
       "      <th>preco</th>\n",
       "      <th>dormitorios</th>\n",
       "      <th>area</th>\n",
       "      <th>vagas</th>\n",
       "    </tr>\n",
       "  </thead>\n",
       "  <tbody>\n",
       "    <tr>\n",
       "      <th>count</th>\n",
       "      <td>6.000000e+02</td>\n",
       "      <td>600.000000</td>\n",
       "      <td>600.000000</td>\n",
       "      <td>600.000000</td>\n",
       "    </tr>\n",
       "    <tr>\n",
       "      <th>mean</th>\n",
       "      <td>8.636065e+05</td>\n",
       "      <td>2.550000</td>\n",
       "      <td>8829.695000</td>\n",
       "      <td>1.725000</td>\n",
       "    </tr>\n",
       "    <tr>\n",
       "      <th>std</th>\n",
       "      <td>9.296298e+05</td>\n",
       "      <td>0.815644</td>\n",
       "      <td>14787.265011</td>\n",
       "      <td>1.015428</td>\n",
       "    </tr>\n",
       "    <tr>\n",
       "      <th>min</th>\n",
       "      <td>1.178000e+05</td>\n",
       "      <td>0.000000</td>\n",
       "      <td>42.000000</td>\n",
       "      <td>0.000000</td>\n",
       "    </tr>\n",
       "    <tr>\n",
       "      <th>25%</th>\n",
       "      <td>3.800000e+05</td>\n",
       "      <td>2.000000</td>\n",
       "      <td>685.750000</td>\n",
       "      <td>1.000000</td>\n",
       "    </tr>\n",
       "    <tr>\n",
       "      <th>50%</th>\n",
       "      <td>5.870000e+05</td>\n",
       "      <td>3.000000</td>\n",
       "      <td>6530.000000</td>\n",
       "      <td>2.000000</td>\n",
       "    </tr>\n",
       "    <tr>\n",
       "      <th>75%</th>\n",
       "      <td>9.710585e+05</td>\n",
       "      <td>3.000000</td>\n",
       "      <td>10249.000000</td>\n",
       "      <td>2.000000</td>\n",
       "    </tr>\n",
       "    <tr>\n",
       "      <th>max</th>\n",
       "      <td>9.117117e+06</td>\n",
       "      <td>6.000000</td>\n",
       "      <td>229098.000000</td>\n",
       "      <td>8.000000</td>\n",
       "    </tr>\n",
       "  </tbody>\n",
       "</table>\n",
       "</div>"
      ],
      "text/plain": [
       "              preco  dormitorios           area       vagas\n",
       "count  6.000000e+02   600.000000     600.000000  600.000000\n",
       "mean   8.636065e+05     2.550000    8829.695000    1.725000\n",
       "std    9.296298e+05     0.815644   14787.265011    1.015428\n",
       "min    1.178000e+05     0.000000      42.000000    0.000000\n",
       "25%    3.800000e+05     2.000000     685.750000    1.000000\n",
       "50%    5.870000e+05     3.000000    6530.000000    2.000000\n",
       "75%    9.710585e+05     3.000000   10249.000000    2.000000\n",
       "max    9.117117e+06     6.000000  229098.000000    8.000000"
      ]
     },
     "execution_count": 33,
     "metadata": {},
     "output_type": "execute_result"
    }
   ],
   "source": [
    "df.describe()"
   ]
  },
  {
   "cell_type": "code",
   "execution_count": 34,
   "metadata": {},
   "outputs": [
    {
     "data": {
      "text/plain": [
       "bairro\n",
       "MontSerrat          2.213700e+06\n",
       "BelaVista           2.204248e+06\n",
       "BelémNovo           2.134000e+06\n",
       "PedraRedonda        1.950000e+06\n",
       "JardimSãoPedro      1.900000e+06\n",
       "TrêsFigueiras       1.667200e+06\n",
       "Auxiliadora         1.588450e+06\n",
       "JardimEuropa        1.455259e+06\n",
       "CentralParque       1.244618e+06\n",
       "MoinhosdeVento      1.242944e+06\n",
       "ChácaradasPedras    1.221700e+06\n",
       "RioBranco           1.190297e+06\n",
       "Petrópolis          1.170219e+06\n",
       "Agronomia           9.677143e+05\n",
       "MeninoDeus          9.590551e+05\n",
       "Name: preco, dtype: float64"
      ]
     },
     "execution_count": 34,
     "metadata": {},
     "output_type": "execute_result"
    }
   ],
   "source": [
    "df.groupby(by = 'bairro').preco.mean().sort_values(ascending = False)[:15]"
   ]
  },
  {
   "cell_type": "code",
   "execution_count": 35,
   "metadata": {},
   "outputs": [
    {
     "data": {
      "text/html": [
       "<div>\n",
       "<style scoped>\n",
       "    .dataframe tbody tr th:only-of-type {\n",
       "        vertical-align: middle;\n",
       "    }\n",
       "\n",
       "    .dataframe tbody tr th {\n",
       "        vertical-align: top;\n",
       "    }\n",
       "\n",
       "    .dataframe thead th {\n",
       "        text-align: right;\n",
       "    }\n",
       "</style>\n",
       "<table border=\"1\" class=\"dataframe\">\n",
       "  <thead>\n",
       "    <tr style=\"text-align: right;\">\n",
       "      <th></th>\n",
       "      <th>preco</th>\n",
       "      <th>dormitorios</th>\n",
       "      <th>area</th>\n",
       "      <th>vagas</th>\n",
       "      <th>bairro</th>\n",
       "      <th>tipo</th>\n",
       "    </tr>\n",
       "  </thead>\n",
       "  <tbody>\n",
       "    <tr>\n",
       "      <th>4</th>\n",
       "      <td>3053011.0</td>\n",
       "      <td>4</td>\n",
       "      <td>2713.0</td>\n",
       "      <td>4</td>\n",
       "      <td>BelaVista</td>\n",
       "      <td>BelaVista</td>\n",
       "    </tr>\n",
       "    <tr>\n",
       "      <th>36</th>\n",
       "      <td>1349000.0</td>\n",
       "      <td>3</td>\n",
       "      <td>140.0</td>\n",
       "      <td>2</td>\n",
       "      <td>BelaVista</td>\n",
       "      <td>BelaVista</td>\n",
       "    </tr>\n",
       "    <tr>\n",
       "      <th>88</th>\n",
       "      <td>1699000.0</td>\n",
       "      <td>3</td>\n",
       "      <td>14015.0</td>\n",
       "      <td>2</td>\n",
       "      <td>BelaVista</td>\n",
       "      <td>BelaVista</td>\n",
       "    </tr>\n",
       "    <tr>\n",
       "      <th>114</th>\n",
       "      <td>1990000.0</td>\n",
       "      <td>3</td>\n",
       "      <td>18121.0</td>\n",
       "      <td>4</td>\n",
       "      <td>BelaVista</td>\n",
       "      <td>BelaVista</td>\n",
       "    </tr>\n",
       "    <tr>\n",
       "      <th>120</th>\n",
       "      <td>779000.0</td>\n",
       "      <td>2</td>\n",
       "      <td>8337.0</td>\n",
       "      <td>2</td>\n",
       "      <td>BelaVista</td>\n",
       "      <td>BelaVista</td>\n",
       "    </tr>\n",
       "    <tr>\n",
       "      <th>135</th>\n",
       "      <td>1400000.0</td>\n",
       "      <td>2</td>\n",
       "      <td>9904.0</td>\n",
       "      <td>2</td>\n",
       "      <td>BelaVista</td>\n",
       "      <td>BelaVista</td>\n",
       "    </tr>\n",
       "    <tr>\n",
       "      <th>159</th>\n",
       "      <td>540000.0</td>\n",
       "      <td>1</td>\n",
       "      <td>649.0</td>\n",
       "      <td>2</td>\n",
       "      <td>BelaVista</td>\n",
       "      <td>BelaVista</td>\n",
       "    </tr>\n",
       "    <tr>\n",
       "      <th>166</th>\n",
       "      <td>3420000.0</td>\n",
       "      <td>4</td>\n",
       "      <td>22602.0</td>\n",
       "      <td>4</td>\n",
       "      <td>BelaVista</td>\n",
       "      <td>BelaVista</td>\n",
       "    </tr>\n",
       "    <tr>\n",
       "      <th>188</th>\n",
       "      <td>3896550.0</td>\n",
       "      <td>3</td>\n",
       "      <td>51954.0</td>\n",
       "      <td>4</td>\n",
       "      <td>BelaVista</td>\n",
       "      <td>BelaVista</td>\n",
       "    </tr>\n",
       "    <tr>\n",
       "      <th>191</th>\n",
       "      <td>1699000.0</td>\n",
       "      <td>3</td>\n",
       "      <td>25062.0</td>\n",
       "      <td>2</td>\n",
       "      <td>BelaVista</td>\n",
       "      <td>BelaVista</td>\n",
       "    </tr>\n",
       "    <tr>\n",
       "      <th>195</th>\n",
       "      <td>2071000.0</td>\n",
       "      <td>3</td>\n",
       "      <td>16345.0</td>\n",
       "      <td>2</td>\n",
       "      <td>BelaVista</td>\n",
       "      <td>BelaVista</td>\n",
       "    </tr>\n",
       "    <tr>\n",
       "      <th>229</th>\n",
       "      <td>2090000.0</td>\n",
       "      <td>4</td>\n",
       "      <td>35071.0</td>\n",
       "      <td>3</td>\n",
       "      <td>BelaVista</td>\n",
       "      <td>BelaVista</td>\n",
       "    </tr>\n",
       "    <tr>\n",
       "      <th>268</th>\n",
       "      <td>3240374.0</td>\n",
       "      <td>4</td>\n",
       "      <td>2576.0</td>\n",
       "      <td>4</td>\n",
       "      <td>BelaVista</td>\n",
       "      <td>BelaVista</td>\n",
       "    </tr>\n",
       "    <tr>\n",
       "      <th>275</th>\n",
       "      <td>3303911.0</td>\n",
       "      <td>4</td>\n",
       "      <td>2576.0</td>\n",
       "      <td>4</td>\n",
       "      <td>BelaVista</td>\n",
       "      <td>BelaVista</td>\n",
       "    </tr>\n",
       "    <tr>\n",
       "      <th>295</th>\n",
       "      <td>1390000.0</td>\n",
       "      <td>3</td>\n",
       "      <td>13879.0</td>\n",
       "      <td>2</td>\n",
       "      <td>BelaVista</td>\n",
       "      <td>BelaVista</td>\n",
       "    </tr>\n",
       "    <tr>\n",
       "      <th>302</th>\n",
       "      <td>2700000.0</td>\n",
       "      <td>3</td>\n",
       "      <td>2578.0</td>\n",
       "      <td>4</td>\n",
       "      <td>BelaVista</td>\n",
       "      <td>BelaVista</td>\n",
       "    </tr>\n",
       "    <tr>\n",
       "      <th>307</th>\n",
       "      <td>950000.0</td>\n",
       "      <td>3</td>\n",
       "      <td>10561.0</td>\n",
       "      <td>2</td>\n",
       "      <td>BelaVista</td>\n",
       "      <td>BelaVista</td>\n",
       "    </tr>\n",
       "    <tr>\n",
       "      <th>357</th>\n",
       "      <td>990000.0</td>\n",
       "      <td>3</td>\n",
       "      <td>10561.0</td>\n",
       "      <td>3</td>\n",
       "      <td>BelaVista</td>\n",
       "      <td>BelaVista</td>\n",
       "    </tr>\n",
       "    <tr>\n",
       "      <th>363</th>\n",
       "      <td>435000.0</td>\n",
       "      <td>1</td>\n",
       "      <td>5689.0</td>\n",
       "      <td>1</td>\n",
       "      <td>BelaVista</td>\n",
       "      <td>BelaVista</td>\n",
       "    </tr>\n",
       "    <tr>\n",
       "      <th>441</th>\n",
       "      <td>2490000.0</td>\n",
       "      <td>3</td>\n",
       "      <td>17446.0</td>\n",
       "      <td>3</td>\n",
       "      <td>BelaVista</td>\n",
       "      <td>BelaVista</td>\n",
       "    </tr>\n",
       "    <tr>\n",
       "      <th>444</th>\n",
       "      <td>9117117.0</td>\n",
       "      <td>4</td>\n",
       "      <td>50938.0</td>\n",
       "      <td>6</td>\n",
       "      <td>BelaVista</td>\n",
       "      <td>BelaVista</td>\n",
       "    </tr>\n",
       "    <tr>\n",
       "      <th>481</th>\n",
       "      <td>799000.0</td>\n",
       "      <td>3</td>\n",
       "      <td>10724.0</td>\n",
       "      <td>2</td>\n",
       "      <td>BelaVista</td>\n",
       "      <td>BelaVista</td>\n",
       "    </tr>\n",
       "    <tr>\n",
       "      <th>534</th>\n",
       "      <td>1700000.0</td>\n",
       "      <td>3</td>\n",
       "      <td>18852.0</td>\n",
       "      <td>3</td>\n",
       "      <td>BelaVista</td>\n",
       "      <td>BelaVista</td>\n",
       "    </tr>\n",
       "    <tr>\n",
       "      <th>597</th>\n",
       "      <td>1800000.0</td>\n",
       "      <td>3</td>\n",
       "      <td>211.0</td>\n",
       "      <td>3</td>\n",
       "      <td>BelaVista</td>\n",
       "      <td>BelaVista</td>\n",
       "    </tr>\n",
       "  </tbody>\n",
       "</table>\n",
       "</div>"
      ],
      "text/plain": [
       "         preco  dormitorios     area  vagas     bairro       tipo\n",
       "4    3053011.0            4   2713.0      4  BelaVista  BelaVista\n",
       "36   1349000.0            3    140.0      2  BelaVista  BelaVista\n",
       "88   1699000.0            3  14015.0      2  BelaVista  BelaVista\n",
       "114  1990000.0            3  18121.0      4  BelaVista  BelaVista\n",
       "120   779000.0            2   8337.0      2  BelaVista  BelaVista\n",
       "135  1400000.0            2   9904.0      2  BelaVista  BelaVista\n",
       "159   540000.0            1    649.0      2  BelaVista  BelaVista\n",
       "166  3420000.0            4  22602.0      4  BelaVista  BelaVista\n",
       "188  3896550.0            3  51954.0      4  BelaVista  BelaVista\n",
       "191  1699000.0            3  25062.0      2  BelaVista  BelaVista\n",
       "195  2071000.0            3  16345.0      2  BelaVista  BelaVista\n",
       "229  2090000.0            4  35071.0      3  BelaVista  BelaVista\n",
       "268  3240374.0            4   2576.0      4  BelaVista  BelaVista\n",
       "275  3303911.0            4   2576.0      4  BelaVista  BelaVista\n",
       "295  1390000.0            3  13879.0      2  BelaVista  BelaVista\n",
       "302  2700000.0            3   2578.0      4  BelaVista  BelaVista\n",
       "307   950000.0            3  10561.0      2  BelaVista  BelaVista\n",
       "357   990000.0            3  10561.0      3  BelaVista  BelaVista\n",
       "363   435000.0            1   5689.0      1  BelaVista  BelaVista\n",
       "441  2490000.0            3  17446.0      3  BelaVista  BelaVista\n",
       "444  9117117.0            4  50938.0      6  BelaVista  BelaVista\n",
       "481   799000.0            3  10724.0      2  BelaVista  BelaVista\n",
       "534  1700000.0            3  18852.0      3  BelaVista  BelaVista\n",
       "597  1800000.0            3    211.0      3  BelaVista  BelaVista"
      ]
     },
     "execution_count": 35,
     "metadata": {},
     "output_type": "execute_result"
    }
   ],
   "source": [
    "df.loc[df['bairro'] == \"BelaVista\"]"
   ]
  },
  {
   "cell_type": "code",
   "execution_count": 36,
   "metadata": {},
   "outputs": [],
   "source": [
    "df.to_csv('datasets/clean_imoveis.csv', index = False)"
   ]
  }
 ],
 "metadata": {
  "kernelspec": {
   "display_name": "Python 3",
   "language": "python",
   "name": "python3"
  },
  "language_info": {
   "codemirror_mode": {
    "name": "ipython",
    "version": 3
   },
   "file_extension": ".py",
   "mimetype": "text/x-python",
   "name": "python",
   "nbconvert_exporter": "python",
   "pygments_lexer": "ipython3",
   "version": "3.7.6"
  }
 },
 "nbformat": 4,
 "nbformat_minor": 4
}
