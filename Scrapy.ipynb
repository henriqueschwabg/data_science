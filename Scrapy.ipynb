{
 "cells": [
  {
   "cell_type": "markdown",
   "metadata": {},
   "source": [
    "## Limpando e manipulando dados após Web Scraping"
   ]
  },
  {
   "cell_type": "code",
   "execution_count": 1,
   "metadata": {},
   "outputs": [],
   "source": [
    "import pandas as pd"
   ]
  },
  {
   "cell_type": "code",
   "execution_count": 2,
   "metadata": {},
   "outputs": [],
   "source": [
    "import re"
   ]
  },
  {
   "cell_type": "code",
   "execution_count": 3,
   "metadata": {},
   "outputs": [
    {
     "data": {
      "text/html": [
       "<div>\n",
       "<style scoped>\n",
       "    .dataframe tbody tr th:only-of-type {\n",
       "        vertical-align: middle;\n",
       "    }\n",
       "\n",
       "    .dataframe tbody tr th {\n",
       "        vertical-align: top;\n",
       "    }\n",
       "\n",
       "    .dataframe thead th {\n",
       "        text-align: right;\n",
       "    }\n",
       "</style>\n",
       "<table border=\"1\" class=\"dataframe\">\n",
       "  <thead>\n",
       "    <tr style=\"text-align: right;\">\n",
       "      <th></th>\n",
       "      <th>preco</th>\n",
       "      <th>dormitorios</th>\n",
       "      <th>area</th>\n",
       "      <th>vagas</th>\n",
       "      <th>bairro</th>\n",
       "    </tr>\n",
       "  </thead>\n",
       "  <tbody>\n",
       "    <tr>\n",
       "      <th>0</th>\n",
       "      <td>[R$ 1.055.000]</td>\n",
       "      <td>[3]</td>\n",
       "      <td>[128]</td>\n",
       "      <td>[3]</td>\n",
       "      <td>[Imóvel 106391 - , Apartamento, \\n            ...</td>\n",
       "    </tr>\n",
       "    <tr>\n",
       "      <th>1</th>\n",
       "      <td>[R$ 1.112.000]</td>\n",
       "      <td>[3]</td>\n",
       "      <td>[136.34]</td>\n",
       "      <td>[2]</td>\n",
       "      <td>[Imóvel 130624 - , Apartamento, \\n            ...</td>\n",
       "    </tr>\n",
       "    <tr>\n",
       "      <th>2</th>\n",
       "      <td>[R$ 1.620.000]</td>\n",
       "      <td>[3]</td>\n",
       "      <td>[204.87]</td>\n",
       "      <td>[3]</td>\n",
       "      <td>[Imóvel 192740 - , Apartamento, \\n            ...</td>\n",
       "    </tr>\n",
       "    <tr>\n",
       "      <th>3</th>\n",
       "      <td>[R$ 1.190.000]</td>\n",
       "      <td>[3]</td>\n",
       "      <td>[241]</td>\n",
       "      <td>[2]</td>\n",
       "      <td>[Imóvel 196741 - , Casa, \\n                   ...</td>\n",
       "    </tr>\n",
       "    <tr>\n",
       "      <th>4</th>\n",
       "      <td>[R$ 3.053.011]</td>\n",
       "      <td>[4]</td>\n",
       "      <td>[271.3]</td>\n",
       "      <td>[4]</td>\n",
       "      <td>[Imóvel 183630 - , Apartamento, \\n            ...</td>\n",
       "    </tr>\n",
       "  </tbody>\n",
       "</table>\n",
       "</div>"
      ],
      "text/plain": [
       "            preco dormitorios      area vagas  \\\n",
       "0  [R$ 1.055.000]         [3]     [128]   [3]   \n",
       "1  [R$ 1.112.000]         [3]  [136.34]   [2]   \n",
       "2  [R$ 1.620.000]         [3]  [204.87]   [3]   \n",
       "3  [R$ 1.190.000]         [3]     [241]   [2]   \n",
       "4  [R$ 3.053.011]         [4]   [271.3]   [4]   \n",
       "\n",
       "                                              bairro  \n",
       "0  [Imóvel 106391 - , Apartamento, \\n            ...  \n",
       "1  [Imóvel 130624 - , Apartamento, \\n            ...  \n",
       "2  [Imóvel 192740 - , Apartamento, \\n            ...  \n",
       "3  [Imóvel 196741 - , Casa, \\n                   ...  \n",
       "4  [Imóvel 183630 - , Apartamento, \\n            ...  "
      ]
     },
     "execution_count": 3,
     "metadata": {},
     "output_type": "execute_result"
    }
   ],
   "source": [
    "file = \"datasets/imoveis.json\"\n",
    "\n",
    "df = pd.read_json(file, orient = 'records')\n",
    "\n",
    "df.head()"
   ]
  },
  {
   "cell_type": "code",
   "execution_count": 4,
   "metadata": {},
   "outputs": [
    {
     "name": "stdout",
     "output_type": "stream",
     "text": [
      "Dimensões do Dataframe:\n",
      "\n",
      "Linhas: 600\n",
      "Colunas: 5\n"
     ]
    }
   ],
   "source": [
    "print('Dimensões do Dataframe:\\n')\n",
    "print(f'Linhas: {df.shape[0]}')\n",
    "print(f'Colunas: {df.shape[1]}')"
   ]
  },
  {
   "cell_type": "code",
   "execution_count": 5,
   "metadata": {},
   "outputs": [
    {
     "data": {
      "text/plain": [
       "preco          object\n",
       "dormitorios    object\n",
       "area           object\n",
       "vagas          object\n",
       "bairro         object\n",
       "dtype: object"
      ]
     },
     "execution_count": 5,
     "metadata": {},
     "output_type": "execute_result"
    }
   ],
   "source": [
    "df.dtypes"
   ]
  },
  {
   "cell_type": "code",
   "execution_count": 6,
   "metadata": {},
   "outputs": [
    {
     "data": {
      "text/plain": [
       "0      [R$ 1.055.000]\n",
       "1      [R$ 1.112.000]\n",
       "2      [R$ 1.620.000]\n",
       "3      [R$ 1.190.000]\n",
       "4      [R$ 3.053.011]\n",
       "            ...      \n",
       "595      [R$ 860.000]\n",
       "596      [R$ 325.000]\n",
       "597    [R$ 1.800.000]\n",
       "598    [R$ 1.750.000]\n",
       "599    [R$ 1.380.000]\n",
       "Name: preco, Length: 600, dtype: object"
      ]
     },
     "execution_count": 6,
     "metadata": {},
     "output_type": "execute_result"
    }
   ],
   "source": [
    "df['preco']"
   ]
  },
  {
   "cell_type": "code",
   "execution_count": 7,
   "metadata": {},
   "outputs": [
    {
     "data": {
      "text/plain": [
       "388      [R$ 355.000]\n",
       "589      [R$ 875.000]\n",
       "499      [R$ 650.000]\n",
       "318      [R$ 875.000]\n",
       "66       [R$ 790.000]\n",
       "100      [R$ 310.000]\n",
       "113      [R$ 890.000]\n",
       "289      [R$ 185.000]\n",
       "545      [R$ 340.000]\n",
       "416      [R$ 248.000]\n",
       "521      [R$ 490.000]\n",
       "394      [R$ 498.000]\n",
       "88     [R$ 1.699.000]\n",
       "529      [R$ 650.000]\n",
       "264      [R$ 223.500]\n",
       "518      [R$ 530.000]\n",
       "327      [R$ 480.000]\n",
       "564      [R$ 424.000]\n",
       "171      [R$ 934.065]\n",
       "509      [R$ 730.000]\n",
       "Name: preco, dtype: object"
      ]
     },
     "execution_count": 7,
     "metadata": {},
     "output_type": "execute_result"
    }
   ],
   "source": [
    "df['preco'].sample(20)"
   ]
  },
  {
   "cell_type": "code",
   "execution_count": 8,
   "metadata": {},
   "outputs": [],
   "source": [
    "df['preco'] = df['preco'].apply(lambda x : re.sub('\\D', '', str(x))).astype(float)"
   ]
  },
  {
   "cell_type": "code",
   "execution_count": 9,
   "metadata": {},
   "outputs": [
    {
     "data": {
      "text/plain": [
       "0      1055000.0\n",
       "1      1112000.0\n",
       "2      1620000.0\n",
       "3      1190000.0\n",
       "4      3053011.0\n",
       "         ...    \n",
       "595     860000.0\n",
       "596     325000.0\n",
       "597    1800000.0\n",
       "598    1750000.0\n",
       "599    1380000.0\n",
       "Name: preco, Length: 600, dtype: float64"
      ]
     },
     "execution_count": 9,
     "metadata": {},
     "output_type": "execute_result"
    }
   ],
   "source": [
    "df['preco']"
   ]
  },
  {
   "cell_type": "code",
   "execution_count": 10,
   "metadata": {},
   "outputs": [
    {
     "data": {
      "text/plain": [
       "481     799000.0\n",
       "236    1210000.0\n",
       "127    1819000.0\n",
       "360     315000.0\n",
       "194     478703.0\n",
       "539     420000.0\n",
       "564     424000.0\n",
       "435     704499.0\n",
       "178     630000.0\n",
       "469     640000.0\n",
       "Name: preco, dtype: float64"
      ]
     },
     "execution_count": 10,
     "metadata": {},
     "output_type": "execute_result"
    }
   ],
   "source": [
    "df['preco'].sample(10)"
   ]
  },
  {
   "cell_type": "code",
   "execution_count": 11,
   "metadata": {},
   "outputs": [
    {
     "data": {
      "text/plain": [
       "preco          float64\n",
       "dormitorios     object\n",
       "area            object\n",
       "vagas           object\n",
       "bairro          object\n",
       "dtype: object"
      ]
     },
     "execution_count": 11,
     "metadata": {},
     "output_type": "execute_result"
    }
   ],
   "source": [
    "df.dtypes"
   ]
  },
  {
   "cell_type": "code",
   "execution_count": 12,
   "metadata": {},
   "outputs": [
    {
     "data": {
      "text/plain": [
       "preco           0\n",
       "dormitorios     8\n",
       "area            0\n",
       "vagas          21\n",
       "bairro          0\n",
       "dtype: int64"
      ]
     },
     "execution_count": 12,
     "metadata": {},
     "output_type": "execute_result"
    }
   ],
   "source": [
    "df.isnull().sum()"
   ]
  },
  {
   "cell_type": "code",
   "execution_count": 13,
   "metadata": {},
   "outputs": [],
   "source": [
    "df['dormitorios'].fillna(\"0\", inplace = True)"
   ]
  },
  {
   "cell_type": "code",
   "execution_count": 14,
   "metadata": {},
   "outputs": [],
   "source": [
    "df['dormitorios'] = df['dormitorios'].apply(lambda x : re.sub('\\D', '', str(x))).astype(int)"
   ]
  },
  {
   "cell_type": "code",
   "execution_count": 15,
   "metadata": {},
   "outputs": [
    {
     "data": {
      "text/plain": [
       "3    319\n",
       "2    184\n",
       "1     52\n",
       "4     34\n",
       "0      8\n",
       "6      2\n",
       "5      1\n",
       "Name: dormitorios, dtype: int64"
      ]
     },
     "execution_count": 15,
     "metadata": {},
     "output_type": "execute_result"
    }
   ],
   "source": [
    "df['dormitorios'].value_counts()"
   ]
  },
  {
   "cell_type": "code",
   "execution_count": 16,
   "metadata": {},
   "outputs": [],
   "source": [
    "df['area'] = df['area'].apply(lambda x : re.sub('\\[', '', str(x)))\n",
    "df['area'] = df['area'].apply(lambda x : re.sub('\\]', '', str(x)))\n",
    "df['area'] = df['area'].apply(lambda x : re.sub(\"'\", '', str(x)))\n",
    "df['area'] = df['area'].apply(lambda x : re.sub(\"'\", '', str(x))).astype(float)"
   ]
  },
  {
   "cell_type": "code",
   "execution_count": 17,
   "metadata": {},
   "outputs": [
    {
     "data": {
      "text/plain": [
       "188    519.54\n",
       "454     60.37\n",
       "197     74.23\n",
       "204     80.41\n",
       "8       86.20\n",
       "503     66.51\n",
       "315     48.46\n",
       "125     87.86\n",
       "110    192.69\n",
       "457     72.69\n",
       "482    100.00\n",
       "191    250.62\n",
       "247     59.93\n",
       "357    105.61\n",
       "143    139.65\n",
       "217     69.29\n",
       "461    221.33\n",
       "35      36.76\n",
       "194     67.00\n",
       "387    199.88\n",
       "Name: area, dtype: float64"
      ]
     },
     "execution_count": 17,
     "metadata": {},
     "output_type": "execute_result"
    }
   ],
   "source": [
    "df['area'].sample(20)"
   ]
  },
  {
   "cell_type": "code",
   "execution_count": 18,
   "metadata": {},
   "outputs": [
    {
     "data": {
      "text/plain": [
       "preco          float64\n",
       "dormitorios      int32\n",
       "area           float64\n",
       "vagas           object\n",
       "bairro          object\n",
       "dtype: object"
      ]
     },
     "execution_count": 18,
     "metadata": {},
     "output_type": "execute_result"
    }
   ],
   "source": [
    "df.dtypes"
   ]
  },
  {
   "cell_type": "code",
   "execution_count": 19,
   "metadata": {},
   "outputs": [],
   "source": [
    "df['vagas'].fillna(\"0\", inplace = True)"
   ]
  },
  {
   "cell_type": "code",
   "execution_count": 20,
   "metadata": {},
   "outputs": [],
   "source": [
    "df['vagas'] = df['vagas'].apply(lambda x : re.sub('\\D', '', str(x))).astype(int)"
   ]
  },
  {
   "cell_type": "code",
   "execution_count": 21,
   "metadata": {},
   "outputs": [
    {
     "data": {
      "text/plain": [
       "1    264\n",
       "2    231\n",
       "3     45\n",
       "4     30\n",
       "0     21\n",
       "6      6\n",
       "5      2\n",
       "8      1\n",
       "Name: vagas, dtype: int64"
      ]
     },
     "execution_count": 21,
     "metadata": {},
     "output_type": "execute_result"
    }
   ],
   "source": [
    "df['vagas'].value_counts()"
   ]
  },
  {
   "cell_type": "code",
   "execution_count": 22,
   "metadata": {},
   "outputs": [
    {
     "data": {
      "text/plain": [
       "45     [Imóvel 199151 - , Apartamento, \\n            ...\n",
       "508    [Imóvel 180878 - , Apartamento, \\n            ...\n",
       "148    [Imóvel 123696 - , Apartamento, \\n            ...\n",
       "485    [Imóvel 166098 - , Apartamento, \\n            ...\n",
       "419    [Imóvel 199105 - , Apartamento, \\n            ...\n",
       "230    [Imóvel 178174 - , Cobertura, \\n              ...\n",
       "363    [Imóvel 165242 - , Apartamento, \\n            ...\n",
       "544    [Imóvel 190325 - , Apartamento, \\n            ...\n",
       "536    [Imóvel 189226 - , Casa, \\n                   ...\n",
       "573    [Imóvel 195168 - , Apartamento, \\n            ...\n",
       "Name: bairro, dtype: object"
      ]
     },
     "execution_count": 22,
     "metadata": {},
     "output_type": "execute_result"
    }
   ],
   "source": [
    "df['bairro'].sample(10)"
   ]
  },
  {
   "cell_type": "code",
   "execution_count": 23,
   "metadata": {},
   "outputs": [],
   "source": [
    "df['bairro'] = df['bairro'].apply(lambda x : re.sub('\\d', '', str(x))).astype(str)"
   ]
  },
  {
   "cell_type": "code",
   "execution_count": 24,
   "metadata": {},
   "outputs": [
    {
     "data": {
      "text/plain": [
       "362    ['Imóvel  - ', 'Apartamento', '\\n             ...\n",
       "367    ['Imóvel  - ', 'Apartamento', '\\n             ...\n",
       "96     ['Imóvel  - ', 'Apartamento', '\\n             ...\n",
       "175    ['Imóvel  - ', 'Cobertura', '\\n               ...\n",
       "193    ['Imóvel  - ', 'Apartamento', '\\n             ...\n",
       "553    ['Imóvel  - ', 'Apartamento', '\\n             ...\n",
       "219    ['Imóvel  - ', 'Casa', '\\n                    ...\n",
       "29     ['Imóvel  - ', 'Apartamento', '\\n             ...\n",
       "165    ['Imóvel  - ', 'Apartamento', '\\n             ...\n",
       "220    ['Imóvel  - ', 'Apartamento', '\\n             ...\n",
       "Name: bairro, dtype: object"
      ]
     },
     "execution_count": 24,
     "metadata": {},
     "output_type": "execute_result"
    }
   ],
   "source": [
    "df['bairro'].sample(10)"
   ]
  },
  {
   "cell_type": "code",
   "execution_count": 25,
   "metadata": {},
   "outputs": [],
   "source": [
    "df['bairro'] = df['bairro'].apply(lambda x : re.sub('Imóvel  -', '', x))"
   ]
  },
  {
   "cell_type": "code",
   "execution_count": 26,
   "metadata": {},
   "outputs": [],
   "source": [
    "df['bairro'] = df['bairro'].apply(lambda x : re.sub(r'\\\\n', '', x))"
   ]
  },
  {
   "cell_type": "code",
   "execution_count": 27,
   "metadata": {},
   "outputs": [
    {
     "data": {
      "text/plain": [
       "388    [' ', 'Apartamento', '                        ...\n",
       "581    [' ', 'Apartamento', '                        ...\n",
       "86     [' ', 'Apartamento', '                        ...\n",
       "70     [' ', 'Casa', '                        Belém N...\n",
       "0      [' ', 'Apartamento', '                        ...\n",
       "205    [' ', 'Casa', '                        Cavalha...\n",
       "528    [' ', 'Apartamento', '                        ...\n",
       "46     [' ', 'Apartamento', '                        ...\n",
       "79     [' ', 'Apartamento', '                        ...\n",
       "536    [' ', 'Casa', '                        Jardim ...\n",
       "Name: bairro, dtype: object"
      ]
     },
     "execution_count": 27,
     "metadata": {},
     "output_type": "execute_result"
    }
   ],
   "source": [
    "df['bairro'].sample(10)"
   ]
  },
  {
   "cell_type": "code",
   "execution_count": 28,
   "metadata": {},
   "outputs": [],
   "source": [
    "df['tipo'] = df['bairro'].apply(lambda x : re.split(',', x)[1])"
   ]
  },
  {
   "cell_type": "code",
   "execution_count": 29,
   "metadata": {},
   "outputs": [
    {
     "data": {
      "text/plain": [
       "333     'Apartamento'\n",
       "557     'Apartamento'\n",
       "411     'Apartamento'\n",
       "374     'Apartamento'\n",
       "376            'Casa'\n",
       "347     'Apartamento'\n",
       "431     'Apartamento'\n",
       "358            'Sala'\n",
       "340            'Casa'\n",
       "252       'Cobertura'\n",
       "Name: tipo, dtype: object"
      ]
     },
     "execution_count": 29,
     "metadata": {},
     "output_type": "execute_result"
    }
   ],
   "source": [
    "df['tipo'].sample(10)"
   ]
  },
  {
   "cell_type": "code",
   "execution_count": 30,
   "metadata": {},
   "outputs": [],
   "source": [
    "df['bairro'] = df['bairro'].apply(lambda x : re.split(',', x)[2])"
   ]
  },
  {
   "cell_type": "code",
   "execution_count": 31,
   "metadata": {},
   "outputs": [
    {
     "data": {
      "text/plain": [
       "0       '                        Central Parque\n",
       "1          '                        Menino Deus\n",
       "2           '                        Rio Branco\n",
       "3              '                        Sarandi\n",
       "4           '                        Bela Vista\n",
       "                         ...                   \n",
       "595        '                        Auxiliadora\n",
       "596           '                        Tristeza\n",
       "597         '                        Bela Vista\n",
       "598      '                        Jardim Europa\n",
       "599     '                        Três Figueiras\n",
       "Name: bairro, Length: 600, dtype: object"
      ]
     },
     "execution_count": 31,
     "metadata": {},
     "output_type": "execute_result"
    }
   ],
   "source": [
    "df['bairro']"
   ]
  },
  {
   "cell_type": "code",
   "execution_count": 32,
   "metadata": {},
   "outputs": [],
   "source": [
    "df['bairro'] = df['bairro'].apply(lambda x : re.sub('\\s', '', x))"
   ]
  },
  {
   "cell_type": "code",
   "execution_count": 33,
   "metadata": {},
   "outputs": [
    {
     "data": {
      "text/plain": [
       "0      'CentralParque\n",
       "1         'MeninoDeus\n",
       "2          'RioBranco\n",
       "3            'Sarandi\n",
       "4          'BelaVista\n",
       "            ...      \n",
       "595      'Auxiliadora\n",
       "596         'Tristeza\n",
       "597        'BelaVista\n",
       "598     'JardimEuropa\n",
       "599    'TrêsFigueiras\n",
       "Name: bairro, Length: 600, dtype: object"
      ]
     },
     "execution_count": 33,
     "metadata": {},
     "output_type": "execute_result"
    }
   ],
   "source": [
    "df['bairro']"
   ]
  },
  {
   "cell_type": "code",
   "execution_count": 34,
   "metadata": {},
   "outputs": [],
   "source": [
    "df['tipo'] = df['tipo'].apply(lambda x : re.sub(\"'\", \"\", x))\n",
    "df['bairro'] = df['bairro'].apply(lambda x : re.sub(\"'\", '', x))"
   ]
  },
  {
   "cell_type": "code",
   "execution_count": 35,
   "metadata": {},
   "outputs": [
    {
     "data": {
      "text/plain": [
       "0     Apartamento\n",
       "1     Apartamento\n",
       "2     Apartamento\n",
       "3            Casa\n",
       "4     Apartamento\n",
       "Name: tipo, dtype: object"
      ]
     },
     "execution_count": 35,
     "metadata": {},
     "output_type": "execute_result"
    }
   ],
   "source": [
    "df['tipo'].head()"
   ]
  },
  {
   "cell_type": "code",
   "execution_count": 36,
   "metadata": {},
   "outputs": [
    {
     "data": {
      "text/plain": [
       "0    CentralParque\n",
       "1       MeninoDeus\n",
       "2        RioBranco\n",
       "3          Sarandi\n",
       "4        BelaVista\n",
       "Name: bairro, dtype: object"
      ]
     },
     "execution_count": 36,
     "metadata": {},
     "output_type": "execute_result"
    }
   ],
   "source": [
    "df['bairro'].head()"
   ]
  },
  {
   "cell_type": "code",
   "execution_count": 37,
   "metadata": {},
   "outputs": [
    {
     "data": {
      "text/plain": [
       "preco          366\n",
       "dormitorios      7\n",
       "area           490\n",
       "vagas            8\n",
       "bairro          72\n",
       "tipo             8\n",
       "dtype: int64"
      ]
     },
     "execution_count": 37,
     "metadata": {},
     "output_type": "execute_result"
    }
   ],
   "source": [
    "df.nunique()"
   ]
  },
  {
   "cell_type": "code",
   "execution_count": 38,
   "metadata": {},
   "outputs": [
    {
     "data": {
      "text/plain": [
       " Apartamento    481\n",
       " Casa            73\n",
       " Cobertura       27\n",
       " Loft            10\n",
       " Sala             6\n",
       " Loja             1\n",
       " Terreno          1\n",
       " Flat             1\n",
       "Name: tipo, dtype: int64"
      ]
     },
     "execution_count": 38,
     "metadata": {},
     "output_type": "execute_result"
    }
   ],
   "source": [
    "df['tipo'].value_counts()"
   ]
  },
  {
   "cell_type": "code",
   "execution_count": 39,
   "metadata": {},
   "outputs": [
    {
     "data": {
      "text/plain": [
       "0      1055000\n",
       "1      1112000\n",
       "2      1620000\n",
       "3      1190000\n",
       "4      3053011\n",
       "        ...   \n",
       "595     860000\n",
       "596     325000\n",
       "597    1800000\n",
       "598    1750000\n",
       "599    1380000\n",
       "Name: preco, Length: 600, dtype: int64"
      ]
     },
     "execution_count": 39,
     "metadata": {},
     "output_type": "execute_result"
    }
   ],
   "source": [
    "df['preco'] = df['preco'].apply(lambda x : round(x))\n",
    "df['preco']"
   ]
  },
  {
   "cell_type": "code",
   "execution_count": 40,
   "metadata": {},
   "outputs": [
    {
     "data": {
      "text/plain": [
       "0      128.00\n",
       "1      136.34\n",
       "2      204.87\n",
       "3      241.00\n",
       "4      271.30\n",
       "        ...  \n",
       "595     93.65\n",
       "596     68.00\n",
       "597    211.00\n",
       "598    163.00\n",
       "599    154.00\n",
       "Name: area, Length: 600, dtype: float64"
      ]
     },
     "execution_count": 40,
     "metadata": {},
     "output_type": "execute_result"
    }
   ],
   "source": [
    "df['area']"
   ]
  },
  {
   "cell_type": "code",
   "execution_count": 41,
   "metadata": {},
   "outputs": [
    {
     "data": {
      "text/html": [
       "<div>\n",
       "<style scoped>\n",
       "    .dataframe tbody tr th:only-of-type {\n",
       "        vertical-align: middle;\n",
       "    }\n",
       "\n",
       "    .dataframe tbody tr th {\n",
       "        vertical-align: top;\n",
       "    }\n",
       "\n",
       "    .dataframe thead th {\n",
       "        text-align: right;\n",
       "    }\n",
       "</style>\n",
       "<table border=\"1\" class=\"dataframe\">\n",
       "  <thead>\n",
       "    <tr style=\"text-align: right;\">\n",
       "      <th></th>\n",
       "      <th>preco</th>\n",
       "      <th>dormitorios</th>\n",
       "      <th>area</th>\n",
       "      <th>vagas</th>\n",
       "    </tr>\n",
       "  </thead>\n",
       "  <tbody>\n",
       "    <tr>\n",
       "      <th>count</th>\n",
       "      <td>6.000000e+02</td>\n",
       "      <td>600.000000</td>\n",
       "      <td>600.000000</td>\n",
       "      <td>600.000000</td>\n",
       "    </tr>\n",
       "    <tr>\n",
       "      <th>mean</th>\n",
       "      <td>8.636065e+05</td>\n",
       "      <td>2.550000</td>\n",
       "      <td>117.512045</td>\n",
       "      <td>1.725000</td>\n",
       "    </tr>\n",
       "    <tr>\n",
       "      <th>std</th>\n",
       "      <td>9.296298e+05</td>\n",
       "      <td>0.815644</td>\n",
       "      <td>89.498635</td>\n",
       "      <td>1.015428</td>\n",
       "    </tr>\n",
       "    <tr>\n",
       "      <th>min</th>\n",
       "      <td>1.178000e+05</td>\n",
       "      <td>0.000000</td>\n",
       "      <td>23.330000</td>\n",
       "      <td>0.000000</td>\n",
       "    </tr>\n",
       "    <tr>\n",
       "      <th>25%</th>\n",
       "      <td>3.800000e+05</td>\n",
       "      <td>2.000000</td>\n",
       "      <td>64.000000</td>\n",
       "      <td>1.000000</td>\n",
       "    </tr>\n",
       "    <tr>\n",
       "      <th>50%</th>\n",
       "      <td>5.870000e+05</td>\n",
       "      <td>3.000000</td>\n",
       "      <td>84.465000</td>\n",
       "      <td>2.000000</td>\n",
       "    </tr>\n",
       "    <tr>\n",
       "      <th>75%</th>\n",
       "      <td>9.710585e+05</td>\n",
       "      <td>3.000000</td>\n",
       "      <td>138.792500</td>\n",
       "      <td>2.000000</td>\n",
       "    </tr>\n",
       "    <tr>\n",
       "      <th>max</th>\n",
       "      <td>9.117117e+06</td>\n",
       "      <td>6.000000</td>\n",
       "      <td>751.510000</td>\n",
       "      <td>8.000000</td>\n",
       "    </tr>\n",
       "  </tbody>\n",
       "</table>\n",
       "</div>"
      ],
      "text/plain": [
       "              preco  dormitorios        area       vagas\n",
       "count  6.000000e+02   600.000000  600.000000  600.000000\n",
       "mean   8.636065e+05     2.550000  117.512045    1.725000\n",
       "std    9.296298e+05     0.815644   89.498635    1.015428\n",
       "min    1.178000e+05     0.000000   23.330000    0.000000\n",
       "25%    3.800000e+05     2.000000   64.000000    1.000000\n",
       "50%    5.870000e+05     3.000000   84.465000    2.000000\n",
       "75%    9.710585e+05     3.000000  138.792500    2.000000\n",
       "max    9.117117e+06     6.000000  751.510000    8.000000"
      ]
     },
     "execution_count": 41,
     "metadata": {},
     "output_type": "execute_result"
    }
   ],
   "source": [
    "df.describe()"
   ]
  },
  {
   "cell_type": "code",
   "execution_count": 42,
   "metadata": {},
   "outputs": [
    {
     "data": {
      "text/plain": [
       "bairro\n",
       "MontSerrat          2.213700e+06\n",
       "BelaVista           2.204248e+06\n",
       "BelémNovo           2.134000e+06\n",
       "PedraRedonda        1.950000e+06\n",
       "JardimSãoPedro      1.900000e+06\n",
       "TrêsFigueiras       1.667200e+06\n",
       "Auxiliadora         1.588450e+06\n",
       "JardimEuropa        1.455259e+06\n",
       "CentralParque       1.244618e+06\n",
       "MoinhosdeVento      1.242944e+06\n",
       "ChácaradasPedras    1.221700e+06\n",
       "RioBranco           1.190297e+06\n",
       "Petrópolis          1.170219e+06\n",
       "Agronomia           9.677143e+05\n",
       "MeninoDeus          9.590551e+05\n",
       "Name: preco, dtype: float64"
      ]
     },
     "execution_count": 42,
     "metadata": {},
     "output_type": "execute_result"
    }
   ],
   "source": [
    "df.groupby(by = 'bairro').preco.mean().sort_values(ascending = False)[:15]"
   ]
  },
  {
   "cell_type": "code",
   "execution_count": 43,
   "metadata": {},
   "outputs": [
    {
     "data": {
      "text/html": [
       "<div>\n",
       "<style scoped>\n",
       "    .dataframe tbody tr th:only-of-type {\n",
       "        vertical-align: middle;\n",
       "    }\n",
       "\n",
       "    .dataframe tbody tr th {\n",
       "        vertical-align: top;\n",
       "    }\n",
       "\n",
       "    .dataframe thead th {\n",
       "        text-align: right;\n",
       "    }\n",
       "</style>\n",
       "<table border=\"1\" class=\"dataframe\">\n",
       "  <thead>\n",
       "    <tr style=\"text-align: right;\">\n",
       "      <th></th>\n",
       "      <th>preco</th>\n",
       "      <th>dormitorios</th>\n",
       "      <th>area</th>\n",
       "      <th>vagas</th>\n",
       "      <th>bairro</th>\n",
       "      <th>tipo</th>\n",
       "    </tr>\n",
       "  </thead>\n",
       "  <tbody>\n",
       "    <tr>\n",
       "      <th>444</th>\n",
       "      <td>9117117</td>\n",
       "      <td>4</td>\n",
       "      <td>509.38</td>\n",
       "      <td>6</td>\n",
       "      <td>BelaVista</td>\n",
       "      <td>Cobertura</td>\n",
       "    </tr>\n",
       "    <tr>\n",
       "      <th>188</th>\n",
       "      <td>3896550</td>\n",
       "      <td>3</td>\n",
       "      <td>519.54</td>\n",
       "      <td>4</td>\n",
       "      <td>BelaVista</td>\n",
       "      <td>Apartamento</td>\n",
       "    </tr>\n",
       "    <tr>\n",
       "      <th>166</th>\n",
       "      <td>3420000</td>\n",
       "      <td>4</td>\n",
       "      <td>226.02</td>\n",
       "      <td>4</td>\n",
       "      <td>BelaVista</td>\n",
       "      <td>Apartamento</td>\n",
       "    </tr>\n",
       "    <tr>\n",
       "      <th>275</th>\n",
       "      <td>3303911</td>\n",
       "      <td>4</td>\n",
       "      <td>257.60</td>\n",
       "      <td>4</td>\n",
       "      <td>BelaVista</td>\n",
       "      <td>Apartamento</td>\n",
       "    </tr>\n",
       "    <tr>\n",
       "      <th>268</th>\n",
       "      <td>3240374</td>\n",
       "      <td>4</td>\n",
       "      <td>257.60</td>\n",
       "      <td>4</td>\n",
       "      <td>BelaVista</td>\n",
       "      <td>Apartamento</td>\n",
       "    </tr>\n",
       "    <tr>\n",
       "      <th>4</th>\n",
       "      <td>3053011</td>\n",
       "      <td>4</td>\n",
       "      <td>271.30</td>\n",
       "      <td>4</td>\n",
       "      <td>BelaVista</td>\n",
       "      <td>Apartamento</td>\n",
       "    </tr>\n",
       "    <tr>\n",
       "      <th>302</th>\n",
       "      <td>2700000</td>\n",
       "      <td>3</td>\n",
       "      <td>257.80</td>\n",
       "      <td>4</td>\n",
       "      <td>BelaVista</td>\n",
       "      <td>Apartamento</td>\n",
       "    </tr>\n",
       "    <tr>\n",
       "      <th>441</th>\n",
       "      <td>2490000</td>\n",
       "      <td>3</td>\n",
       "      <td>174.46</td>\n",
       "      <td>3</td>\n",
       "      <td>BelaVista</td>\n",
       "      <td>Apartamento</td>\n",
       "    </tr>\n",
       "    <tr>\n",
       "      <th>229</th>\n",
       "      <td>2090000</td>\n",
       "      <td>4</td>\n",
       "      <td>350.71</td>\n",
       "      <td>3</td>\n",
       "      <td>BelaVista</td>\n",
       "      <td>Cobertura</td>\n",
       "    </tr>\n",
       "    <tr>\n",
       "      <th>195</th>\n",
       "      <td>2071000</td>\n",
       "      <td>3</td>\n",
       "      <td>163.45</td>\n",
       "      <td>2</td>\n",
       "      <td>BelaVista</td>\n",
       "      <td>Apartamento</td>\n",
       "    </tr>\n",
       "    <tr>\n",
       "      <th>114</th>\n",
       "      <td>1990000</td>\n",
       "      <td>3</td>\n",
       "      <td>181.21</td>\n",
       "      <td>4</td>\n",
       "      <td>BelaVista</td>\n",
       "      <td>Apartamento</td>\n",
       "    </tr>\n",
       "    <tr>\n",
       "      <th>597</th>\n",
       "      <td>1800000</td>\n",
       "      <td>3</td>\n",
       "      <td>211.00</td>\n",
       "      <td>3</td>\n",
       "      <td>BelaVista</td>\n",
       "      <td>Apartamento</td>\n",
       "    </tr>\n",
       "    <tr>\n",
       "      <th>534</th>\n",
       "      <td>1700000</td>\n",
       "      <td>3</td>\n",
       "      <td>188.52</td>\n",
       "      <td>3</td>\n",
       "      <td>BelaVista</td>\n",
       "      <td>Apartamento</td>\n",
       "    </tr>\n",
       "    <tr>\n",
       "      <th>191</th>\n",
       "      <td>1699000</td>\n",
       "      <td>3</td>\n",
       "      <td>250.62</td>\n",
       "      <td>2</td>\n",
       "      <td>BelaVista</td>\n",
       "      <td>Apartamento</td>\n",
       "    </tr>\n",
       "    <tr>\n",
       "      <th>88</th>\n",
       "      <td>1699000</td>\n",
       "      <td>3</td>\n",
       "      <td>140.15</td>\n",
       "      <td>2</td>\n",
       "      <td>BelaVista</td>\n",
       "      <td>Apartamento</td>\n",
       "    </tr>\n",
       "    <tr>\n",
       "      <th>135</th>\n",
       "      <td>1400000</td>\n",
       "      <td>2</td>\n",
       "      <td>99.04</td>\n",
       "      <td>2</td>\n",
       "      <td>BelaVista</td>\n",
       "      <td>Apartamento</td>\n",
       "    </tr>\n",
       "    <tr>\n",
       "      <th>295</th>\n",
       "      <td>1390000</td>\n",
       "      <td>3</td>\n",
       "      <td>138.79</td>\n",
       "      <td>2</td>\n",
       "      <td>BelaVista</td>\n",
       "      <td>Apartamento</td>\n",
       "    </tr>\n",
       "    <tr>\n",
       "      <th>36</th>\n",
       "      <td>1349000</td>\n",
       "      <td>3</td>\n",
       "      <td>140.00</td>\n",
       "      <td>2</td>\n",
       "      <td>BelaVista</td>\n",
       "      <td>Apartamento</td>\n",
       "    </tr>\n",
       "    <tr>\n",
       "      <th>357</th>\n",
       "      <td>990000</td>\n",
       "      <td>3</td>\n",
       "      <td>105.61</td>\n",
       "      <td>3</td>\n",
       "      <td>BelaVista</td>\n",
       "      <td>Apartamento</td>\n",
       "    </tr>\n",
       "    <tr>\n",
       "      <th>307</th>\n",
       "      <td>950000</td>\n",
       "      <td>3</td>\n",
       "      <td>105.61</td>\n",
       "      <td>2</td>\n",
       "      <td>BelaVista</td>\n",
       "      <td>Apartamento</td>\n",
       "    </tr>\n",
       "    <tr>\n",
       "      <th>481</th>\n",
       "      <td>799000</td>\n",
       "      <td>3</td>\n",
       "      <td>107.24</td>\n",
       "      <td>2</td>\n",
       "      <td>BelaVista</td>\n",
       "      <td>Apartamento</td>\n",
       "    </tr>\n",
       "    <tr>\n",
       "      <th>120</th>\n",
       "      <td>779000</td>\n",
       "      <td>2</td>\n",
       "      <td>83.37</td>\n",
       "      <td>2</td>\n",
       "      <td>BelaVista</td>\n",
       "      <td>Apartamento</td>\n",
       "    </tr>\n",
       "    <tr>\n",
       "      <th>159</th>\n",
       "      <td>540000</td>\n",
       "      <td>1</td>\n",
       "      <td>64.90</td>\n",
       "      <td>2</td>\n",
       "      <td>BelaVista</td>\n",
       "      <td>Apartamento</td>\n",
       "    </tr>\n",
       "    <tr>\n",
       "      <th>363</th>\n",
       "      <td>435000</td>\n",
       "      <td>1</td>\n",
       "      <td>56.89</td>\n",
       "      <td>1</td>\n",
       "      <td>BelaVista</td>\n",
       "      <td>Apartamento</td>\n",
       "    </tr>\n",
       "  </tbody>\n",
       "</table>\n",
       "</div>"
      ],
      "text/plain": [
       "       preco  dormitorios    area  vagas     bairro          tipo\n",
       "444  9117117            4  509.38      6  BelaVista     Cobertura\n",
       "188  3896550            3  519.54      4  BelaVista   Apartamento\n",
       "166  3420000            4  226.02      4  BelaVista   Apartamento\n",
       "275  3303911            4  257.60      4  BelaVista   Apartamento\n",
       "268  3240374            4  257.60      4  BelaVista   Apartamento\n",
       "4    3053011            4  271.30      4  BelaVista   Apartamento\n",
       "302  2700000            3  257.80      4  BelaVista   Apartamento\n",
       "441  2490000            3  174.46      3  BelaVista   Apartamento\n",
       "229  2090000            4  350.71      3  BelaVista     Cobertura\n",
       "195  2071000            3  163.45      2  BelaVista   Apartamento\n",
       "114  1990000            3  181.21      4  BelaVista   Apartamento\n",
       "597  1800000            3  211.00      3  BelaVista   Apartamento\n",
       "534  1700000            3  188.52      3  BelaVista   Apartamento\n",
       "191  1699000            3  250.62      2  BelaVista   Apartamento\n",
       "88   1699000            3  140.15      2  BelaVista   Apartamento\n",
       "135  1400000            2   99.04      2  BelaVista   Apartamento\n",
       "295  1390000            3  138.79      2  BelaVista   Apartamento\n",
       "36   1349000            3  140.00      2  BelaVista   Apartamento\n",
       "357   990000            3  105.61      3  BelaVista   Apartamento\n",
       "307   950000            3  105.61      2  BelaVista   Apartamento\n",
       "481   799000            3  107.24      2  BelaVista   Apartamento\n",
       "120   779000            2   83.37      2  BelaVista   Apartamento\n",
       "159   540000            1   64.90      2  BelaVista   Apartamento\n",
       "363   435000            1   56.89      1  BelaVista   Apartamento"
      ]
     },
     "execution_count": 43,
     "metadata": {},
     "output_type": "execute_result"
    }
   ],
   "source": [
    "df.loc[df['bairro'] == \"BelaVista\"].sort_values(by = 'preco', ascending = False)"
   ]
  },
  {
   "cell_type": "code",
   "execution_count": 44,
   "metadata": {},
   "outputs": [],
   "source": [
    "df.to_csv('datasets/new_imoveis.csv', index = False)"
   ]
  }
 ],
 "metadata": {
  "kernelspec": {
   "display_name": "Python 3",
   "language": "python",
   "name": "python3"
  },
  "language_info": {
   "codemirror_mode": {
    "name": "ipython",
    "version": 3
   },
   "file_extension": ".py",
   "mimetype": "text/x-python",
   "name": "python",
   "nbconvert_exporter": "python",
   "pygments_lexer": "ipython3",
   "version": "3.7.6"
  }
 },
 "nbformat": 4,
 "nbformat_minor": 4
}
