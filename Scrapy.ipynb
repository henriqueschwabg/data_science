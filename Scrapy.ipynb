{
 "cells": [
  {
   "cell_type": "markdown",
   "metadata": {},
   "source": [
    "# Limpando Dados após fazer um Scraping usando Scrapy"
   ]
  },
  {
   "cell_type": "markdown",
   "metadata": {},
   "source": [
    "Foi realizado um processo de Scraping numa página de Imóveis da cidade de Porto Alegre. O processo foi feito utilizando a biblioteca Scrapy e ao término foi gerado um arquivo JSON com os dados que foram coletados."
   ]
  },
  {
   "cell_type": "code",
   "execution_count": 1,
   "metadata": {},
   "outputs": [],
   "source": [
    "import pandas as pd\n",
    "import numpy as np\n",
    "\n",
    "import re"
   ]
  },
  {
   "cell_type": "code",
   "execution_count": 2,
   "metadata": {},
   "outputs": [],
   "source": [
    "file = \"datasets/imoveis.json\"\n",
    "\n",
    "df = pd.read_json(file, orient = 'records')"
   ]
  },
  {
   "cell_type": "code",
   "execution_count": 3,
   "metadata": {},
   "outputs": [
    {
     "data": {
      "text/html": [
       "<div>\n",
       "<style scoped>\n",
       "    .dataframe tbody tr th:only-of-type {\n",
       "        vertical-align: middle;\n",
       "    }\n",
       "\n",
       "    .dataframe tbody tr th {\n",
       "        vertical-align: top;\n",
       "    }\n",
       "\n",
       "    .dataframe thead th {\n",
       "        text-align: right;\n",
       "    }\n",
       "</style>\n",
       "<table border=\"1\" class=\"dataframe\">\n",
       "  <thead>\n",
       "    <tr style=\"text-align: right;\">\n",
       "      <th></th>\n",
       "      <th>preco</th>\n",
       "      <th>dormitorios</th>\n",
       "      <th>area</th>\n",
       "      <th>vagas</th>\n",
       "      <th>bairro</th>\n",
       "    </tr>\n",
       "  </thead>\n",
       "  <tbody>\n",
       "    <tr>\n",
       "      <th>0</th>\n",
       "      <td>[R$ 1.055.000]</td>\n",
       "      <td>[3]</td>\n",
       "      <td>[128]</td>\n",
       "      <td>[3]</td>\n",
       "      <td>[Imóvel 106391 - , Apartamento, \\n            ...</td>\n",
       "    </tr>\n",
       "    <tr>\n",
       "      <th>1</th>\n",
       "      <td>[R$ 1.112.000]</td>\n",
       "      <td>[3]</td>\n",
       "      <td>[136.34]</td>\n",
       "      <td>[2]</td>\n",
       "      <td>[Imóvel 130624 - , Apartamento, \\n            ...</td>\n",
       "    </tr>\n",
       "    <tr>\n",
       "      <th>2</th>\n",
       "      <td>[R$ 1.620.000]</td>\n",
       "      <td>[3]</td>\n",
       "      <td>[204.87]</td>\n",
       "      <td>[3]</td>\n",
       "      <td>[Imóvel 192740 - , Apartamento, \\n            ...</td>\n",
       "    </tr>\n",
       "    <tr>\n",
       "      <th>3</th>\n",
       "      <td>[R$ 1.190.000]</td>\n",
       "      <td>[3]</td>\n",
       "      <td>[241]</td>\n",
       "      <td>[2]</td>\n",
       "      <td>[Imóvel 196741 - , Casa, \\n                   ...</td>\n",
       "    </tr>\n",
       "    <tr>\n",
       "      <th>4</th>\n",
       "      <td>[R$ 3.053.011]</td>\n",
       "      <td>[4]</td>\n",
       "      <td>[271.3]</td>\n",
       "      <td>[4]</td>\n",
       "      <td>[Imóvel 183630 - , Apartamento, \\n            ...</td>\n",
       "    </tr>\n",
       "  </tbody>\n",
       "</table>\n",
       "</div>"
      ],
      "text/plain": [
       "            preco dormitorios      area vagas  \\\n",
       "0  [R$ 1.055.000]         [3]     [128]   [3]   \n",
       "1  [R$ 1.112.000]         [3]  [136.34]   [2]   \n",
       "2  [R$ 1.620.000]         [3]  [204.87]   [3]   \n",
       "3  [R$ 1.190.000]         [3]     [241]   [2]   \n",
       "4  [R$ 3.053.011]         [4]   [271.3]   [4]   \n",
       "\n",
       "                                              bairro  \n",
       "0  [Imóvel 106391 - , Apartamento, \\n            ...  \n",
       "1  [Imóvel 130624 - , Apartamento, \\n            ...  \n",
       "2  [Imóvel 192740 - , Apartamento, \\n            ...  \n",
       "3  [Imóvel 196741 - , Casa, \\n                   ...  \n",
       "4  [Imóvel 183630 - , Apartamento, \\n            ...  "
      ]
     },
     "execution_count": 3,
     "metadata": {},
     "output_type": "execute_result"
    }
   ],
   "source": [
    "df.head()"
   ]
  },
  {
   "cell_type": "code",
   "execution_count": 4,
   "metadata": {},
   "outputs": [
    {
     "data": {
      "text/plain": [
       "(600, 5)"
      ]
     },
     "execution_count": 4,
     "metadata": {},
     "output_type": "execute_result"
    }
   ],
   "source": [
    "df.shape"
   ]
  },
  {
   "cell_type": "code",
   "execution_count": 5,
   "metadata": {},
   "outputs": [
    {
     "data": {
      "text/plain": [
       "['preco', 'dormitorios', 'area', 'vagas', 'bairro']"
      ]
     },
     "execution_count": 5,
     "metadata": {},
     "output_type": "execute_result"
    }
   ],
   "source": [
    "list(df.columns)"
   ]
  },
  {
   "cell_type": "code",
   "execution_count": 6,
   "metadata": {},
   "outputs": [
    {
     "data": {
      "text/plain": [
       "preco          object\n",
       "dormitorios    object\n",
       "area           object\n",
       "vagas          object\n",
       "bairro         object\n",
       "dtype: object"
      ]
     },
     "execution_count": 6,
     "metadata": {},
     "output_type": "execute_result"
    }
   ],
   "source": [
    "df.dtypes"
   ]
  },
  {
   "cell_type": "code",
   "execution_count": 7,
   "metadata": {},
   "outputs": [],
   "source": [
    "def cleaning_values(value):\n",
    "    value = str(value)\n",
    "    value = value.replace(\"Valor Previsto\", \"\").replace(\"R$\", \"\") \\\n",
    "                 .replace(\".\", \"\").replace(\"[\", \"\").replace(\"]\", \"\") \\\n",
    "                 .replace(\"'\", \"\").replace(\" \", \"\")\n",
    "    # print(value)\n",
    "\n",
    "    return value"
   ]
  },
  {
   "cell_type": "code",
   "execution_count": 8,
   "metadata": {},
   "outputs": [],
   "source": [
    "def cleaning_values_bairro(value):\n",
    "    value = str(value)\n",
    "    value = value.replace(\".\", \"\").replace(\"[\", \"\").replace(\"]\", \"\") \\\n",
    "                 .replace(\"Imóvel\", \"\").replace(\"-\", \"\") \\\n",
    "                 .replace(\"'\", \"\").replace(\"Porto Alegre\", \"\") \\\n",
    "                 .replace('\"', \"\").replace(\" \", \"\")\n",
    "    # print(value)\n",
    "\n",
    "    return value"
   ]
  },
  {
   "cell_type": "code",
   "execution_count": 9,
   "metadata": {},
   "outputs": [],
   "source": [
    "df_clean = df.copy()"
   ]
  },
  {
   "cell_type": "code",
   "execution_count": 10,
   "metadata": {},
   "outputs": [],
   "source": [
    "df_clean['area'] = df_clean['area'].apply(cleaning_values).astype(float)"
   ]
  },
  {
   "cell_type": "code",
   "execution_count": 11,
   "metadata": {},
   "outputs": [],
   "source": [
    "df_clean['preco'] = df_clean['preco'].apply(cleaning_values).astype(float)"
   ]
  },
  {
   "cell_type": "code",
   "execution_count": 12,
   "metadata": {},
   "outputs": [],
   "source": [
    "df_clean['dormitorios'] = df_clean['dormitorios'].apply(cleaning_values).astype(float)"
   ]
  },
  {
   "cell_type": "code",
   "execution_count": 13,
   "metadata": {},
   "outputs": [],
   "source": [
    "df_clean['vagas'] = df_clean['vagas'].apply(cleaning_values).astype(float)"
   ]
  },
  {
   "cell_type": "code",
   "execution_count": 14,
   "metadata": {},
   "outputs": [
    {
     "data": {
      "text/plain": [
       "0      1055000.00000\n",
       "1      1112000.00000\n",
       "2      1620000.00000\n",
       "3      1190000.00000\n",
       "4      3053011.00000\n",
       "           ...      \n",
       "595     860000.00000\n",
       "596     325000.00000\n",
       "597    1800000.00000\n",
       "598    1750000.00000\n",
       "599    1380000.00000\n",
       "Name: preco, Length: 600, dtype: object"
      ]
     },
     "execution_count": 14,
     "metadata": {},
     "output_type": "execute_result"
    }
   ],
   "source": [
    "df_clean['preco'].apply(lambda x: '%.5f' % x)"
   ]
  },
  {
   "cell_type": "code",
   "execution_count": 15,
   "metadata": {},
   "outputs": [],
   "source": [
    "df_clean['bairro'] = df_clean['bairro'].apply(cleaning_values_bairro)"
   ]
  },
  {
   "cell_type": "code",
   "execution_count": 16,
   "metadata": {},
   "outputs": [],
   "source": [
    "df_clean['bairro'] = df_clean['bairro'].apply(lambda x : re.sub(r\"\\d\", \"\", str(x)))"
   ]
  },
  {
   "cell_type": "code",
   "execution_count": 17,
   "metadata": {},
   "outputs": [],
   "source": [
    "df_clean['tipo'] = df_clean['bairro'].apply(lambda x : re.split(',', x)[1])"
   ]
  },
  {
   "cell_type": "code",
   "execution_count": 18,
   "metadata": {},
   "outputs": [],
   "source": [
    "df_clean['bairro'] = df_clean['bairro'].apply(lambda x : re.split(',', x)[2])"
   ]
  },
  {
   "cell_type": "code",
   "execution_count": 19,
   "metadata": {},
   "outputs": [],
   "source": [
    "df_clean['bairro'] = df_clean['bairro'].apply(lambda x : re.sub(r'\\\\n', '', x))"
   ]
  },
  {
   "cell_type": "code",
   "execution_count": 20,
   "metadata": {},
   "outputs": [
    {
     "data": {
      "text/plain": [
       "0    Apartamento\n",
       "1    Apartamento\n",
       "2    Apartamento\n",
       "3           Casa\n",
       "4    Apartamento\n",
       "Name: tipo, dtype: object"
      ]
     },
     "execution_count": 20,
     "metadata": {},
     "output_type": "execute_result"
    }
   ],
   "source": [
    "df_clean['tipo'].head()"
   ]
  },
  {
   "cell_type": "code",
   "execution_count": 21,
   "metadata": {},
   "outputs": [
    {
     "data": {
      "text/plain": [
       "array(['CentralParque', 'MeninoDeus', 'RioBranco', 'Sarandi', 'BelaVista',\n",
       "       'JardimLindóia', 'BoaVista', 'JardimEuropa', 'TrêsFigueiras',\n",
       "       'CentroHistórico', 'Auxiliadora', 'JardimCarvalho', 'Teresópolis',\n",
       "       'VilaNova', 'Higienópolis', 'Petrópolis', 'JardimdoSalso',\n",
       "       'Camaquã', 'JardimLindoia', 'Agronomia', 'VilaIpiranga',\n",
       "       'MontSerrat', 'ChácaradasPedras', 'Medianeira', 'CristoRedentor',\n",
       "       'Floresta', 'JardimItu', 'Cristal', 'Cavalhada', 'Tristeza',\n",
       "       'PassodaAreia', 'BelémNovo', 'Ipanema', 'JardimIsabel',\n",
       "       'SãoSebastião', 'ProtásioAlves', 'Farrapos', 'JardimSabará',\n",
       "       'Navegantes', 'SantaCecília', 'JardimBotânico', 'MoinhosdeVento',\n",
       "       'SantoAntônio', 'VilaJardim', 'Glória', 'SantaTereza',\n",
       "       'PassodAreia', 'ParqueSantaFé', 'PedraRedonda', 'Independência',\n",
       "       'Azenha', 'Hípica', 'PassodasPedras', 'MárioQuintana', 'BomJesus',\n",
       "       'SãoJoão', 'SãoGeraldo', 'Humaitá', 'Partenon', 'CidadeBaixa',\n",
       "       'MorroSantana', 'Nonoai', 'BomFim', 'AltoPetrópolis', 'Santana',\n",
       "       'PraiadeBelas', 'Serraria', 'AbertadosMorros', 'LombadoPinheiro',\n",
       "       'Hipica', 'JardimSãoPedro', 'JardimLeopoldina'], dtype=object)"
      ]
     },
     "execution_count": 21,
     "metadata": {},
     "output_type": "execute_result"
    }
   ],
   "source": [
    "df_clean['bairro'].unique()"
   ]
  },
  {
   "cell_type": "code",
   "execution_count": 22,
   "metadata": {},
   "outputs": [
    {
     "data": {
      "text/html": [
       "<div>\n",
       "<style scoped>\n",
       "    .dataframe tbody tr th:only-of-type {\n",
       "        vertical-align: middle;\n",
       "    }\n",
       "\n",
       "    .dataframe tbody tr th {\n",
       "        vertical-align: top;\n",
       "    }\n",
       "\n",
       "    .dataframe thead th {\n",
       "        text-align: right;\n",
       "    }\n",
       "</style>\n",
       "<table border=\"1\" class=\"dataframe\">\n",
       "  <thead>\n",
       "    <tr style=\"text-align: right;\">\n",
       "      <th></th>\n",
       "      <th>preco</th>\n",
       "      <th>dormitorios</th>\n",
       "      <th>area</th>\n",
       "      <th>vagas</th>\n",
       "      <th>bairro</th>\n",
       "      <th>tipo</th>\n",
       "    </tr>\n",
       "  </thead>\n",
       "  <tbody>\n",
       "    <tr>\n",
       "      <th>0</th>\n",
       "      <td>1055000.0</td>\n",
       "      <td>3.0</td>\n",
       "      <td>128.0</td>\n",
       "      <td>3.0</td>\n",
       "      <td>CentralParque</td>\n",
       "      <td>Apartamento</td>\n",
       "    </tr>\n",
       "    <tr>\n",
       "      <th>1</th>\n",
       "      <td>1112000.0</td>\n",
       "      <td>3.0</td>\n",
       "      <td>13634.0</td>\n",
       "      <td>2.0</td>\n",
       "      <td>MeninoDeus</td>\n",
       "      <td>Apartamento</td>\n",
       "    </tr>\n",
       "    <tr>\n",
       "      <th>2</th>\n",
       "      <td>1620000.0</td>\n",
       "      <td>3.0</td>\n",
       "      <td>20487.0</td>\n",
       "      <td>3.0</td>\n",
       "      <td>RioBranco</td>\n",
       "      <td>Apartamento</td>\n",
       "    </tr>\n",
       "    <tr>\n",
       "      <th>3</th>\n",
       "      <td>1190000.0</td>\n",
       "      <td>3.0</td>\n",
       "      <td>241.0</td>\n",
       "      <td>2.0</td>\n",
       "      <td>Sarandi</td>\n",
       "      <td>Casa</td>\n",
       "    </tr>\n",
       "    <tr>\n",
       "      <th>4</th>\n",
       "      <td>3053011.0</td>\n",
       "      <td>4.0</td>\n",
       "      <td>2713.0</td>\n",
       "      <td>4.0</td>\n",
       "      <td>BelaVista</td>\n",
       "      <td>Apartamento</td>\n",
       "    </tr>\n",
       "  </tbody>\n",
       "</table>\n",
       "</div>"
      ],
      "text/plain": [
       "       preco  dormitorios     area  vagas         bairro         tipo\n",
       "0  1055000.0          3.0    128.0    3.0  CentralParque  Apartamento\n",
       "1  1112000.0          3.0  13634.0    2.0     MeninoDeus  Apartamento\n",
       "2  1620000.0          3.0  20487.0    3.0      RioBranco  Apartamento\n",
       "3  1190000.0          3.0    241.0    2.0        Sarandi         Casa\n",
       "4  3053011.0          4.0   2713.0    4.0      BelaVista  Apartamento"
      ]
     },
     "execution_count": 22,
     "metadata": {},
     "output_type": "execute_result"
    }
   ],
   "source": [
    "df_clean.head()"
   ]
  },
  {
   "cell_type": "code",
   "execution_count": 23,
   "metadata": {},
   "outputs": [
    {
     "data": {
      "text/plain": [
       "preco           0\n",
       "dormitorios     8\n",
       "area            0\n",
       "vagas          21\n",
       "bairro          0\n",
       "tipo            0\n",
       "dtype: int64"
      ]
     },
     "execution_count": 23,
     "metadata": {},
     "output_type": "execute_result"
    }
   ],
   "source": [
    "df_clean.isnull().sum()"
   ]
  },
  {
   "cell_type": "code",
   "execution_count": 24,
   "metadata": {},
   "outputs": [
    {
     "name": "stderr",
     "output_type": "stream",
     "text": [
      "C:\\Users\\Schwab\\anaconda3\\lib\\site-packages\\pandas\\core\\indexing.py:671: SettingWithCopyWarning: \n",
      "A value is trying to be set on a copy of a slice from a DataFrame\n",
      "\n",
      "See the caveats in the documentation: https://pandas.pydata.org/pandas-docs/stable/user_guide/indexing.html#returning-a-view-versus-a-copy\n",
      "  self._setitem_with_indexer(indexer, value)\n"
     ]
    }
   ],
   "source": [
    "# FILLNA\n",
    "\n",
    "df_clean['vagas'].loc[df_clean['vagas'].isnull()] = 0"
   ]
  },
  {
   "cell_type": "code",
   "execution_count": 25,
   "metadata": {},
   "outputs": [],
   "source": [
    "df_clean['dormitorios'].loc[df_clean['dormitorios'].isnull()] = 0"
   ]
  },
  {
   "cell_type": "code",
   "execution_count": 26,
   "metadata": {},
   "outputs": [
    {
     "data": {
      "text/plain": [
       "preco          float64\n",
       "dormitorios    float64\n",
       "area           float64\n",
       "vagas          float64\n",
       "bairro          object\n",
       "tipo            object\n",
       "dtype: object"
      ]
     },
     "execution_count": 26,
     "metadata": {},
     "output_type": "execute_result"
    }
   ],
   "source": [
    "df_clean.dtypes"
   ]
  },
  {
   "cell_type": "code",
   "execution_count": 27,
   "metadata": {},
   "outputs": [
    {
     "data": {
      "text/plain": [
       "0"
      ]
     },
     "execution_count": 27,
     "metadata": {},
     "output_type": "execute_result"
    }
   ],
   "source": [
    "df_clean.isnull().sum().values.sum()"
   ]
  },
  {
   "cell_type": "code",
   "execution_count": 28,
   "metadata": {},
   "outputs": [
    {
     "data": {
      "text/html": [
       "<div>\n",
       "<style scoped>\n",
       "    .dataframe tbody tr th:only-of-type {\n",
       "        vertical-align: middle;\n",
       "    }\n",
       "\n",
       "    .dataframe tbody tr th {\n",
       "        vertical-align: top;\n",
       "    }\n",
       "\n",
       "    .dataframe thead th {\n",
       "        text-align: right;\n",
       "    }\n",
       "</style>\n",
       "<table border=\"1\" class=\"dataframe\">\n",
       "  <thead>\n",
       "    <tr style=\"text-align: right;\">\n",
       "      <th></th>\n",
       "      <th>preco</th>\n",
       "      <th>dormitorios</th>\n",
       "      <th>area</th>\n",
       "      <th>vagas</th>\n",
       "    </tr>\n",
       "  </thead>\n",
       "  <tbody>\n",
       "    <tr>\n",
       "      <th>count</th>\n",
       "      <td>6.000000e+02</td>\n",
       "      <td>600.000000</td>\n",
       "      <td>600.000000</td>\n",
       "      <td>600.000000</td>\n",
       "    </tr>\n",
       "    <tr>\n",
       "      <th>mean</th>\n",
       "      <td>8.636065e+05</td>\n",
       "      <td>2.550000</td>\n",
       "      <td>8829.695000</td>\n",
       "      <td>1.725000</td>\n",
       "    </tr>\n",
       "    <tr>\n",
       "      <th>std</th>\n",
       "      <td>9.296298e+05</td>\n",
       "      <td>0.815644</td>\n",
       "      <td>14787.265011</td>\n",
       "      <td>1.015428</td>\n",
       "    </tr>\n",
       "    <tr>\n",
       "      <th>min</th>\n",
       "      <td>1.178000e+05</td>\n",
       "      <td>0.000000</td>\n",
       "      <td>42.000000</td>\n",
       "      <td>0.000000</td>\n",
       "    </tr>\n",
       "    <tr>\n",
       "      <th>25%</th>\n",
       "      <td>3.800000e+05</td>\n",
       "      <td>2.000000</td>\n",
       "      <td>685.750000</td>\n",
       "      <td>1.000000</td>\n",
       "    </tr>\n",
       "    <tr>\n",
       "      <th>50%</th>\n",
       "      <td>5.870000e+05</td>\n",
       "      <td>3.000000</td>\n",
       "      <td>6530.000000</td>\n",
       "      <td>2.000000</td>\n",
       "    </tr>\n",
       "    <tr>\n",
       "      <th>75%</th>\n",
       "      <td>9.710585e+05</td>\n",
       "      <td>3.000000</td>\n",
       "      <td>10249.000000</td>\n",
       "      <td>2.000000</td>\n",
       "    </tr>\n",
       "    <tr>\n",
       "      <th>max</th>\n",
       "      <td>9.117117e+06</td>\n",
       "      <td>6.000000</td>\n",
       "      <td>229098.000000</td>\n",
       "      <td>8.000000</td>\n",
       "    </tr>\n",
       "  </tbody>\n",
       "</table>\n",
       "</div>"
      ],
      "text/plain": [
       "              preco  dormitorios           area       vagas\n",
       "count  6.000000e+02   600.000000     600.000000  600.000000\n",
       "mean   8.636065e+05     2.550000    8829.695000    1.725000\n",
       "std    9.296298e+05     0.815644   14787.265011    1.015428\n",
       "min    1.178000e+05     0.000000      42.000000    0.000000\n",
       "25%    3.800000e+05     2.000000     685.750000    1.000000\n",
       "50%    5.870000e+05     3.000000    6530.000000    2.000000\n",
       "75%    9.710585e+05     3.000000   10249.000000    2.000000\n",
       "max    9.117117e+06     6.000000  229098.000000    8.000000"
      ]
     },
     "execution_count": 28,
     "metadata": {},
     "output_type": "execute_result"
    }
   ],
   "source": [
    "df_clean.describe()"
   ]
  },
  {
   "cell_type": "code",
   "execution_count": 29,
   "metadata": {},
   "outputs": [
    {
     "data": {
      "text/plain": [
       "bairro\n",
       "MontSerrat          2.213700e+06\n",
       "BelaVista           2.204248e+06\n",
       "BelémNovo           2.134000e+06\n",
       "PedraRedonda        1.950000e+06\n",
       "JardimSãoPedro      1.900000e+06\n",
       "TrêsFigueiras       1.667200e+06\n",
       "Auxiliadora         1.588450e+06\n",
       "JardimEuropa        1.455259e+06\n",
       "CentralParque       1.244618e+06\n",
       "MoinhosdeVento      1.242944e+06\n",
       "ChácaradasPedras    1.221700e+06\n",
       "RioBranco           1.190297e+06\n",
       "Petrópolis          1.170219e+06\n",
       "Agronomia           9.677143e+05\n",
       "MeninoDeus          9.590551e+05\n",
       "Name: preco, dtype: float64"
      ]
     },
     "execution_count": 29,
     "metadata": {},
     "output_type": "execute_result"
    }
   ],
   "source": [
    "df_clean.groupby(by = 'bairro').preco.mean().sort_values(ascending = False)[:15]"
   ]
  },
  {
   "cell_type": "code",
   "execution_count": 30,
   "metadata": {},
   "outputs": [
    {
     "data": {
      "text/html": [
       "<div>\n",
       "<style scoped>\n",
       "    .dataframe tbody tr th:only-of-type {\n",
       "        vertical-align: middle;\n",
       "    }\n",
       "\n",
       "    .dataframe tbody tr th {\n",
       "        vertical-align: top;\n",
       "    }\n",
       "\n",
       "    .dataframe thead th {\n",
       "        text-align: right;\n",
       "    }\n",
       "</style>\n",
       "<table border=\"1\" class=\"dataframe\">\n",
       "  <thead>\n",
       "    <tr style=\"text-align: right;\">\n",
       "      <th></th>\n",
       "      <th>preco</th>\n",
       "      <th>dormitorios</th>\n",
       "      <th>area</th>\n",
       "      <th>vagas</th>\n",
       "      <th>bairro</th>\n",
       "      <th>tipo</th>\n",
       "    </tr>\n",
       "  </thead>\n",
       "  <tbody>\n",
       "    <tr>\n",
       "      <th>60</th>\n",
       "      <td>1997000.0</td>\n",
       "      <td>4.0</td>\n",
       "      <td>44111.0</td>\n",
       "      <td>6.0</td>\n",
       "      <td>BelémNovo</td>\n",
       "      <td>Casa</td>\n",
       "    </tr>\n",
       "    <tr>\n",
       "      <th>70</th>\n",
       "      <td>2600000.0</td>\n",
       "      <td>4.0</td>\n",
       "      <td>44925.0</td>\n",
       "      <td>6.0</td>\n",
       "      <td>BelémNovo</td>\n",
       "      <td>Casa</td>\n",
       "    </tr>\n",
       "    <tr>\n",
       "      <th>340</th>\n",
       "      <td>1805000.0</td>\n",
       "      <td>4.0</td>\n",
       "      <td>330.0</td>\n",
       "      <td>6.0</td>\n",
       "      <td>BelémNovo</td>\n",
       "      <td>Casa</td>\n",
       "    </tr>\n",
       "  </tbody>\n",
       "</table>\n",
       "</div>"
      ],
      "text/plain": [
       "         preco  dormitorios     area  vagas     bairro  tipo\n",
       "60   1997000.0          4.0  44111.0    6.0  BelémNovo  Casa\n",
       "70   2600000.0          4.0  44925.0    6.0  BelémNovo  Casa\n",
       "340  1805000.0          4.0    330.0    6.0  BelémNovo  Casa"
      ]
     },
     "execution_count": 30,
     "metadata": {},
     "output_type": "execute_result"
    }
   ],
   "source": [
    "df_clean.loc[df_clean['bairro'] == 'BelémNovo']"
   ]
  }
 ],
 "metadata": {
  "kernelspec": {
   "display_name": "Python 3",
   "language": "python",
   "name": "python3"
  },
  "language_info": {
   "codemirror_mode": {
    "name": "ipython",
    "version": 3
   },
   "file_extension": ".py",
   "mimetype": "text/x-python",
   "name": "python",
   "nbconvert_exporter": "python",
   "pygments_lexer": "ipython3",
   "version": "3.7.6"
  }
 },
 "nbformat": 4,
 "nbformat_minor": 4
}
