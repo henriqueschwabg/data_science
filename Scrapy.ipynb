{
 "cells": [
  {
   "cell_type": "markdown",
   "metadata": {},
   "source": [
    "## Limpando e manipulando dados após Web Scraping"
   ]
  },
  {
   "cell_type": "code",
   "execution_count": 1,
   "metadata": {},
   "outputs": [],
   "source": [
    "import pandas as pd"
   ]
  },
  {
   "cell_type": "code",
   "execution_count": 2,
   "metadata": {},
   "outputs": [],
   "source": [
    "import re"
   ]
  },
  {
   "cell_type": "code",
   "execution_count": 3,
   "metadata": {},
   "outputs": [
    {
     "data": {
      "text/html": [
       "<div>\n",
       "<style scoped>\n",
       "    .dataframe tbody tr th:only-of-type {\n",
       "        vertical-align: middle;\n",
       "    }\n",
       "\n",
       "    .dataframe tbody tr th {\n",
       "        vertical-align: top;\n",
       "    }\n",
       "\n",
       "    .dataframe thead th {\n",
       "        text-align: right;\n",
       "    }\n",
       "</style>\n",
       "<table border=\"1\" class=\"dataframe\">\n",
       "  <thead>\n",
       "    <tr style=\"text-align: right;\">\n",
       "      <th></th>\n",
       "      <th>preco</th>\n",
       "      <th>dormitorios</th>\n",
       "      <th>area</th>\n",
       "      <th>vagas</th>\n",
       "      <th>bairro</th>\n",
       "    </tr>\n",
       "  </thead>\n",
       "  <tbody>\n",
       "    <tr>\n",
       "      <th>0</th>\n",
       "      <td>[R$ 1.055.000]</td>\n",
       "      <td>[3]</td>\n",
       "      <td>[128]</td>\n",
       "      <td>[3]</td>\n",
       "      <td>[Imóvel 106391 - , Apartamento, \\n            ...</td>\n",
       "    </tr>\n",
       "    <tr>\n",
       "      <th>1</th>\n",
       "      <td>[R$ 1.112.000]</td>\n",
       "      <td>[3]</td>\n",
       "      <td>[136.34]</td>\n",
       "      <td>[2]</td>\n",
       "      <td>[Imóvel 130624 - , Apartamento, \\n            ...</td>\n",
       "    </tr>\n",
       "    <tr>\n",
       "      <th>2</th>\n",
       "      <td>[R$ 1.620.000]</td>\n",
       "      <td>[3]</td>\n",
       "      <td>[204.87]</td>\n",
       "      <td>[3]</td>\n",
       "      <td>[Imóvel 192740 - , Apartamento, \\n            ...</td>\n",
       "    </tr>\n",
       "    <tr>\n",
       "      <th>3</th>\n",
       "      <td>[R$ 1.190.000]</td>\n",
       "      <td>[3]</td>\n",
       "      <td>[241]</td>\n",
       "      <td>[2]</td>\n",
       "      <td>[Imóvel 196741 - , Casa, \\n                   ...</td>\n",
       "    </tr>\n",
       "    <tr>\n",
       "      <th>4</th>\n",
       "      <td>[R$ 3.053.011]</td>\n",
       "      <td>[4]</td>\n",
       "      <td>[271.3]</td>\n",
       "      <td>[4]</td>\n",
       "      <td>[Imóvel 183630 - , Apartamento, \\n            ...</td>\n",
       "    </tr>\n",
       "  </tbody>\n",
       "</table>\n",
       "</div>"
      ],
      "text/plain": [
       "            preco dormitorios      area vagas  \\\n",
       "0  [R$ 1.055.000]         [3]     [128]   [3]   \n",
       "1  [R$ 1.112.000]         [3]  [136.34]   [2]   \n",
       "2  [R$ 1.620.000]         [3]  [204.87]   [3]   \n",
       "3  [R$ 1.190.000]         [3]     [241]   [2]   \n",
       "4  [R$ 3.053.011]         [4]   [271.3]   [4]   \n",
       "\n",
       "                                              bairro  \n",
       "0  [Imóvel 106391 - , Apartamento, \\n            ...  \n",
       "1  [Imóvel 130624 - , Apartamento, \\n            ...  \n",
       "2  [Imóvel 192740 - , Apartamento, \\n            ...  \n",
       "3  [Imóvel 196741 - , Casa, \\n                   ...  \n",
       "4  [Imóvel 183630 - , Apartamento, \\n            ...  "
      ]
     },
     "execution_count": 3,
     "metadata": {},
     "output_type": "execute_result"
    }
   ],
   "source": [
    "file = \"datasets/imoveis.json\"\n",
    "\n",
    "df = pd.read_json(file, orient = 'records')\n",
    "\n",
    "df.head()"
   ]
  },
  {
   "cell_type": "code",
   "execution_count": 4,
   "metadata": {},
   "outputs": [
    {
     "name": "stdout",
     "output_type": "stream",
     "text": [
      "Dimensões do Dataframe:\n",
      "\n",
      "Linhas: 600\n",
      "Colunas: 5\n"
     ]
    }
   ],
   "source": [
    "print('Dimensões do Dataframe:\\n')\n",
    "print(f'Linhas: {df.shape[0]}')\n",
    "print(f'Colunas: {df.shape[1]}')"
   ]
  },
  {
   "cell_type": "code",
   "execution_count": 5,
   "metadata": {},
   "outputs": [
    {
     "data": {
      "text/plain": [
       "preco          object\n",
       "dormitorios    object\n",
       "area           object\n",
       "vagas          object\n",
       "bairro         object\n",
       "dtype: object"
      ]
     },
     "execution_count": 5,
     "metadata": {},
     "output_type": "execute_result"
    }
   ],
   "source": [
    "df.dtypes"
   ]
  },
  {
   "cell_type": "code",
   "execution_count": 6,
   "metadata": {},
   "outputs": [
    {
     "data": {
      "text/plain": [
       "0      [R$ 1.055.000]\n",
       "1      [R$ 1.112.000]\n",
       "2      [R$ 1.620.000]\n",
       "3      [R$ 1.190.000]\n",
       "4      [R$ 3.053.011]\n",
       "            ...      \n",
       "595      [R$ 860.000]\n",
       "596      [R$ 325.000]\n",
       "597    [R$ 1.800.000]\n",
       "598    [R$ 1.750.000]\n",
       "599    [R$ 1.380.000]\n",
       "Name: preco, Length: 600, dtype: object"
      ]
     },
     "execution_count": 6,
     "metadata": {},
     "output_type": "execute_result"
    }
   ],
   "source": [
    "df['preco']"
   ]
  },
  {
   "cell_type": "code",
   "execution_count": 7,
   "metadata": {},
   "outputs": [
    {
     "data": {
      "text/plain": [
       "103      [R$ 980.000]\n",
       "326    [R$ 1.280.000]\n",
       "246    [R$ 1.350.000]\n",
       "436      [R$ 899.739]\n",
       "462      [R$ 850.000]\n",
       "435      [R$ 704.499]\n",
       "558      [R$ 213.000]\n",
       "398      [R$ 691.000]\n",
       "12       [R$ 269.000]\n",
       "582      [R$ 450.000]\n",
       "393      [R$ 710.000]\n",
       "176      [R$ 350.000]\n",
       "534    [R$ 1.700.000]\n",
       "169      [R$ 365.000]\n",
       "521      [R$ 490.000]\n",
       "38     [R$ 1.609.000]\n",
       "504      [R$ 636.000]\n",
       "201      [R$ 157.500]\n",
       "220    [R$ 1.930.000]\n",
       "117      [R$ 295.000]\n",
       "Name: preco, dtype: object"
      ]
     },
     "execution_count": 7,
     "metadata": {},
     "output_type": "execute_result"
    }
   ],
   "source": [
    "df['preco'].sample(20)"
   ]
  },
  {
   "cell_type": "code",
   "execution_count": 8,
   "metadata": {},
   "outputs": [],
   "source": [
    "df['preco'] = df['preco'].apply(lambda x : re.sub('\\D', '', str(x))).astype(float)"
   ]
  },
  {
   "cell_type": "code",
   "execution_count": 9,
   "metadata": {},
   "outputs": [
    {
     "data": {
      "text/plain": [
       "0      1055000.0\n",
       "1      1112000.0\n",
       "2      1620000.0\n",
       "3      1190000.0\n",
       "4      3053011.0\n",
       "         ...    \n",
       "595     860000.0\n",
       "596     325000.0\n",
       "597    1800000.0\n",
       "598    1750000.0\n",
       "599    1380000.0\n",
       "Name: preco, Length: 600, dtype: float64"
      ]
     },
     "execution_count": 9,
     "metadata": {},
     "output_type": "execute_result"
    }
   ],
   "source": [
    "df['preco']"
   ]
  },
  {
   "cell_type": "code",
   "execution_count": 10,
   "metadata": {},
   "outputs": [
    {
     "data": {
      "text/plain": [
       "85     1300000.0\n",
       "425     899739.0\n",
       "598    1750000.0\n",
       "301     495000.0\n",
       "564     424000.0\n",
       "175     926000.0\n",
       "514     860000.0\n",
       "117     295000.0\n",
       "258     229000.0\n",
       "577     650000.0\n",
       "Name: preco, dtype: float64"
      ]
     },
     "execution_count": 10,
     "metadata": {},
     "output_type": "execute_result"
    }
   ],
   "source": [
    "df['preco'].sample(10)"
   ]
  },
  {
   "cell_type": "code",
   "execution_count": 11,
   "metadata": {},
   "outputs": [
    {
     "data": {
      "text/plain": [
       "preco          float64\n",
       "dormitorios     object\n",
       "area            object\n",
       "vagas           object\n",
       "bairro          object\n",
       "dtype: object"
      ]
     },
     "execution_count": 11,
     "metadata": {},
     "output_type": "execute_result"
    }
   ],
   "source": [
    "df.dtypes"
   ]
  },
  {
   "cell_type": "code",
   "execution_count": 12,
   "metadata": {},
   "outputs": [
    {
     "data": {
      "text/plain": [
       "preco           0\n",
       "dormitorios     8\n",
       "area            0\n",
       "vagas          21\n",
       "bairro          0\n",
       "dtype: int64"
      ]
     },
     "execution_count": 12,
     "metadata": {},
     "output_type": "execute_result"
    }
   ],
   "source": [
    "df.isnull().sum()"
   ]
  },
  {
   "cell_type": "code",
   "execution_count": 13,
   "metadata": {},
   "outputs": [],
   "source": [
    "df['dormitorios'].fillna(\"0\", inplace = True)"
   ]
  },
  {
   "cell_type": "code",
   "execution_count": 14,
   "metadata": {},
   "outputs": [],
   "source": [
    "df['dormitorios'] = df['dormitorios'].apply(lambda x : re.sub('\\D', '', str(x))).astype(int)"
   ]
  },
  {
   "cell_type": "code",
   "execution_count": 15,
   "metadata": {},
   "outputs": [
    {
     "data": {
      "text/plain": [
       "3    319\n",
       "2    184\n",
       "1     52\n",
       "4     34\n",
       "0      8\n",
       "6      2\n",
       "5      1\n",
       "Name: dormitorios, dtype: int64"
      ]
     },
     "execution_count": 15,
     "metadata": {},
     "output_type": "execute_result"
    }
   ],
   "source": [
    "df['dormitorios'].value_counts()"
   ]
  },
  {
   "cell_type": "code",
   "execution_count": 16,
   "metadata": {},
   "outputs": [],
   "source": [
    "df['area'] = df['area'].apply(lambda x : re.sub('\\D', '', str(x))).astype(float)"
   ]
  },
  {
   "cell_type": "code",
   "execution_count": 17,
   "metadata": {},
   "outputs": [
    {
     "data": {
      "text/plain": [
       "538     7148.0\n",
       "20       149.0\n",
       "134     3559.0\n",
       "205    15099.0\n",
       "380     6162.0\n",
       "57      5145.0\n",
       "196     8988.0\n",
       "507      190.0\n",
       "227     5581.0\n",
       "102     7393.0\n",
       "459     6869.0\n",
       "368    99616.0\n",
       "328     5761.0\n",
       "147       86.0\n",
       "521     8021.0\n",
       "215      855.0\n",
       "130     5788.0\n",
       "539       84.0\n",
       "370      693.0\n",
       "400     6771.0\n",
       "Name: area, dtype: float64"
      ]
     },
     "execution_count": 17,
     "metadata": {},
     "output_type": "execute_result"
    }
   ],
   "source": [
    "df['area'].sample(20)"
   ]
  },
  {
   "cell_type": "code",
   "execution_count": 18,
   "metadata": {},
   "outputs": [],
   "source": [
    "df['vagas'].fillna(\"0\", inplace = True)"
   ]
  },
  {
   "cell_type": "code",
   "execution_count": 19,
   "metadata": {},
   "outputs": [],
   "source": [
    "df['vagas'] = df['vagas'].apply(lambda x : re.sub('\\D', '', str(x))).astype(int)"
   ]
  },
  {
   "cell_type": "code",
   "execution_count": 20,
   "metadata": {},
   "outputs": [
    {
     "data": {
      "text/plain": [
       "1    264\n",
       "2    231\n",
       "3     45\n",
       "4     30\n",
       "0     21\n",
       "6      6\n",
       "5      2\n",
       "8      1\n",
       "Name: vagas, dtype: int64"
      ]
     },
     "execution_count": 20,
     "metadata": {},
     "output_type": "execute_result"
    }
   ],
   "source": [
    "df['vagas'].value_counts()"
   ]
  },
  {
   "cell_type": "code",
   "execution_count": 21,
   "metadata": {},
   "outputs": [
    {
     "data": {
      "text/plain": [
       "301    [Imóvel 11974 - , Apartamento, \\n             ...\n",
       "318    [Imóvel 157602 - , Apartamento, \\n            ...\n",
       "493    [Imóvel 120157 - , Apartamento, \\n            ...\n",
       "459    [Imóvel 198059 - , Apartamento, \\n            ...\n",
       "86     [Imóvel 193727 - , Apartamento, \\n            ...\n",
       "102    [Imóvel 9868 - , Apartamento, \\n              ...\n",
       "514    [Imóvel 166972 - , Apartamento, \\n            ...\n",
       "404    [Imóvel 174212 - , Apartamento, \\n            ...\n",
       "331    [Imóvel 168934 - , Casa, \\n                   ...\n",
       "245    [Imóvel 194250 - , Apartamento, \\n            ...\n",
       "Name: bairro, dtype: object"
      ]
     },
     "execution_count": 21,
     "metadata": {},
     "output_type": "execute_result"
    }
   ],
   "source": [
    "df['bairro'].sample(10)"
   ]
  },
  {
   "cell_type": "code",
   "execution_count": 22,
   "metadata": {},
   "outputs": [],
   "source": [
    "df['bairro'] = df['bairro'].apply(lambda x : re.sub('\\d', '', str(x))).astype(str)"
   ]
  },
  {
   "cell_type": "code",
   "execution_count": 23,
   "metadata": {},
   "outputs": [
    {
     "data": {
      "text/plain": [
       "347    ['Imóvel  - ', 'Apartamento', '\\n             ...\n",
       "11     ['Imóvel  - ', 'Apartamento', '\\n             ...\n",
       "122    ['Imóvel  - ', 'Apartamento', '\\n             ...\n",
       "19     ['Imóvel  - ', 'Apartamento', '\\n             ...\n",
       "369    ['Imóvel  - ', 'Apartamento', '\\n             ...\n",
       "242    ['Imóvel  - ', 'Cobertura', '\\n               ...\n",
       "456    ['Imóvel  - ', 'Apartamento', '\\n             ...\n",
       "583    ['Imóvel  - ', 'Apartamento', '\\n             ...\n",
       "39     ['Imóvel  - ', 'Apartamento', '\\n             ...\n",
       "471    ['Imóvel  - ', 'Apartamento', '\\n             ...\n",
       "Name: bairro, dtype: object"
      ]
     },
     "execution_count": 23,
     "metadata": {},
     "output_type": "execute_result"
    }
   ],
   "source": [
    "df['bairro'].sample(10)"
   ]
  },
  {
   "cell_type": "code",
   "execution_count": 24,
   "metadata": {},
   "outputs": [],
   "source": [
    "df['bairro'] = df['bairro'].apply(lambda x : re.sub('Imóvel  -', '', x))"
   ]
  },
  {
   "cell_type": "code",
   "execution_count": 25,
   "metadata": {},
   "outputs": [],
   "source": [
    "df['bairro'] = df['bairro'].apply(lambda x : re.sub(r'\\\\n', '', x))"
   ]
  },
  {
   "cell_type": "code",
   "execution_count": 26,
   "metadata": {},
   "outputs": [
    {
     "data": {
      "text/plain": [
       "302    [' ', 'Apartamento', '                        ...\n",
       "368    [' ', 'Apartamento', '                        ...\n",
       "486    [' ', 'Apartamento', '                        ...\n",
       "50     [' ', 'Apartamento', '                        ...\n",
       "254    [' ', 'Sala', '                        Auxilia...\n",
       "395    [' ', 'Apartamento', '                        ...\n",
       "374    [' ', 'Apartamento', '                        ...\n",
       "42     [' ', 'Apartamento', '                        ...\n",
       "47     [' ', 'Apartamento', '                        ...\n",
       "461    [' ', 'Casa', '                        Agronom...\n",
       "Name: bairro, dtype: object"
      ]
     },
     "execution_count": 26,
     "metadata": {},
     "output_type": "execute_result"
    }
   ],
   "source": [
    "df['bairro'].sample(10)"
   ]
  },
  {
   "cell_type": "code",
   "execution_count": 27,
   "metadata": {},
   "outputs": [],
   "source": [
    "df['tipo'] = df['bairro'].apply(lambda x : re.split(',', x)[1])"
   ]
  },
  {
   "cell_type": "code",
   "execution_count": 28,
   "metadata": {},
   "outputs": [
    {
     "data": {
      "text/plain": [
       "82      'Apartamento'\n",
       "203     'Apartamento'\n",
       "217            'Casa'\n",
       "138     'Apartamento'\n",
       "68      'Apartamento'\n",
       "52             'Casa'\n",
       "511     'Apartamento'\n",
       "200            'Casa'\n",
       "67             'Casa'\n",
       "444       'Cobertura'\n",
       "Name: tipo, dtype: object"
      ]
     },
     "execution_count": 28,
     "metadata": {},
     "output_type": "execute_result"
    }
   ],
   "source": [
    "df['tipo'].sample(10)"
   ]
  },
  {
   "cell_type": "code",
   "execution_count": 29,
   "metadata": {},
   "outputs": [],
   "source": [
    "df['bairro'] = df['bairro'].apply(lambda x : re.split(',', x)[2])"
   ]
  },
  {
   "cell_type": "code",
   "execution_count": 30,
   "metadata": {},
   "outputs": [
    {
     "data": {
      "text/plain": [
       "0       '                        Central Parque\n",
       "1          '                        Menino Deus\n",
       "2           '                        Rio Branco\n",
       "3              '                        Sarandi\n",
       "4           '                        Bela Vista\n",
       "                         ...                   \n",
       "595        '                        Auxiliadora\n",
       "596           '                        Tristeza\n",
       "597         '                        Bela Vista\n",
       "598      '                        Jardim Europa\n",
       "599     '                        Três Figueiras\n",
       "Name: bairro, Length: 600, dtype: object"
      ]
     },
     "execution_count": 30,
     "metadata": {},
     "output_type": "execute_result"
    }
   ],
   "source": [
    "df['bairro']"
   ]
  },
  {
   "cell_type": "code",
   "execution_count": 31,
   "metadata": {},
   "outputs": [],
   "source": [
    "df['bairro'] = df['bairro'].apply(lambda x : re.sub('\\s', '', x))"
   ]
  },
  {
   "cell_type": "code",
   "execution_count": 32,
   "metadata": {},
   "outputs": [
    {
     "data": {
      "text/plain": [
       "0      'CentralParque\n",
       "1         'MeninoDeus\n",
       "2          'RioBranco\n",
       "3            'Sarandi\n",
       "4          'BelaVista\n",
       "            ...      \n",
       "595      'Auxiliadora\n",
       "596         'Tristeza\n",
       "597        'BelaVista\n",
       "598     'JardimEuropa\n",
       "599    'TrêsFigueiras\n",
       "Name: bairro, Length: 600, dtype: object"
      ]
     },
     "execution_count": 32,
     "metadata": {},
     "output_type": "execute_result"
    }
   ],
   "source": [
    "df['bairro']"
   ]
  },
  {
   "cell_type": "code",
   "execution_count": 33,
   "metadata": {},
   "outputs": [],
   "source": [
    "df['tipo'] = df['tipo'].apply(lambda x : re.sub(\"'\", \"\", x))\n",
    "df['bairro'] = df['bairro'].apply(lambda x : re.sub(\"'\", '', x))"
   ]
  },
  {
   "cell_type": "code",
   "execution_count": 42,
   "metadata": {},
   "outputs": [
    {
     "data": {
      "text/plain": [
       "0     Apartamento\n",
       "1     Apartamento\n",
       "2     Apartamento\n",
       "3            Casa\n",
       "4     Apartamento\n",
       "Name: tipo, dtype: object"
      ]
     },
     "execution_count": 42,
     "metadata": {},
     "output_type": "execute_result"
    }
   ],
   "source": [
    "df['tipo'].head()"
   ]
  },
  {
   "cell_type": "code",
   "execution_count": 41,
   "metadata": {},
   "outputs": [
    {
     "data": {
      "text/plain": [
       "0    CentralParque\n",
       "1       MeninoDeus\n",
       "2        RioBranco\n",
       "3          Sarandi\n",
       "4        BelaVista\n",
       "Name: bairro, dtype: object"
      ]
     },
     "execution_count": 41,
     "metadata": {},
     "output_type": "execute_result"
    }
   ],
   "source": [
    "df['bairro'].head()"
   ]
  },
  {
   "cell_type": "code",
   "execution_count": 34,
   "metadata": {},
   "outputs": [
    {
     "data": {
      "text/plain": [
       "preco          366\n",
       "dormitorios      7\n",
       "area           490\n",
       "vagas            8\n",
       "bairro          72\n",
       "tipo             8\n",
       "dtype: int64"
      ]
     },
     "execution_count": 34,
     "metadata": {},
     "output_type": "execute_result"
    }
   ],
   "source": [
    "df.nunique()"
   ]
  },
  {
   "cell_type": "code",
   "execution_count": 35,
   "metadata": {},
   "outputs": [
    {
     "data": {
      "text/plain": [
       " Apartamento    481\n",
       " Casa            73\n",
       " Cobertura       27\n",
       " Loft            10\n",
       " Sala             6\n",
       " Terreno          1\n",
       " Loja             1\n",
       " Flat             1\n",
       "Name: tipo, dtype: int64"
      ]
     },
     "execution_count": 35,
     "metadata": {},
     "output_type": "execute_result"
    }
   ],
   "source": [
    "df['tipo'].value_counts()"
   ]
  },
  {
   "cell_type": "code",
   "execution_count": 36,
   "metadata": {},
   "outputs": [
    {
     "data": {
      "text/html": [
       "<div>\n",
       "<style scoped>\n",
       "    .dataframe tbody tr th:only-of-type {\n",
       "        vertical-align: middle;\n",
       "    }\n",
       "\n",
       "    .dataframe tbody tr th {\n",
       "        vertical-align: top;\n",
       "    }\n",
       "\n",
       "    .dataframe thead th {\n",
       "        text-align: right;\n",
       "    }\n",
       "</style>\n",
       "<table border=\"1\" class=\"dataframe\">\n",
       "  <thead>\n",
       "    <tr style=\"text-align: right;\">\n",
       "      <th></th>\n",
       "      <th>preco</th>\n",
       "      <th>dormitorios</th>\n",
       "      <th>area</th>\n",
       "      <th>vagas</th>\n",
       "    </tr>\n",
       "  </thead>\n",
       "  <tbody>\n",
       "    <tr>\n",
       "      <th>count</th>\n",
       "      <td>6.000000e+02</td>\n",
       "      <td>600.000000</td>\n",
       "      <td>600.000000</td>\n",
       "      <td>600.000000</td>\n",
       "    </tr>\n",
       "    <tr>\n",
       "      <th>mean</th>\n",
       "      <td>8.636065e+05</td>\n",
       "      <td>2.550000</td>\n",
       "      <td>8829.695000</td>\n",
       "      <td>1.725000</td>\n",
       "    </tr>\n",
       "    <tr>\n",
       "      <th>std</th>\n",
       "      <td>9.296298e+05</td>\n",
       "      <td>0.815644</td>\n",
       "      <td>14787.265011</td>\n",
       "      <td>1.015428</td>\n",
       "    </tr>\n",
       "    <tr>\n",
       "      <th>min</th>\n",
       "      <td>1.178000e+05</td>\n",
       "      <td>0.000000</td>\n",
       "      <td>42.000000</td>\n",
       "      <td>0.000000</td>\n",
       "    </tr>\n",
       "    <tr>\n",
       "      <th>25%</th>\n",
       "      <td>3.800000e+05</td>\n",
       "      <td>2.000000</td>\n",
       "      <td>685.750000</td>\n",
       "      <td>1.000000</td>\n",
       "    </tr>\n",
       "    <tr>\n",
       "      <th>50%</th>\n",
       "      <td>5.870000e+05</td>\n",
       "      <td>3.000000</td>\n",
       "      <td>6530.000000</td>\n",
       "      <td>2.000000</td>\n",
       "    </tr>\n",
       "    <tr>\n",
       "      <th>75%</th>\n",
       "      <td>9.710585e+05</td>\n",
       "      <td>3.000000</td>\n",
       "      <td>10249.000000</td>\n",
       "      <td>2.000000</td>\n",
       "    </tr>\n",
       "    <tr>\n",
       "      <th>max</th>\n",
       "      <td>9.117117e+06</td>\n",
       "      <td>6.000000</td>\n",
       "      <td>229098.000000</td>\n",
       "      <td>8.000000</td>\n",
       "    </tr>\n",
       "  </tbody>\n",
       "</table>\n",
       "</div>"
      ],
      "text/plain": [
       "              preco  dormitorios           area       vagas\n",
       "count  6.000000e+02   600.000000     600.000000  600.000000\n",
       "mean   8.636065e+05     2.550000    8829.695000    1.725000\n",
       "std    9.296298e+05     0.815644   14787.265011    1.015428\n",
       "min    1.178000e+05     0.000000      42.000000    0.000000\n",
       "25%    3.800000e+05     2.000000     685.750000    1.000000\n",
       "50%    5.870000e+05     3.000000    6530.000000    2.000000\n",
       "75%    9.710585e+05     3.000000   10249.000000    2.000000\n",
       "max    9.117117e+06     6.000000  229098.000000    8.000000"
      ]
     },
     "execution_count": 36,
     "metadata": {},
     "output_type": "execute_result"
    }
   ],
   "source": [
    "df.describe()"
   ]
  },
  {
   "cell_type": "code",
   "execution_count": 37,
   "metadata": {},
   "outputs": [
    {
     "data": {
      "text/plain": [
       "bairro\n",
       "MontSerrat          2.213700e+06\n",
       "BelaVista           2.204248e+06\n",
       "BelémNovo           2.134000e+06\n",
       "PedraRedonda        1.950000e+06\n",
       "JardimSãoPedro      1.900000e+06\n",
       "TrêsFigueiras       1.667200e+06\n",
       "Auxiliadora         1.588450e+06\n",
       "JardimEuropa        1.455259e+06\n",
       "CentralParque       1.244618e+06\n",
       "MoinhosdeVento      1.242944e+06\n",
       "ChácaradasPedras    1.221700e+06\n",
       "RioBranco           1.190297e+06\n",
       "Petrópolis          1.170219e+06\n",
       "Agronomia           9.677143e+05\n",
       "MeninoDeus          9.590551e+05\n",
       "Name: preco, dtype: float64"
      ]
     },
     "execution_count": 37,
     "metadata": {},
     "output_type": "execute_result"
    }
   ],
   "source": [
    "df.groupby(by = 'bairro').preco.mean().sort_values(ascending = False)[:15]"
   ]
  },
  {
   "cell_type": "code",
   "execution_count": 38,
   "metadata": {},
   "outputs": [
    {
     "data": {
      "text/html": [
       "<div>\n",
       "<style scoped>\n",
       "    .dataframe tbody tr th:only-of-type {\n",
       "        vertical-align: middle;\n",
       "    }\n",
       "\n",
       "    .dataframe tbody tr th {\n",
       "        vertical-align: top;\n",
       "    }\n",
       "\n",
       "    .dataframe thead th {\n",
       "        text-align: right;\n",
       "    }\n",
       "</style>\n",
       "<table border=\"1\" class=\"dataframe\">\n",
       "  <thead>\n",
       "    <tr style=\"text-align: right;\">\n",
       "      <th></th>\n",
       "      <th>preco</th>\n",
       "      <th>dormitorios</th>\n",
       "      <th>area</th>\n",
       "      <th>vagas</th>\n",
       "      <th>bairro</th>\n",
       "      <th>tipo</th>\n",
       "    </tr>\n",
       "  </thead>\n",
       "  <tbody>\n",
       "    <tr>\n",
       "      <th>4</th>\n",
       "      <td>3053011.0</td>\n",
       "      <td>4</td>\n",
       "      <td>2713.0</td>\n",
       "      <td>4</td>\n",
       "      <td>BelaVista</td>\n",
       "      <td>Apartamento</td>\n",
       "    </tr>\n",
       "    <tr>\n",
       "      <th>36</th>\n",
       "      <td>1349000.0</td>\n",
       "      <td>3</td>\n",
       "      <td>140.0</td>\n",
       "      <td>2</td>\n",
       "      <td>BelaVista</td>\n",
       "      <td>Apartamento</td>\n",
       "    </tr>\n",
       "    <tr>\n",
       "      <th>88</th>\n",
       "      <td>1699000.0</td>\n",
       "      <td>3</td>\n",
       "      <td>14015.0</td>\n",
       "      <td>2</td>\n",
       "      <td>BelaVista</td>\n",
       "      <td>Apartamento</td>\n",
       "    </tr>\n",
       "    <tr>\n",
       "      <th>114</th>\n",
       "      <td>1990000.0</td>\n",
       "      <td>3</td>\n",
       "      <td>18121.0</td>\n",
       "      <td>4</td>\n",
       "      <td>BelaVista</td>\n",
       "      <td>Apartamento</td>\n",
       "    </tr>\n",
       "    <tr>\n",
       "      <th>120</th>\n",
       "      <td>779000.0</td>\n",
       "      <td>2</td>\n",
       "      <td>8337.0</td>\n",
       "      <td>2</td>\n",
       "      <td>BelaVista</td>\n",
       "      <td>Apartamento</td>\n",
       "    </tr>\n",
       "    <tr>\n",
       "      <th>135</th>\n",
       "      <td>1400000.0</td>\n",
       "      <td>2</td>\n",
       "      <td>9904.0</td>\n",
       "      <td>2</td>\n",
       "      <td>BelaVista</td>\n",
       "      <td>Apartamento</td>\n",
       "    </tr>\n",
       "    <tr>\n",
       "      <th>159</th>\n",
       "      <td>540000.0</td>\n",
       "      <td>1</td>\n",
       "      <td>649.0</td>\n",
       "      <td>2</td>\n",
       "      <td>BelaVista</td>\n",
       "      <td>Apartamento</td>\n",
       "    </tr>\n",
       "    <tr>\n",
       "      <th>166</th>\n",
       "      <td>3420000.0</td>\n",
       "      <td>4</td>\n",
       "      <td>22602.0</td>\n",
       "      <td>4</td>\n",
       "      <td>BelaVista</td>\n",
       "      <td>Apartamento</td>\n",
       "    </tr>\n",
       "    <tr>\n",
       "      <th>188</th>\n",
       "      <td>3896550.0</td>\n",
       "      <td>3</td>\n",
       "      <td>51954.0</td>\n",
       "      <td>4</td>\n",
       "      <td>BelaVista</td>\n",
       "      <td>Apartamento</td>\n",
       "    </tr>\n",
       "    <tr>\n",
       "      <th>191</th>\n",
       "      <td>1699000.0</td>\n",
       "      <td>3</td>\n",
       "      <td>25062.0</td>\n",
       "      <td>2</td>\n",
       "      <td>BelaVista</td>\n",
       "      <td>Apartamento</td>\n",
       "    </tr>\n",
       "    <tr>\n",
       "      <th>195</th>\n",
       "      <td>2071000.0</td>\n",
       "      <td>3</td>\n",
       "      <td>16345.0</td>\n",
       "      <td>2</td>\n",
       "      <td>BelaVista</td>\n",
       "      <td>Apartamento</td>\n",
       "    </tr>\n",
       "    <tr>\n",
       "      <th>229</th>\n",
       "      <td>2090000.0</td>\n",
       "      <td>4</td>\n",
       "      <td>35071.0</td>\n",
       "      <td>3</td>\n",
       "      <td>BelaVista</td>\n",
       "      <td>Cobertura</td>\n",
       "    </tr>\n",
       "    <tr>\n",
       "      <th>268</th>\n",
       "      <td>3240374.0</td>\n",
       "      <td>4</td>\n",
       "      <td>2576.0</td>\n",
       "      <td>4</td>\n",
       "      <td>BelaVista</td>\n",
       "      <td>Apartamento</td>\n",
       "    </tr>\n",
       "    <tr>\n",
       "      <th>275</th>\n",
       "      <td>3303911.0</td>\n",
       "      <td>4</td>\n",
       "      <td>2576.0</td>\n",
       "      <td>4</td>\n",
       "      <td>BelaVista</td>\n",
       "      <td>Apartamento</td>\n",
       "    </tr>\n",
       "    <tr>\n",
       "      <th>295</th>\n",
       "      <td>1390000.0</td>\n",
       "      <td>3</td>\n",
       "      <td>13879.0</td>\n",
       "      <td>2</td>\n",
       "      <td>BelaVista</td>\n",
       "      <td>Apartamento</td>\n",
       "    </tr>\n",
       "    <tr>\n",
       "      <th>302</th>\n",
       "      <td>2700000.0</td>\n",
       "      <td>3</td>\n",
       "      <td>2578.0</td>\n",
       "      <td>4</td>\n",
       "      <td>BelaVista</td>\n",
       "      <td>Apartamento</td>\n",
       "    </tr>\n",
       "    <tr>\n",
       "      <th>307</th>\n",
       "      <td>950000.0</td>\n",
       "      <td>3</td>\n",
       "      <td>10561.0</td>\n",
       "      <td>2</td>\n",
       "      <td>BelaVista</td>\n",
       "      <td>Apartamento</td>\n",
       "    </tr>\n",
       "    <tr>\n",
       "      <th>357</th>\n",
       "      <td>990000.0</td>\n",
       "      <td>3</td>\n",
       "      <td>10561.0</td>\n",
       "      <td>3</td>\n",
       "      <td>BelaVista</td>\n",
       "      <td>Apartamento</td>\n",
       "    </tr>\n",
       "    <tr>\n",
       "      <th>363</th>\n",
       "      <td>435000.0</td>\n",
       "      <td>1</td>\n",
       "      <td>5689.0</td>\n",
       "      <td>1</td>\n",
       "      <td>BelaVista</td>\n",
       "      <td>Apartamento</td>\n",
       "    </tr>\n",
       "    <tr>\n",
       "      <th>441</th>\n",
       "      <td>2490000.0</td>\n",
       "      <td>3</td>\n",
       "      <td>17446.0</td>\n",
       "      <td>3</td>\n",
       "      <td>BelaVista</td>\n",
       "      <td>Apartamento</td>\n",
       "    </tr>\n",
       "    <tr>\n",
       "      <th>444</th>\n",
       "      <td>9117117.0</td>\n",
       "      <td>4</td>\n",
       "      <td>50938.0</td>\n",
       "      <td>6</td>\n",
       "      <td>BelaVista</td>\n",
       "      <td>Cobertura</td>\n",
       "    </tr>\n",
       "    <tr>\n",
       "      <th>481</th>\n",
       "      <td>799000.0</td>\n",
       "      <td>3</td>\n",
       "      <td>10724.0</td>\n",
       "      <td>2</td>\n",
       "      <td>BelaVista</td>\n",
       "      <td>Apartamento</td>\n",
       "    </tr>\n",
       "    <tr>\n",
       "      <th>534</th>\n",
       "      <td>1700000.0</td>\n",
       "      <td>3</td>\n",
       "      <td>18852.0</td>\n",
       "      <td>3</td>\n",
       "      <td>BelaVista</td>\n",
       "      <td>Apartamento</td>\n",
       "    </tr>\n",
       "    <tr>\n",
       "      <th>597</th>\n",
       "      <td>1800000.0</td>\n",
       "      <td>3</td>\n",
       "      <td>211.0</td>\n",
       "      <td>3</td>\n",
       "      <td>BelaVista</td>\n",
       "      <td>Apartamento</td>\n",
       "    </tr>\n",
       "  </tbody>\n",
       "</table>\n",
       "</div>"
      ],
      "text/plain": [
       "         preco  dormitorios     area  vagas     bairro          tipo\n",
       "4    3053011.0            4   2713.0      4  BelaVista   Apartamento\n",
       "36   1349000.0            3    140.0      2  BelaVista   Apartamento\n",
       "88   1699000.0            3  14015.0      2  BelaVista   Apartamento\n",
       "114  1990000.0            3  18121.0      4  BelaVista   Apartamento\n",
       "120   779000.0            2   8337.0      2  BelaVista   Apartamento\n",
       "135  1400000.0            2   9904.0      2  BelaVista   Apartamento\n",
       "159   540000.0            1    649.0      2  BelaVista   Apartamento\n",
       "166  3420000.0            4  22602.0      4  BelaVista   Apartamento\n",
       "188  3896550.0            3  51954.0      4  BelaVista   Apartamento\n",
       "191  1699000.0            3  25062.0      2  BelaVista   Apartamento\n",
       "195  2071000.0            3  16345.0      2  BelaVista   Apartamento\n",
       "229  2090000.0            4  35071.0      3  BelaVista     Cobertura\n",
       "268  3240374.0            4   2576.0      4  BelaVista   Apartamento\n",
       "275  3303911.0            4   2576.0      4  BelaVista   Apartamento\n",
       "295  1390000.0            3  13879.0      2  BelaVista   Apartamento\n",
       "302  2700000.0            3   2578.0      4  BelaVista   Apartamento\n",
       "307   950000.0            3  10561.0      2  BelaVista   Apartamento\n",
       "357   990000.0            3  10561.0      3  BelaVista   Apartamento\n",
       "363   435000.0            1   5689.0      1  BelaVista   Apartamento\n",
       "441  2490000.0            3  17446.0      3  BelaVista   Apartamento\n",
       "444  9117117.0            4  50938.0      6  BelaVista     Cobertura\n",
       "481   799000.0            3  10724.0      2  BelaVista   Apartamento\n",
       "534  1700000.0            3  18852.0      3  BelaVista   Apartamento\n",
       "597  1800000.0            3    211.0      3  BelaVista   Apartamento"
      ]
     },
     "execution_count": 38,
     "metadata": {},
     "output_type": "execute_result"
    }
   ],
   "source": [
    "df.loc[df['bairro'] == \"BelaVista\"]"
   ]
  },
  {
   "cell_type": "code",
   "execution_count": 39,
   "metadata": {},
   "outputs": [],
   "source": [
    "df.to_csv('datasets/new_imoveis.csv', index = False)"
   ]
  }
 ],
 "metadata": {
  "kernelspec": {
   "display_name": "Python 3",
   "language": "python",
   "name": "python3"
  },
  "language_info": {
   "codemirror_mode": {
    "name": "ipython",
    "version": 3
   },
   "file_extension": ".py",
   "mimetype": "text/x-python",
   "name": "python",
   "nbconvert_exporter": "python",
   "pygments_lexer": "ipython3",
   "version": "3.7.6"
  }
 },
 "nbformat": 4,
 "nbformat_minor": 4
}
