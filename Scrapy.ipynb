{
 "cells": [
  {
   "cell_type": "markdown",
   "metadata": {},
   "source": [
    "# Limpando Dados após fazer um Scraping usando Scrapy"
   ]
  },
  {
   "cell_type": "markdown",
   "metadata": {},
   "source": [
    "Foi realizado um processo de Scraping numa página de Imóveis da cidade de Porto Alegre. O processo foi feito utilizando a biblioteca Scrapy e ao término foi gerado um arquivo JSON com os dados que foram coletados.\n",
    "Neste texto iremos analisar os dados que foram coletados e realizar a limpeza e manutenção....."
   ]
  },
  {
   "cell_type": "code",
   "execution_count": 1,
   "metadata": {},
   "outputs": [],
   "source": [
    "import pandas as pd\n",
    "import numpy as np\n",
    "\n",
    "import re"
   ]
  },
  {
   "cell_type": "code",
   "execution_count": 2,
   "metadata": {},
   "outputs": [],
   "source": [
    "file = \"datasets/imoveis.json\"\n",
    "\n",
    "df = pd.read_json(file, orient = 'records')"
   ]
  },
  {
   "cell_type": "code",
   "execution_count": 3,
   "metadata": {},
   "outputs": [
    {
     "data": {
      "text/html": [
       "<div>\n",
       "<style scoped>\n",
       "    .dataframe tbody tr th:only-of-type {\n",
       "        vertical-align: middle;\n",
       "    }\n",
       "\n",
       "    .dataframe tbody tr th {\n",
       "        vertical-align: top;\n",
       "    }\n",
       "\n",
       "    .dataframe thead th {\n",
       "        text-align: right;\n",
       "    }\n",
       "</style>\n",
       "<table border=\"1\" class=\"dataframe\">\n",
       "  <thead>\n",
       "    <tr style=\"text-align: right;\">\n",
       "      <th></th>\n",
       "      <th>preco</th>\n",
       "      <th>dormitorios</th>\n",
       "      <th>area</th>\n",
       "      <th>vagas</th>\n",
       "      <th>bairro</th>\n",
       "    </tr>\n",
       "  </thead>\n",
       "  <tbody>\n",
       "    <tr>\n",
       "      <th>0</th>\n",
       "      <td>[R$ 1.055.000]</td>\n",
       "      <td>[3]</td>\n",
       "      <td>[128]</td>\n",
       "      <td>[3]</td>\n",
       "      <td>[Imóvel 106391 - , Apartamento, \\n            ...</td>\n",
       "    </tr>\n",
       "    <tr>\n",
       "      <th>1</th>\n",
       "      <td>[R$ 1.112.000]</td>\n",
       "      <td>[3]</td>\n",
       "      <td>[136.34]</td>\n",
       "      <td>[2]</td>\n",
       "      <td>[Imóvel 130624 - , Apartamento, \\n            ...</td>\n",
       "    </tr>\n",
       "    <tr>\n",
       "      <th>2</th>\n",
       "      <td>[R$ 1.620.000]</td>\n",
       "      <td>[3]</td>\n",
       "      <td>[204.87]</td>\n",
       "      <td>[3]</td>\n",
       "      <td>[Imóvel 192740 - , Apartamento, \\n            ...</td>\n",
       "    </tr>\n",
       "    <tr>\n",
       "      <th>3</th>\n",
       "      <td>[R$ 1.190.000]</td>\n",
       "      <td>[3]</td>\n",
       "      <td>[241]</td>\n",
       "      <td>[2]</td>\n",
       "      <td>[Imóvel 196741 - , Casa, \\n                   ...</td>\n",
       "    </tr>\n",
       "    <tr>\n",
       "      <th>4</th>\n",
       "      <td>[R$ 3.053.011]</td>\n",
       "      <td>[4]</td>\n",
       "      <td>[271.3]</td>\n",
       "      <td>[4]</td>\n",
       "      <td>[Imóvel 183630 - , Apartamento, \\n            ...</td>\n",
       "    </tr>\n",
       "  </tbody>\n",
       "</table>\n",
       "</div>"
      ],
      "text/plain": [
       "            preco dormitorios      area vagas  \\\n",
       "0  [R$ 1.055.000]         [3]     [128]   [3]   \n",
       "1  [R$ 1.112.000]         [3]  [136.34]   [2]   \n",
       "2  [R$ 1.620.000]         [3]  [204.87]   [3]   \n",
       "3  [R$ 1.190.000]         [3]     [241]   [2]   \n",
       "4  [R$ 3.053.011]         [4]   [271.3]   [4]   \n",
       "\n",
       "                                              bairro  \n",
       "0  [Imóvel 106391 - , Apartamento, \\n            ...  \n",
       "1  [Imóvel 130624 - , Apartamento, \\n            ...  \n",
       "2  [Imóvel 192740 - , Apartamento, \\n            ...  \n",
       "3  [Imóvel 196741 - , Casa, \\n                   ...  \n",
       "4  [Imóvel 183630 - , Apartamento, \\n            ...  "
      ]
     },
     "execution_count": 3,
     "metadata": {},
     "output_type": "execute_result"
    }
   ],
   "source": [
    "df.head()"
   ]
  },
  {
   "cell_type": "code",
   "execution_count": 4,
   "metadata": {},
   "outputs": [
    {
     "data": {
      "text/plain": [
       "(600, 5)"
      ]
     },
     "execution_count": 4,
     "metadata": {},
     "output_type": "execute_result"
    }
   ],
   "source": [
    "df.shape"
   ]
  },
  {
   "cell_type": "code",
   "execution_count": 5,
   "metadata": {},
   "outputs": [
    {
     "data": {
      "text/plain": [
       "['preco', 'dormitorios', 'area', 'vagas', 'bairro']"
      ]
     },
     "execution_count": 5,
     "metadata": {},
     "output_type": "execute_result"
    }
   ],
   "source": [
    "list(df.columns)"
   ]
  },
  {
   "cell_type": "code",
   "execution_count": 6,
   "metadata": {},
   "outputs": [
    {
     "data": {
      "text/plain": [
       "preco          object\n",
       "dormitorios    object\n",
       "area           object\n",
       "vagas          object\n",
       "bairro         object\n",
       "dtype: object"
      ]
     },
     "execution_count": 6,
     "metadata": {},
     "output_type": "execute_result"
    }
   ],
   "source": [
    "df.dtypes"
   ]
  },
  {
   "cell_type": "markdown",
   "metadata": {},
   "source": [
    "Como vimos, as colunas 'preco', 'area' e 'vagas' estão com o tipo de dado 'object'. Por se tratarem de valores numéricos, iremos convertê-las para o tipo de dado numérico, possibilitando-nos futuramente tirarmos insights."
   ]
  },
  {
   "cell_type": "code",
   "execution_count": 7,
   "metadata": {},
   "outputs": [],
   "source": [
    "def cleaning_values(value):\n",
    "    value = str(value)\n",
    "    value = value.replace(\"Valor Previsto\", \"\").replace(\"R$\", \"\") \\\n",
    "                 .replace(\".\", \"\").replace(\"[\", \"\").replace(\"]\", \"\") \\\n",
    "                 .replace(\"'\", \"\").replace(\" \", \"\")\n",
    "    # print(value)\n",
    "\n",
    "    return value"
   ]
  },
  {
   "cell_type": "code",
   "execution_count": 8,
   "metadata": {},
   "outputs": [],
   "source": [
    "def cleaning_values_bairro(value):\n",
    "    value = str(value)\n",
    "    value = value.replace(\".\", \"\").replace(\"[\", \"\").replace(\"]\", \"\") \\\n",
    "                 .replace(\"Imóvel\", \"\").replace(\"-\", \"\") \\\n",
    "                 .replace(\"'\", \"\").replace(\"Porto Alegre\", \"\") \\\n",
    "                 .replace('\"', \"\").replace(\" \", \"\")\n",
    "    # print(value)\n",
    "\n",
    "    return value"
   ]
  },
  {
   "cell_type": "code",
   "execution_count": 9,
   "metadata": {},
   "outputs": [],
   "source": [
    "df_clean = df.copy()"
   ]
  },
  {
   "cell_type": "code",
   "execution_count": 10,
   "metadata": {},
   "outputs": [],
   "source": [
    "df_clean['area'] = df_clean['area'].apply(cleaning_values).astype(float)"
   ]
  },
  {
   "cell_type": "code",
   "execution_count": 11,
   "metadata": {},
   "outputs": [],
   "source": [
    "df_clean['preco'] = df_clean['preco'].apply(cleaning_values).astype(float)"
   ]
  },
  {
   "cell_type": "code",
   "execution_count": 12,
   "metadata": {},
   "outputs": [],
   "source": [
    "df_clean['dormitorios'] = df_clean['dormitorios'].apply(cleaning_values).astype(float)"
   ]
  },
  {
   "cell_type": "code",
   "execution_count": 13,
   "metadata": {},
   "outputs": [],
   "source": [
    "df_clean['vagas'] = df_clean['vagas'].apply(cleaning_values).astype(float)"
   ]
  },
  {
   "cell_type": "code",
   "execution_count": 14,
   "metadata": {},
   "outputs": [],
   "source": [
    "df_clean['bairro'] = df_clean['bairro'].apply(cleaning_values_bairro)"
   ]
  },
  {
   "cell_type": "code",
   "execution_count": 15,
   "metadata": {},
   "outputs": [],
   "source": [
    "df_clean['bairro'] = df_clean['bairro'].apply(lambda x : re.sub(r\"\\d\", \"\", str(x)))"
   ]
  },
  {
   "cell_type": "code",
   "execution_count": 16,
   "metadata": {},
   "outputs": [],
   "source": [
    "df_clean['tipo'] = df_clean['bairro'].apply(lambda x : re.split(',', x)[1])"
   ]
  },
  {
   "cell_type": "code",
   "execution_count": 17,
   "metadata": {},
   "outputs": [],
   "source": [
    "df_clean['bairro'] = df_clean['bairro'].apply(lambda x : re.split(',', x)[2])"
   ]
  },
  {
   "cell_type": "code",
   "execution_count": 18,
   "metadata": {},
   "outputs": [],
   "source": [
    "df_clean['bairro'] = df_clean['bairro'].apply(lambda x : re.sub(r'\\\\n', '', x))"
   ]
  },
  {
   "cell_type": "code",
   "execution_count": 19,
   "metadata": {},
   "outputs": [
    {
     "data": {
      "text/plain": [
       "0    Apartamento\n",
       "1    Apartamento\n",
       "2    Apartamento\n",
       "3           Casa\n",
       "4    Apartamento\n",
       "Name: tipo, dtype: object"
      ]
     },
     "execution_count": 19,
     "metadata": {},
     "output_type": "execute_result"
    }
   ],
   "source": [
    "df_clean['tipo'].head()"
   ]
  },
  {
   "cell_type": "code",
   "execution_count": 20,
   "metadata": {},
   "outputs": [
    {
     "data": {
      "text/plain": [
       "0    CentralParque\n",
       "1       MeninoDeus\n",
       "2        RioBranco\n",
       "3          Sarandi\n",
       "4        BelaVista\n",
       "Name: bairro, dtype: object"
      ]
     },
     "execution_count": 20,
     "metadata": {},
     "output_type": "execute_result"
    }
   ],
   "source": [
    "df_clean['bairro'].head()"
   ]
  },
  {
   "cell_type": "code",
   "execution_count": 21,
   "metadata": {},
   "outputs": [
    {
     "data": {
      "text/plain": [
       "preco           0\n",
       "dormitorios     8\n",
       "area            0\n",
       "vagas          21\n",
       "bairro          0\n",
       "tipo            0\n",
       "dtype: int64"
      ]
     },
     "execution_count": 21,
     "metadata": {},
     "output_type": "execute_result"
    }
   ],
   "source": [
    "df_clean.isnull().sum()\n",
    "\n",
    "# FILLNA"
   ]
  },
  {
   "cell_type": "code",
   "execution_count": 22,
   "metadata": {},
   "outputs": [
    {
     "data": {
      "text/plain": [
       "preco          float64\n",
       "dormitorios    float64\n",
       "area           float64\n",
       "vagas          float64\n",
       "bairro          object\n",
       "tipo            object\n",
       "dtype: object"
      ]
     },
     "execution_count": 22,
     "metadata": {},
     "output_type": "execute_result"
    }
   ],
   "source": [
    "df_clean.dtypes"
   ]
  },
  {
   "cell_type": "code",
   "execution_count": 23,
   "metadata": {},
   "outputs": [
    {
     "data": {
      "text/plain": [
       "29"
      ]
     },
     "execution_count": 23,
     "metadata": {},
     "output_type": "execute_result"
    }
   ],
   "source": [
    "df_clean.isnull().sum().values.sum()"
   ]
  },
  {
   "cell_type": "code",
   "execution_count": 24,
   "metadata": {},
   "outputs": [
    {
     "data": {
      "text/html": [
       "<div>\n",
       "<style scoped>\n",
       "    .dataframe tbody tr th:only-of-type {\n",
       "        vertical-align: middle;\n",
       "    }\n",
       "\n",
       "    .dataframe tbody tr th {\n",
       "        vertical-align: top;\n",
       "    }\n",
       "\n",
       "    .dataframe thead th {\n",
       "        text-align: right;\n",
       "    }\n",
       "</style>\n",
       "<table border=\"1\" class=\"dataframe\">\n",
       "  <thead>\n",
       "    <tr style=\"text-align: right;\">\n",
       "      <th></th>\n",
       "      <th>preco</th>\n",
       "      <th>dormitorios</th>\n",
       "      <th>area</th>\n",
       "      <th>vagas</th>\n",
       "    </tr>\n",
       "  </thead>\n",
       "  <tbody>\n",
       "    <tr>\n",
       "      <th>count</th>\n",
       "      <td>6.000000e+02</td>\n",
       "      <td>592.000000</td>\n",
       "      <td>600.000000</td>\n",
       "      <td>579.000000</td>\n",
       "    </tr>\n",
       "    <tr>\n",
       "      <th>mean</th>\n",
       "      <td>8.636065e+05</td>\n",
       "      <td>2.584459</td>\n",
       "      <td>8829.695000</td>\n",
       "      <td>1.787565</td>\n",
       "    </tr>\n",
       "    <tr>\n",
       "      <th>std</th>\n",
       "      <td>9.296298e+05</td>\n",
       "      <td>0.764899</td>\n",
       "      <td>14787.265011</td>\n",
       "      <td>0.978020</td>\n",
       "    </tr>\n",
       "    <tr>\n",
       "      <th>min</th>\n",
       "      <td>1.178000e+05</td>\n",
       "      <td>1.000000</td>\n",
       "      <td>42.000000</td>\n",
       "      <td>1.000000</td>\n",
       "    </tr>\n",
       "    <tr>\n",
       "      <th>25%</th>\n",
       "      <td>3.800000e+05</td>\n",
       "      <td>2.000000</td>\n",
       "      <td>685.750000</td>\n",
       "      <td>1.000000</td>\n",
       "    </tr>\n",
       "    <tr>\n",
       "      <th>50%</th>\n",
       "      <td>5.870000e+05</td>\n",
       "      <td>3.000000</td>\n",
       "      <td>6530.000000</td>\n",
       "      <td>2.000000</td>\n",
       "    </tr>\n",
       "    <tr>\n",
       "      <th>75%</th>\n",
       "      <td>9.710585e+05</td>\n",
       "      <td>3.000000</td>\n",
       "      <td>10249.000000</td>\n",
       "      <td>2.000000</td>\n",
       "    </tr>\n",
       "    <tr>\n",
       "      <th>max</th>\n",
       "      <td>9.117117e+06</td>\n",
       "      <td>6.000000</td>\n",
       "      <td>229098.000000</td>\n",
       "      <td>8.000000</td>\n",
       "    </tr>\n",
       "  </tbody>\n",
       "</table>\n",
       "</div>"
      ],
      "text/plain": [
       "              preco  dormitorios           area       vagas\n",
       "count  6.000000e+02   592.000000     600.000000  579.000000\n",
       "mean   8.636065e+05     2.584459    8829.695000    1.787565\n",
       "std    9.296298e+05     0.764899   14787.265011    0.978020\n",
       "min    1.178000e+05     1.000000      42.000000    1.000000\n",
       "25%    3.800000e+05     2.000000     685.750000    1.000000\n",
       "50%    5.870000e+05     3.000000    6530.000000    2.000000\n",
       "75%    9.710585e+05     3.000000   10249.000000    2.000000\n",
       "max    9.117117e+06     6.000000  229098.000000    8.000000"
      ]
     },
     "execution_count": 24,
     "metadata": {},
     "output_type": "execute_result"
    }
   ],
   "source": [
    "df_clean.describe()"
   ]
  },
  {
   "cell_type": "code",
   "execution_count": 25,
   "metadata": {},
   "outputs": [
    {
     "data": {
      "text/plain": [
       "area\n",
       "42.0         325000.0\n",
       "45.0         440000.0\n",
       "46.0         220000.0\n",
       "48.0         219000.0\n",
       "51.0         280000.0\n",
       "              ...    \n",
       "75151.0     6500000.0\n",
       "98528.0      630000.0\n",
       "99616.0      769000.0\n",
       "136512.0    1100000.0\n",
       "229098.0    1500000.0\n",
       "Name: preco, Length: 490, dtype: float64"
      ]
     },
     "execution_count": 25,
     "metadata": {},
     "output_type": "execute_result"
    }
   ],
   "source": [
    "df_clean.groupby(by = 'area').preco.mean()"
   ]
  },
  {
   "cell_type": "code",
   "execution_count": null,
   "metadata": {},
   "outputs": [],
   "source": []
  }
 ],
 "metadata": {
  "kernelspec": {
   "display_name": "Python 3",
   "language": "python",
   "name": "python3"
  },
  "language_info": {
   "codemirror_mode": {
    "name": "ipython",
    "version": 3
   },
   "file_extension": ".py",
   "mimetype": "text/x-python",
   "name": "python",
   "nbconvert_exporter": "python",
   "pygments_lexer": "ipython3",
   "version": "3.7.6"
  }
 },
 "nbformat": 4,
 "nbformat_minor": 4
}
